{
  "nbformat": 4,
  "nbformat_minor": 0,
  "metadata": {
    "colab": {
      "name": "7. Modern Convolutional Neural Networks.ipynb",
      "provenance": []
    },
    "kernelspec": {
      "name": "python3",
      "display_name": "Python 3"
    },
    "language_info": {
      "name": "python"
    },
    "accelerator": "GPU",
    "widgets": {
      "application/vnd.jupyter.widget-state+json": {
        "a79037e0235049c5a2fedbdccedea616": {
          "model_module": "@jupyter-widgets/controls",
          "model_name": "HBoxModel",
          "model_module_version": "1.5.0",
          "state": {
            "_view_name": "HBoxView",
            "_dom_classes": [],
            "_model_name": "HBoxModel",
            "_view_module": "@jupyter-widgets/controls",
            "_model_module_version": "1.5.0",
            "_view_count": null,
            "_view_module_version": "1.5.0",
            "box_style": "",
            "layout": "IPY_MODEL_4ae324c7f0744dcdb2b1c81483d2ea0c",
            "_model_module": "@jupyter-widgets/controls",
            "children": [
              "IPY_MODEL_3950971611754b47b88f38a73f6b783c",
              "IPY_MODEL_a64489ede23e44018ae2eeb1e66a0fd6",
              "IPY_MODEL_a92508aa2cb442e6af8a3f56555085e4"
            ]
          }
        },
        "4ae324c7f0744dcdb2b1c81483d2ea0c": {
          "model_module": "@jupyter-widgets/base",
          "model_name": "LayoutModel",
          "model_module_version": "1.2.0",
          "state": {
            "_view_name": "LayoutView",
            "grid_template_rows": null,
            "right": null,
            "justify_content": null,
            "_view_module": "@jupyter-widgets/base",
            "overflow": null,
            "_model_module_version": "1.2.0",
            "_view_count": null,
            "flex_flow": null,
            "width": null,
            "min_width": null,
            "border": null,
            "align_items": null,
            "bottom": null,
            "_model_module": "@jupyter-widgets/base",
            "top": null,
            "grid_column": null,
            "overflow_y": null,
            "overflow_x": null,
            "grid_auto_flow": null,
            "grid_area": null,
            "grid_template_columns": null,
            "flex": null,
            "_model_name": "LayoutModel",
            "justify_items": null,
            "grid_row": null,
            "max_height": null,
            "align_content": null,
            "visibility": null,
            "align_self": null,
            "height": null,
            "min_height": null,
            "padding": null,
            "grid_auto_rows": null,
            "grid_gap": null,
            "max_width": null,
            "order": null,
            "_view_module_version": "1.2.0",
            "grid_template_areas": null,
            "object_position": null,
            "object_fit": null,
            "grid_auto_columns": null,
            "margin": null,
            "display": null,
            "left": null
          }
        },
        "3950971611754b47b88f38a73f6b783c": {
          "model_module": "@jupyter-widgets/controls",
          "model_name": "HTMLModel",
          "model_module_version": "1.5.0",
          "state": {
            "_view_name": "HTMLView",
            "style": "IPY_MODEL_54aa2d0ec1614980961d0679fa21929a",
            "_dom_classes": [],
            "description": "",
            "_model_name": "HTMLModel",
            "placeholder": "​",
            "_view_module": "@jupyter-widgets/controls",
            "_model_module_version": "1.5.0",
            "value": "",
            "_view_count": null,
            "_view_module_version": "1.5.0",
            "description_tooltip": null,
            "_model_module": "@jupyter-widgets/controls",
            "layout": "IPY_MODEL_e0c2a09c53f341aea414854ba77797fb"
          }
        },
        "a64489ede23e44018ae2eeb1e66a0fd6": {
          "model_module": "@jupyter-widgets/controls",
          "model_name": "FloatProgressModel",
          "model_module_version": "1.5.0",
          "state": {
            "_view_name": "ProgressView",
            "style": "IPY_MODEL_ef2ee5ec14c34940bedecaed9e3450c8",
            "_dom_classes": [],
            "description": "",
            "_model_name": "FloatProgressModel",
            "bar_style": "success",
            "max": 26421880,
            "_view_module": "@jupyter-widgets/controls",
            "_model_module_version": "1.5.0",
            "value": 26421880,
            "_view_count": null,
            "_view_module_version": "1.5.0",
            "orientation": "horizontal",
            "min": 0,
            "description_tooltip": null,
            "_model_module": "@jupyter-widgets/controls",
            "layout": "IPY_MODEL_85cc03c08e7e4a389d8b4db546fbe7a9"
          }
        },
        "a92508aa2cb442e6af8a3f56555085e4": {
          "model_module": "@jupyter-widgets/controls",
          "model_name": "HTMLModel",
          "model_module_version": "1.5.0",
          "state": {
            "_view_name": "HTMLView",
            "style": "IPY_MODEL_5616fcc19e7e4f5eb1914a9d6a3f9009",
            "_dom_classes": [],
            "description": "",
            "_model_name": "HTMLModel",
            "placeholder": "​",
            "_view_module": "@jupyter-widgets/controls",
            "_model_module_version": "1.5.0",
            "value": " 26422272/? [00:01&lt;00:00, 20996531.41it/s]",
            "_view_count": null,
            "_view_module_version": "1.5.0",
            "description_tooltip": null,
            "_model_module": "@jupyter-widgets/controls",
            "layout": "IPY_MODEL_ebb85d5d33c6487c8c921e542f51c1c0"
          }
        },
        "54aa2d0ec1614980961d0679fa21929a": {
          "model_module": "@jupyter-widgets/controls",
          "model_name": "DescriptionStyleModel",
          "model_module_version": "1.5.0",
          "state": {
            "_view_name": "StyleView",
            "_model_name": "DescriptionStyleModel",
            "description_width": "",
            "_view_module": "@jupyter-widgets/base",
            "_model_module_version": "1.5.0",
            "_view_count": null,
            "_view_module_version": "1.2.0",
            "_model_module": "@jupyter-widgets/controls"
          }
        },
        "e0c2a09c53f341aea414854ba77797fb": {
          "model_module": "@jupyter-widgets/base",
          "model_name": "LayoutModel",
          "model_module_version": "1.2.0",
          "state": {
            "_view_name": "LayoutView",
            "grid_template_rows": null,
            "right": null,
            "justify_content": null,
            "_view_module": "@jupyter-widgets/base",
            "overflow": null,
            "_model_module_version": "1.2.0",
            "_view_count": null,
            "flex_flow": null,
            "width": null,
            "min_width": null,
            "border": null,
            "align_items": null,
            "bottom": null,
            "_model_module": "@jupyter-widgets/base",
            "top": null,
            "grid_column": null,
            "overflow_y": null,
            "overflow_x": null,
            "grid_auto_flow": null,
            "grid_area": null,
            "grid_template_columns": null,
            "flex": null,
            "_model_name": "LayoutModel",
            "justify_items": null,
            "grid_row": null,
            "max_height": null,
            "align_content": null,
            "visibility": null,
            "align_self": null,
            "height": null,
            "min_height": null,
            "padding": null,
            "grid_auto_rows": null,
            "grid_gap": null,
            "max_width": null,
            "order": null,
            "_view_module_version": "1.2.0",
            "grid_template_areas": null,
            "object_position": null,
            "object_fit": null,
            "grid_auto_columns": null,
            "margin": null,
            "display": null,
            "left": null
          }
        },
        "ef2ee5ec14c34940bedecaed9e3450c8": {
          "model_module": "@jupyter-widgets/controls",
          "model_name": "ProgressStyleModel",
          "model_module_version": "1.5.0",
          "state": {
            "_view_name": "StyleView",
            "_model_name": "ProgressStyleModel",
            "description_width": "",
            "_view_module": "@jupyter-widgets/base",
            "_model_module_version": "1.5.0",
            "_view_count": null,
            "_view_module_version": "1.2.0",
            "bar_color": null,
            "_model_module": "@jupyter-widgets/controls"
          }
        },
        "85cc03c08e7e4a389d8b4db546fbe7a9": {
          "model_module": "@jupyter-widgets/base",
          "model_name": "LayoutModel",
          "model_module_version": "1.2.0",
          "state": {
            "_view_name": "LayoutView",
            "grid_template_rows": null,
            "right": null,
            "justify_content": null,
            "_view_module": "@jupyter-widgets/base",
            "overflow": null,
            "_model_module_version": "1.2.0",
            "_view_count": null,
            "flex_flow": null,
            "width": null,
            "min_width": null,
            "border": null,
            "align_items": null,
            "bottom": null,
            "_model_module": "@jupyter-widgets/base",
            "top": null,
            "grid_column": null,
            "overflow_y": null,
            "overflow_x": null,
            "grid_auto_flow": null,
            "grid_area": null,
            "grid_template_columns": null,
            "flex": null,
            "_model_name": "LayoutModel",
            "justify_items": null,
            "grid_row": null,
            "max_height": null,
            "align_content": null,
            "visibility": null,
            "align_self": null,
            "height": null,
            "min_height": null,
            "padding": null,
            "grid_auto_rows": null,
            "grid_gap": null,
            "max_width": null,
            "order": null,
            "_view_module_version": "1.2.0",
            "grid_template_areas": null,
            "object_position": null,
            "object_fit": null,
            "grid_auto_columns": null,
            "margin": null,
            "display": null,
            "left": null
          }
        },
        "5616fcc19e7e4f5eb1914a9d6a3f9009": {
          "model_module": "@jupyter-widgets/controls",
          "model_name": "DescriptionStyleModel",
          "model_module_version": "1.5.0",
          "state": {
            "_view_name": "StyleView",
            "_model_name": "DescriptionStyleModel",
            "description_width": "",
            "_view_module": "@jupyter-widgets/base",
            "_model_module_version": "1.5.0",
            "_view_count": null,
            "_view_module_version": "1.2.0",
            "_model_module": "@jupyter-widgets/controls"
          }
        },
        "ebb85d5d33c6487c8c921e542f51c1c0": {
          "model_module": "@jupyter-widgets/base",
          "model_name": "LayoutModel",
          "model_module_version": "1.2.0",
          "state": {
            "_view_name": "LayoutView",
            "grid_template_rows": null,
            "right": null,
            "justify_content": null,
            "_view_module": "@jupyter-widgets/base",
            "overflow": null,
            "_model_module_version": "1.2.0",
            "_view_count": null,
            "flex_flow": null,
            "width": null,
            "min_width": null,
            "border": null,
            "align_items": null,
            "bottom": null,
            "_model_module": "@jupyter-widgets/base",
            "top": null,
            "grid_column": null,
            "overflow_y": null,
            "overflow_x": null,
            "grid_auto_flow": null,
            "grid_area": null,
            "grid_template_columns": null,
            "flex": null,
            "_model_name": "LayoutModel",
            "justify_items": null,
            "grid_row": null,
            "max_height": null,
            "align_content": null,
            "visibility": null,
            "align_self": null,
            "height": null,
            "min_height": null,
            "padding": null,
            "grid_auto_rows": null,
            "grid_gap": null,
            "max_width": null,
            "order": null,
            "_view_module_version": "1.2.0",
            "grid_template_areas": null,
            "object_position": null,
            "object_fit": null,
            "grid_auto_columns": null,
            "margin": null,
            "display": null,
            "left": null
          }
        },
        "f8b4206cf46a4be18762391542d776da": {
          "model_module": "@jupyter-widgets/controls",
          "model_name": "HBoxModel",
          "model_module_version": "1.5.0",
          "state": {
            "_view_name": "HBoxView",
            "_dom_classes": [],
            "_model_name": "HBoxModel",
            "_view_module": "@jupyter-widgets/controls",
            "_model_module_version": "1.5.0",
            "_view_count": null,
            "_view_module_version": "1.5.0",
            "box_style": "",
            "layout": "IPY_MODEL_7a296859fc754e8f8fa2a04514664902",
            "_model_module": "@jupyter-widgets/controls",
            "children": [
              "IPY_MODEL_c09412dc1ab742d4b1eec78299dbbc7a",
              "IPY_MODEL_e60038813da24a0cb7299885472f71a0",
              "IPY_MODEL_6fb1ed386d2e4f0088b818484b19d645"
            ]
          }
        },
        "7a296859fc754e8f8fa2a04514664902": {
          "model_module": "@jupyter-widgets/base",
          "model_name": "LayoutModel",
          "model_module_version": "1.2.0",
          "state": {
            "_view_name": "LayoutView",
            "grid_template_rows": null,
            "right": null,
            "justify_content": null,
            "_view_module": "@jupyter-widgets/base",
            "overflow": null,
            "_model_module_version": "1.2.0",
            "_view_count": null,
            "flex_flow": null,
            "width": null,
            "min_width": null,
            "border": null,
            "align_items": null,
            "bottom": null,
            "_model_module": "@jupyter-widgets/base",
            "top": null,
            "grid_column": null,
            "overflow_y": null,
            "overflow_x": null,
            "grid_auto_flow": null,
            "grid_area": null,
            "grid_template_columns": null,
            "flex": null,
            "_model_name": "LayoutModel",
            "justify_items": null,
            "grid_row": null,
            "max_height": null,
            "align_content": null,
            "visibility": null,
            "align_self": null,
            "height": null,
            "min_height": null,
            "padding": null,
            "grid_auto_rows": null,
            "grid_gap": null,
            "max_width": null,
            "order": null,
            "_view_module_version": "1.2.0",
            "grid_template_areas": null,
            "object_position": null,
            "object_fit": null,
            "grid_auto_columns": null,
            "margin": null,
            "display": null,
            "left": null
          }
        },
        "c09412dc1ab742d4b1eec78299dbbc7a": {
          "model_module": "@jupyter-widgets/controls",
          "model_name": "HTMLModel",
          "model_module_version": "1.5.0",
          "state": {
            "_view_name": "HTMLView",
            "style": "IPY_MODEL_27a91ffc61694d0cbe8fa621935de810",
            "_dom_classes": [],
            "description": "",
            "_model_name": "HTMLModel",
            "placeholder": "​",
            "_view_module": "@jupyter-widgets/controls",
            "_model_module_version": "1.5.0",
            "value": "",
            "_view_count": null,
            "_view_module_version": "1.5.0",
            "description_tooltip": null,
            "_model_module": "@jupyter-widgets/controls",
            "layout": "IPY_MODEL_8b6c90e2dc5c42cbb0b5703c673b27a3"
          }
        },
        "e60038813da24a0cb7299885472f71a0": {
          "model_module": "@jupyter-widgets/controls",
          "model_name": "FloatProgressModel",
          "model_module_version": "1.5.0",
          "state": {
            "_view_name": "ProgressView",
            "style": "IPY_MODEL_c308f505fb9449e89c4fef2d959a57ca",
            "_dom_classes": [],
            "description": "",
            "_model_name": "FloatProgressModel",
            "bar_style": "success",
            "max": 29515,
            "_view_module": "@jupyter-widgets/controls",
            "_model_module_version": "1.5.0",
            "value": 29515,
            "_view_count": null,
            "_view_module_version": "1.5.0",
            "orientation": "horizontal",
            "min": 0,
            "description_tooltip": null,
            "_model_module": "@jupyter-widgets/controls",
            "layout": "IPY_MODEL_24a6ecda18fd4de58bcf0515744af74a"
          }
        },
        "6fb1ed386d2e4f0088b818484b19d645": {
          "model_module": "@jupyter-widgets/controls",
          "model_name": "HTMLModel",
          "model_module_version": "1.5.0",
          "state": {
            "_view_name": "HTMLView",
            "style": "IPY_MODEL_ddb264f4833a4cfd9295f27491e1d193",
            "_dom_classes": [],
            "description": "",
            "_model_name": "HTMLModel",
            "placeholder": "​",
            "_view_module": "@jupyter-widgets/controls",
            "_model_module_version": "1.5.0",
            "value": " 29696/? [00:00&lt;00:00, 111648.22it/s]",
            "_view_count": null,
            "_view_module_version": "1.5.0",
            "description_tooltip": null,
            "_model_module": "@jupyter-widgets/controls",
            "layout": "IPY_MODEL_61189360e53b467fb3634652e63bd18c"
          }
        },
        "27a91ffc61694d0cbe8fa621935de810": {
          "model_module": "@jupyter-widgets/controls",
          "model_name": "DescriptionStyleModel",
          "model_module_version": "1.5.0",
          "state": {
            "_view_name": "StyleView",
            "_model_name": "DescriptionStyleModel",
            "description_width": "",
            "_view_module": "@jupyter-widgets/base",
            "_model_module_version": "1.5.0",
            "_view_count": null,
            "_view_module_version": "1.2.0",
            "_model_module": "@jupyter-widgets/controls"
          }
        },
        "8b6c90e2dc5c42cbb0b5703c673b27a3": {
          "model_module": "@jupyter-widgets/base",
          "model_name": "LayoutModel",
          "model_module_version": "1.2.0",
          "state": {
            "_view_name": "LayoutView",
            "grid_template_rows": null,
            "right": null,
            "justify_content": null,
            "_view_module": "@jupyter-widgets/base",
            "overflow": null,
            "_model_module_version": "1.2.0",
            "_view_count": null,
            "flex_flow": null,
            "width": null,
            "min_width": null,
            "border": null,
            "align_items": null,
            "bottom": null,
            "_model_module": "@jupyter-widgets/base",
            "top": null,
            "grid_column": null,
            "overflow_y": null,
            "overflow_x": null,
            "grid_auto_flow": null,
            "grid_area": null,
            "grid_template_columns": null,
            "flex": null,
            "_model_name": "LayoutModel",
            "justify_items": null,
            "grid_row": null,
            "max_height": null,
            "align_content": null,
            "visibility": null,
            "align_self": null,
            "height": null,
            "min_height": null,
            "padding": null,
            "grid_auto_rows": null,
            "grid_gap": null,
            "max_width": null,
            "order": null,
            "_view_module_version": "1.2.0",
            "grid_template_areas": null,
            "object_position": null,
            "object_fit": null,
            "grid_auto_columns": null,
            "margin": null,
            "display": null,
            "left": null
          }
        },
        "c308f505fb9449e89c4fef2d959a57ca": {
          "model_module": "@jupyter-widgets/controls",
          "model_name": "ProgressStyleModel",
          "model_module_version": "1.5.0",
          "state": {
            "_view_name": "StyleView",
            "_model_name": "ProgressStyleModel",
            "description_width": "",
            "_view_module": "@jupyter-widgets/base",
            "_model_module_version": "1.5.0",
            "_view_count": null,
            "_view_module_version": "1.2.0",
            "bar_color": null,
            "_model_module": "@jupyter-widgets/controls"
          }
        },
        "24a6ecda18fd4de58bcf0515744af74a": {
          "model_module": "@jupyter-widgets/base",
          "model_name": "LayoutModel",
          "model_module_version": "1.2.0",
          "state": {
            "_view_name": "LayoutView",
            "grid_template_rows": null,
            "right": null,
            "justify_content": null,
            "_view_module": "@jupyter-widgets/base",
            "overflow": null,
            "_model_module_version": "1.2.0",
            "_view_count": null,
            "flex_flow": null,
            "width": null,
            "min_width": null,
            "border": null,
            "align_items": null,
            "bottom": null,
            "_model_module": "@jupyter-widgets/base",
            "top": null,
            "grid_column": null,
            "overflow_y": null,
            "overflow_x": null,
            "grid_auto_flow": null,
            "grid_area": null,
            "grid_template_columns": null,
            "flex": null,
            "_model_name": "LayoutModel",
            "justify_items": null,
            "grid_row": null,
            "max_height": null,
            "align_content": null,
            "visibility": null,
            "align_self": null,
            "height": null,
            "min_height": null,
            "padding": null,
            "grid_auto_rows": null,
            "grid_gap": null,
            "max_width": null,
            "order": null,
            "_view_module_version": "1.2.0",
            "grid_template_areas": null,
            "object_position": null,
            "object_fit": null,
            "grid_auto_columns": null,
            "margin": null,
            "display": null,
            "left": null
          }
        },
        "ddb264f4833a4cfd9295f27491e1d193": {
          "model_module": "@jupyter-widgets/controls",
          "model_name": "DescriptionStyleModel",
          "model_module_version": "1.5.0",
          "state": {
            "_view_name": "StyleView",
            "_model_name": "DescriptionStyleModel",
            "description_width": "",
            "_view_module": "@jupyter-widgets/base",
            "_model_module_version": "1.5.0",
            "_view_count": null,
            "_view_module_version": "1.2.0",
            "_model_module": "@jupyter-widgets/controls"
          }
        },
        "61189360e53b467fb3634652e63bd18c": {
          "model_module": "@jupyter-widgets/base",
          "model_name": "LayoutModel",
          "model_module_version": "1.2.0",
          "state": {
            "_view_name": "LayoutView",
            "grid_template_rows": null,
            "right": null,
            "justify_content": null,
            "_view_module": "@jupyter-widgets/base",
            "overflow": null,
            "_model_module_version": "1.2.0",
            "_view_count": null,
            "flex_flow": null,
            "width": null,
            "min_width": null,
            "border": null,
            "align_items": null,
            "bottom": null,
            "_model_module": "@jupyter-widgets/base",
            "top": null,
            "grid_column": null,
            "overflow_y": null,
            "overflow_x": null,
            "grid_auto_flow": null,
            "grid_area": null,
            "grid_template_columns": null,
            "flex": null,
            "_model_name": "LayoutModel",
            "justify_items": null,
            "grid_row": null,
            "max_height": null,
            "align_content": null,
            "visibility": null,
            "align_self": null,
            "height": null,
            "min_height": null,
            "padding": null,
            "grid_auto_rows": null,
            "grid_gap": null,
            "max_width": null,
            "order": null,
            "_view_module_version": "1.2.0",
            "grid_template_areas": null,
            "object_position": null,
            "object_fit": null,
            "grid_auto_columns": null,
            "margin": null,
            "display": null,
            "left": null
          }
        },
        "fbf727a7938d4931ac1a55943f7216dc": {
          "model_module": "@jupyter-widgets/controls",
          "model_name": "HBoxModel",
          "model_module_version": "1.5.0",
          "state": {
            "_view_name": "HBoxView",
            "_dom_classes": [],
            "_model_name": "HBoxModel",
            "_view_module": "@jupyter-widgets/controls",
            "_model_module_version": "1.5.0",
            "_view_count": null,
            "_view_module_version": "1.5.0",
            "box_style": "",
            "layout": "IPY_MODEL_d9ec46e94eb5499caa4bc47e2a84cd34",
            "_model_module": "@jupyter-widgets/controls",
            "children": [
              "IPY_MODEL_c2eced597a624b56a7f032b116d4ec07",
              "IPY_MODEL_fc6faa9bf3e042a98f3b023a4817e9f4",
              "IPY_MODEL_2a71b19c43a0422e9f47132ea3757671"
            ]
          }
        },
        "d9ec46e94eb5499caa4bc47e2a84cd34": {
          "model_module": "@jupyter-widgets/base",
          "model_name": "LayoutModel",
          "model_module_version": "1.2.0",
          "state": {
            "_view_name": "LayoutView",
            "grid_template_rows": null,
            "right": null,
            "justify_content": null,
            "_view_module": "@jupyter-widgets/base",
            "overflow": null,
            "_model_module_version": "1.2.0",
            "_view_count": null,
            "flex_flow": null,
            "width": null,
            "min_width": null,
            "border": null,
            "align_items": null,
            "bottom": null,
            "_model_module": "@jupyter-widgets/base",
            "top": null,
            "grid_column": null,
            "overflow_y": null,
            "overflow_x": null,
            "grid_auto_flow": null,
            "grid_area": null,
            "grid_template_columns": null,
            "flex": null,
            "_model_name": "LayoutModel",
            "justify_items": null,
            "grid_row": null,
            "max_height": null,
            "align_content": null,
            "visibility": null,
            "align_self": null,
            "height": null,
            "min_height": null,
            "padding": null,
            "grid_auto_rows": null,
            "grid_gap": null,
            "max_width": null,
            "order": null,
            "_view_module_version": "1.2.0",
            "grid_template_areas": null,
            "object_position": null,
            "object_fit": null,
            "grid_auto_columns": null,
            "margin": null,
            "display": null,
            "left": null
          }
        },
        "c2eced597a624b56a7f032b116d4ec07": {
          "model_module": "@jupyter-widgets/controls",
          "model_name": "HTMLModel",
          "model_module_version": "1.5.0",
          "state": {
            "_view_name": "HTMLView",
            "style": "IPY_MODEL_8c03268ca56b4d478ac27297a5d6e716",
            "_dom_classes": [],
            "description": "",
            "_model_name": "HTMLModel",
            "placeholder": "​",
            "_view_module": "@jupyter-widgets/controls",
            "_model_module_version": "1.5.0",
            "value": "",
            "_view_count": null,
            "_view_module_version": "1.5.0",
            "description_tooltip": null,
            "_model_module": "@jupyter-widgets/controls",
            "layout": "IPY_MODEL_b99a026a15e844d3b03e3c02be19b8da"
          }
        },
        "fc6faa9bf3e042a98f3b023a4817e9f4": {
          "model_module": "@jupyter-widgets/controls",
          "model_name": "FloatProgressModel",
          "model_module_version": "1.5.0",
          "state": {
            "_view_name": "ProgressView",
            "style": "IPY_MODEL_9b6747caa80c4150ac84742f4b6acff9",
            "_dom_classes": [],
            "description": "",
            "_model_name": "FloatProgressModel",
            "bar_style": "success",
            "max": 4422102,
            "_view_module": "@jupyter-widgets/controls",
            "_model_module_version": "1.5.0",
            "value": 4422102,
            "_view_count": null,
            "_view_module_version": "1.5.0",
            "orientation": "horizontal",
            "min": 0,
            "description_tooltip": null,
            "_model_module": "@jupyter-widgets/controls",
            "layout": "IPY_MODEL_de8642398eb9406384f866741facc423"
          }
        },
        "2a71b19c43a0422e9f47132ea3757671": {
          "model_module": "@jupyter-widgets/controls",
          "model_name": "HTMLModel",
          "model_module_version": "1.5.0",
          "state": {
            "_view_name": "HTMLView",
            "style": "IPY_MODEL_a7f5fbf772ae4e3ea1d7feb3a50f4ca7",
            "_dom_classes": [],
            "description": "",
            "_model_name": "HTMLModel",
            "placeholder": "​",
            "_view_module": "@jupyter-widgets/controls",
            "_model_module_version": "1.5.0",
            "value": " 4422656/? [00:00&lt;00:00, 5791305.36it/s]",
            "_view_count": null,
            "_view_module_version": "1.5.0",
            "description_tooltip": null,
            "_model_module": "@jupyter-widgets/controls",
            "layout": "IPY_MODEL_5b6ed2edcd4842fbb0c8c98668c15ecb"
          }
        },
        "8c03268ca56b4d478ac27297a5d6e716": {
          "model_module": "@jupyter-widgets/controls",
          "model_name": "DescriptionStyleModel",
          "model_module_version": "1.5.0",
          "state": {
            "_view_name": "StyleView",
            "_model_name": "DescriptionStyleModel",
            "description_width": "",
            "_view_module": "@jupyter-widgets/base",
            "_model_module_version": "1.5.0",
            "_view_count": null,
            "_view_module_version": "1.2.0",
            "_model_module": "@jupyter-widgets/controls"
          }
        },
        "b99a026a15e844d3b03e3c02be19b8da": {
          "model_module": "@jupyter-widgets/base",
          "model_name": "LayoutModel",
          "model_module_version": "1.2.0",
          "state": {
            "_view_name": "LayoutView",
            "grid_template_rows": null,
            "right": null,
            "justify_content": null,
            "_view_module": "@jupyter-widgets/base",
            "overflow": null,
            "_model_module_version": "1.2.0",
            "_view_count": null,
            "flex_flow": null,
            "width": null,
            "min_width": null,
            "border": null,
            "align_items": null,
            "bottom": null,
            "_model_module": "@jupyter-widgets/base",
            "top": null,
            "grid_column": null,
            "overflow_y": null,
            "overflow_x": null,
            "grid_auto_flow": null,
            "grid_area": null,
            "grid_template_columns": null,
            "flex": null,
            "_model_name": "LayoutModel",
            "justify_items": null,
            "grid_row": null,
            "max_height": null,
            "align_content": null,
            "visibility": null,
            "align_self": null,
            "height": null,
            "min_height": null,
            "padding": null,
            "grid_auto_rows": null,
            "grid_gap": null,
            "max_width": null,
            "order": null,
            "_view_module_version": "1.2.0",
            "grid_template_areas": null,
            "object_position": null,
            "object_fit": null,
            "grid_auto_columns": null,
            "margin": null,
            "display": null,
            "left": null
          }
        },
        "9b6747caa80c4150ac84742f4b6acff9": {
          "model_module": "@jupyter-widgets/controls",
          "model_name": "ProgressStyleModel",
          "model_module_version": "1.5.0",
          "state": {
            "_view_name": "StyleView",
            "_model_name": "ProgressStyleModel",
            "description_width": "",
            "_view_module": "@jupyter-widgets/base",
            "_model_module_version": "1.5.0",
            "_view_count": null,
            "_view_module_version": "1.2.0",
            "bar_color": null,
            "_model_module": "@jupyter-widgets/controls"
          }
        },
        "de8642398eb9406384f866741facc423": {
          "model_module": "@jupyter-widgets/base",
          "model_name": "LayoutModel",
          "model_module_version": "1.2.0",
          "state": {
            "_view_name": "LayoutView",
            "grid_template_rows": null,
            "right": null,
            "justify_content": null,
            "_view_module": "@jupyter-widgets/base",
            "overflow": null,
            "_model_module_version": "1.2.0",
            "_view_count": null,
            "flex_flow": null,
            "width": null,
            "min_width": null,
            "border": null,
            "align_items": null,
            "bottom": null,
            "_model_module": "@jupyter-widgets/base",
            "top": null,
            "grid_column": null,
            "overflow_y": null,
            "overflow_x": null,
            "grid_auto_flow": null,
            "grid_area": null,
            "grid_template_columns": null,
            "flex": null,
            "_model_name": "LayoutModel",
            "justify_items": null,
            "grid_row": null,
            "max_height": null,
            "align_content": null,
            "visibility": null,
            "align_self": null,
            "height": null,
            "min_height": null,
            "padding": null,
            "grid_auto_rows": null,
            "grid_gap": null,
            "max_width": null,
            "order": null,
            "_view_module_version": "1.2.0",
            "grid_template_areas": null,
            "object_position": null,
            "object_fit": null,
            "grid_auto_columns": null,
            "margin": null,
            "display": null,
            "left": null
          }
        },
        "a7f5fbf772ae4e3ea1d7feb3a50f4ca7": {
          "model_module": "@jupyter-widgets/controls",
          "model_name": "DescriptionStyleModel",
          "model_module_version": "1.5.0",
          "state": {
            "_view_name": "StyleView",
            "_model_name": "DescriptionStyleModel",
            "description_width": "",
            "_view_module": "@jupyter-widgets/base",
            "_model_module_version": "1.5.0",
            "_view_count": null,
            "_view_module_version": "1.2.0",
            "_model_module": "@jupyter-widgets/controls"
          }
        },
        "5b6ed2edcd4842fbb0c8c98668c15ecb": {
          "model_module": "@jupyter-widgets/base",
          "model_name": "LayoutModel",
          "model_module_version": "1.2.0",
          "state": {
            "_view_name": "LayoutView",
            "grid_template_rows": null,
            "right": null,
            "justify_content": null,
            "_view_module": "@jupyter-widgets/base",
            "overflow": null,
            "_model_module_version": "1.2.0",
            "_view_count": null,
            "flex_flow": null,
            "width": null,
            "min_width": null,
            "border": null,
            "align_items": null,
            "bottom": null,
            "_model_module": "@jupyter-widgets/base",
            "top": null,
            "grid_column": null,
            "overflow_y": null,
            "overflow_x": null,
            "grid_auto_flow": null,
            "grid_area": null,
            "grid_template_columns": null,
            "flex": null,
            "_model_name": "LayoutModel",
            "justify_items": null,
            "grid_row": null,
            "max_height": null,
            "align_content": null,
            "visibility": null,
            "align_self": null,
            "height": null,
            "min_height": null,
            "padding": null,
            "grid_auto_rows": null,
            "grid_gap": null,
            "max_width": null,
            "order": null,
            "_view_module_version": "1.2.0",
            "grid_template_areas": null,
            "object_position": null,
            "object_fit": null,
            "grid_auto_columns": null,
            "margin": null,
            "display": null,
            "left": null
          }
        },
        "050691dc3c5a40089bd38e30a0b7721e": {
          "model_module": "@jupyter-widgets/controls",
          "model_name": "HBoxModel",
          "model_module_version": "1.5.0",
          "state": {
            "_view_name": "HBoxView",
            "_dom_classes": [],
            "_model_name": "HBoxModel",
            "_view_module": "@jupyter-widgets/controls",
            "_model_module_version": "1.5.0",
            "_view_count": null,
            "_view_module_version": "1.5.0",
            "box_style": "",
            "layout": "IPY_MODEL_5b148b2aceaf47439bd8ce9c36461292",
            "_model_module": "@jupyter-widgets/controls",
            "children": [
              "IPY_MODEL_169c658132f34188b937aa2f31c8356f",
              "IPY_MODEL_d6fb0ddeb0434d40bb88d84599294508",
              "IPY_MODEL_64c602c82cf34a979b4935484c83c461"
            ]
          }
        },
        "5b148b2aceaf47439bd8ce9c36461292": {
          "model_module": "@jupyter-widgets/base",
          "model_name": "LayoutModel",
          "model_module_version": "1.2.0",
          "state": {
            "_view_name": "LayoutView",
            "grid_template_rows": null,
            "right": null,
            "justify_content": null,
            "_view_module": "@jupyter-widgets/base",
            "overflow": null,
            "_model_module_version": "1.2.0",
            "_view_count": null,
            "flex_flow": null,
            "width": null,
            "min_width": null,
            "border": null,
            "align_items": null,
            "bottom": null,
            "_model_module": "@jupyter-widgets/base",
            "top": null,
            "grid_column": null,
            "overflow_y": null,
            "overflow_x": null,
            "grid_auto_flow": null,
            "grid_area": null,
            "grid_template_columns": null,
            "flex": null,
            "_model_name": "LayoutModel",
            "justify_items": null,
            "grid_row": null,
            "max_height": null,
            "align_content": null,
            "visibility": null,
            "align_self": null,
            "height": null,
            "min_height": null,
            "padding": null,
            "grid_auto_rows": null,
            "grid_gap": null,
            "max_width": null,
            "order": null,
            "_view_module_version": "1.2.0",
            "grid_template_areas": null,
            "object_position": null,
            "object_fit": null,
            "grid_auto_columns": null,
            "margin": null,
            "display": null,
            "left": null
          }
        },
        "169c658132f34188b937aa2f31c8356f": {
          "model_module": "@jupyter-widgets/controls",
          "model_name": "HTMLModel",
          "model_module_version": "1.5.0",
          "state": {
            "_view_name": "HTMLView",
            "style": "IPY_MODEL_59bf01ddc8984595a01dab692a693527",
            "_dom_classes": [],
            "description": "",
            "_model_name": "HTMLModel",
            "placeholder": "​",
            "_view_module": "@jupyter-widgets/controls",
            "_model_module_version": "1.5.0",
            "value": "",
            "_view_count": null,
            "_view_module_version": "1.5.0",
            "description_tooltip": null,
            "_model_module": "@jupyter-widgets/controls",
            "layout": "IPY_MODEL_4ef9d315904144d5b97f9db3a10e98ea"
          }
        },
        "d6fb0ddeb0434d40bb88d84599294508": {
          "model_module": "@jupyter-widgets/controls",
          "model_name": "FloatProgressModel",
          "model_module_version": "1.5.0",
          "state": {
            "_view_name": "ProgressView",
            "style": "IPY_MODEL_3d428ef1cc9c484aa59b8b9bd9fc42a9",
            "_dom_classes": [],
            "description": "",
            "_model_name": "FloatProgressModel",
            "bar_style": "success",
            "max": 5148,
            "_view_module": "@jupyter-widgets/controls",
            "_model_module_version": "1.5.0",
            "value": 5148,
            "_view_count": null,
            "_view_module_version": "1.5.0",
            "orientation": "horizontal",
            "min": 0,
            "description_tooltip": null,
            "_model_module": "@jupyter-widgets/controls",
            "layout": "IPY_MODEL_3d122e1991724e378b176395c38dbdd0"
          }
        },
        "64c602c82cf34a979b4935484c83c461": {
          "model_module": "@jupyter-widgets/controls",
          "model_name": "HTMLModel",
          "model_module_version": "1.5.0",
          "state": {
            "_view_name": "HTMLView",
            "style": "IPY_MODEL_b9f8ddd365d84f298c9fc3dcd0496438",
            "_dom_classes": [],
            "description": "",
            "_model_name": "HTMLModel",
            "placeholder": "​",
            "_view_module": "@jupyter-widgets/controls",
            "_model_module_version": "1.5.0",
            "value": " 6144/? [00:00&lt;00:00, 128405.38it/s]",
            "_view_count": null,
            "_view_module_version": "1.5.0",
            "description_tooltip": null,
            "_model_module": "@jupyter-widgets/controls",
            "layout": "IPY_MODEL_2e77783ca159401694fe0e3f6d0a451f"
          }
        },
        "59bf01ddc8984595a01dab692a693527": {
          "model_module": "@jupyter-widgets/controls",
          "model_name": "DescriptionStyleModel",
          "model_module_version": "1.5.0",
          "state": {
            "_view_name": "StyleView",
            "_model_name": "DescriptionStyleModel",
            "description_width": "",
            "_view_module": "@jupyter-widgets/base",
            "_model_module_version": "1.5.0",
            "_view_count": null,
            "_view_module_version": "1.2.0",
            "_model_module": "@jupyter-widgets/controls"
          }
        },
        "4ef9d315904144d5b97f9db3a10e98ea": {
          "model_module": "@jupyter-widgets/base",
          "model_name": "LayoutModel",
          "model_module_version": "1.2.0",
          "state": {
            "_view_name": "LayoutView",
            "grid_template_rows": null,
            "right": null,
            "justify_content": null,
            "_view_module": "@jupyter-widgets/base",
            "overflow": null,
            "_model_module_version": "1.2.0",
            "_view_count": null,
            "flex_flow": null,
            "width": null,
            "min_width": null,
            "border": null,
            "align_items": null,
            "bottom": null,
            "_model_module": "@jupyter-widgets/base",
            "top": null,
            "grid_column": null,
            "overflow_y": null,
            "overflow_x": null,
            "grid_auto_flow": null,
            "grid_area": null,
            "grid_template_columns": null,
            "flex": null,
            "_model_name": "LayoutModel",
            "justify_items": null,
            "grid_row": null,
            "max_height": null,
            "align_content": null,
            "visibility": null,
            "align_self": null,
            "height": null,
            "min_height": null,
            "padding": null,
            "grid_auto_rows": null,
            "grid_gap": null,
            "max_width": null,
            "order": null,
            "_view_module_version": "1.2.0",
            "grid_template_areas": null,
            "object_position": null,
            "object_fit": null,
            "grid_auto_columns": null,
            "margin": null,
            "display": null,
            "left": null
          }
        },
        "3d428ef1cc9c484aa59b8b9bd9fc42a9": {
          "model_module": "@jupyter-widgets/controls",
          "model_name": "ProgressStyleModel",
          "model_module_version": "1.5.0",
          "state": {
            "_view_name": "StyleView",
            "_model_name": "ProgressStyleModel",
            "description_width": "",
            "_view_module": "@jupyter-widgets/base",
            "_model_module_version": "1.5.0",
            "_view_count": null,
            "_view_module_version": "1.2.0",
            "bar_color": null,
            "_model_module": "@jupyter-widgets/controls"
          }
        },
        "3d122e1991724e378b176395c38dbdd0": {
          "model_module": "@jupyter-widgets/base",
          "model_name": "LayoutModel",
          "model_module_version": "1.2.0",
          "state": {
            "_view_name": "LayoutView",
            "grid_template_rows": null,
            "right": null,
            "justify_content": null,
            "_view_module": "@jupyter-widgets/base",
            "overflow": null,
            "_model_module_version": "1.2.0",
            "_view_count": null,
            "flex_flow": null,
            "width": null,
            "min_width": null,
            "border": null,
            "align_items": null,
            "bottom": null,
            "_model_module": "@jupyter-widgets/base",
            "top": null,
            "grid_column": null,
            "overflow_y": null,
            "overflow_x": null,
            "grid_auto_flow": null,
            "grid_area": null,
            "grid_template_columns": null,
            "flex": null,
            "_model_name": "LayoutModel",
            "justify_items": null,
            "grid_row": null,
            "max_height": null,
            "align_content": null,
            "visibility": null,
            "align_self": null,
            "height": null,
            "min_height": null,
            "padding": null,
            "grid_auto_rows": null,
            "grid_gap": null,
            "max_width": null,
            "order": null,
            "_view_module_version": "1.2.0",
            "grid_template_areas": null,
            "object_position": null,
            "object_fit": null,
            "grid_auto_columns": null,
            "margin": null,
            "display": null,
            "left": null
          }
        },
        "b9f8ddd365d84f298c9fc3dcd0496438": {
          "model_module": "@jupyter-widgets/controls",
          "model_name": "DescriptionStyleModel",
          "model_module_version": "1.5.0",
          "state": {
            "_view_name": "StyleView",
            "_model_name": "DescriptionStyleModel",
            "description_width": "",
            "_view_module": "@jupyter-widgets/base",
            "_model_module_version": "1.5.0",
            "_view_count": null,
            "_view_module_version": "1.2.0",
            "_model_module": "@jupyter-widgets/controls"
          }
        },
        "2e77783ca159401694fe0e3f6d0a451f": {
          "model_module": "@jupyter-widgets/base",
          "model_name": "LayoutModel",
          "model_module_version": "1.2.0",
          "state": {
            "_view_name": "LayoutView",
            "grid_template_rows": null,
            "right": null,
            "justify_content": null,
            "_view_module": "@jupyter-widgets/base",
            "overflow": null,
            "_model_module_version": "1.2.0",
            "_view_count": null,
            "flex_flow": null,
            "width": null,
            "min_width": null,
            "border": null,
            "align_items": null,
            "bottom": null,
            "_model_module": "@jupyter-widgets/base",
            "top": null,
            "grid_column": null,
            "overflow_y": null,
            "overflow_x": null,
            "grid_auto_flow": null,
            "grid_area": null,
            "grid_template_columns": null,
            "flex": null,
            "_model_name": "LayoutModel",
            "justify_items": null,
            "grid_row": null,
            "max_height": null,
            "align_content": null,
            "visibility": null,
            "align_self": null,
            "height": null,
            "min_height": null,
            "padding": null,
            "grid_auto_rows": null,
            "grid_gap": null,
            "max_width": null,
            "order": null,
            "_view_module_version": "1.2.0",
            "grid_template_areas": null,
            "object_position": null,
            "object_fit": null,
            "grid_auto_columns": null,
            "margin": null,
            "display": null,
            "left": null
          }
        }
      }
    }
  },
  "cells": [
    {
      "cell_type": "markdown",
      "source": [
        "# 7. Modern Convolutional Neural Networks\n"
      ],
      "metadata": {
        "id": "v0YM3RHXQF1K"
      }
    },
    {
      "cell_type": "markdown",
      "source": [
        "## 7.1. Deep Convolutional Neural Networks (AlexNet)\n"
      ],
      "metadata": {
        "id": "zL-GGAIRQJg2"
      }
    },
    {
      "cell_type": "markdown",
      "source": [
        "### 7.1.2. AlexNet"
      ],
      "metadata": {
        "id": "gKJHPpjbON8m"
      }
    },
    {
      "cell_type": "code",
      "execution_count": null,
      "metadata": {
        "id": "HZzfzExGNJ5B"
      },
      "outputs": [],
      "source": [
        "!pip install d2l==0.14.2"
      ]
    },
    {
      "cell_type": "code",
      "source": [
        "import torch\n",
        "from torch import nn\n",
        "from d2l import torch as d2l\n",
        "\n",
        "\n",
        "net = nn.Sequential(\n",
        "    # larger 11 x 11 window to capture objects.\n",
        "    # use a stride of 4 to greatly reduce the height and width of the output.\n",
        "    # LeNet \n",
        "    nn.Conv2d(1,96, kernel_size=11, stride=4, padding=1),nn.ReLU(),\n",
        "    nn.MaxPool2d(kernel_size=3, stride=2),\n",
        "    # Make the convolution window smaller, set padding to 2 for consistent\n",
        "    # height and width across the input and output, \n",
        "    # and increase the number of output channels\n",
        "    nn.Conv2d(96, 256, kernel_size=5, padding=2), nn.ReLU(),\n",
        "    nn.MaxPool2d(kernel_size=3, stride=2),\n",
        "    # Use three successive convolutional layers and a smaller convolution window\n",
        "    # Except for the final convolutional layer, the number of output channels is further increased. \n",
        "    # Pooling layers are not used to reduce the height and width of input after the first two convolutional layers\n",
        "    nn.Conv2d(256, 384, kernel_size=3, padding=1), nn.ReLU(),\n",
        "    nn.Conv2d(384, 384, kernel_size=3, padding=1), nn.ReLU(),\n",
        "    nn.Conv2d(384, 256, kernel_size=3, padding=1), nn.ReLU(),\n",
        "    nn.MaxPool2d(kernel_size=3, stride=2),\n",
        "    nn.Flatten(),\n",
        "    # the number of outputs of the fully-connected layer is several\n",
        "    # times larger than that in LeNet. Use the dropout layer to mitigate overfitting\n",
        "    nn.Linear(6400, 4096), nn.ReLU(),\n",
        "    nn.Dropout(p=0.5),\n",
        "    nn.Linear(4096, 4096), nn.ReLU(),\n",
        "    nn.Dropout(p=0.5),\n",
        "    # Output layer. Since we are using Fashion-MNIST, the number of classes is 10\n",
        "    nn.Linear(4096, 10)\n",
        "    )"
      ],
      "metadata": {
        "id": "aRidx8d1OVzM"
      },
      "execution_count": 2,
      "outputs": []
    },
    {
      "cell_type": "code",
      "source": [
        "X = torch.randn(1, 1, 224, 224)\n",
        "for layer in net:\n",
        "    X=layer(X)\n",
        "    print(layer.__class__.__name__,'output shape:\\t',X.shape)"
      ],
      "metadata": {
        "colab": {
          "base_uri": "https://localhost:8080/"
        },
        "id": "GLsHgEtWPivT",
        "outputId": "88fc7a73-991f-4e32-e84f-c9ab583b59c8"
      },
      "execution_count": 3,
      "outputs": [
        {
          "output_type": "stream",
          "name": "stdout",
          "text": [
            "Conv2d output shape:\t torch.Size([1, 96, 54, 54])\n",
            "ReLU output shape:\t torch.Size([1, 96, 54, 54])\n",
            "MaxPool2d output shape:\t torch.Size([1, 96, 26, 26])\n",
            "Conv2d output shape:\t torch.Size([1, 256, 26, 26])\n",
            "ReLU output shape:\t torch.Size([1, 256, 26, 26])\n",
            "MaxPool2d output shape:\t torch.Size([1, 256, 12, 12])\n",
            "Conv2d output shape:\t torch.Size([1, 384, 12, 12])\n",
            "ReLU output shape:\t torch.Size([1, 384, 12, 12])\n",
            "Conv2d output shape:\t torch.Size([1, 384, 12, 12])\n",
            "ReLU output shape:\t torch.Size([1, 384, 12, 12])\n",
            "Conv2d output shape:\t torch.Size([1, 256, 12, 12])\n",
            "ReLU output shape:\t torch.Size([1, 256, 12, 12])\n",
            "MaxPool2d output shape:\t torch.Size([1, 256, 5, 5])\n",
            "Flatten output shape:\t torch.Size([1, 6400])\n",
            "Linear output shape:\t torch.Size([1, 4096])\n",
            "ReLU output shape:\t torch.Size([1, 4096])\n",
            "Dropout output shape:\t torch.Size([1, 4096])\n",
            "Linear output shape:\t torch.Size([1, 4096])\n",
            "ReLU output shape:\t torch.Size([1, 4096])\n",
            "Dropout output shape:\t torch.Size([1, 4096])\n",
            "Linear output shape:\t torch.Size([1, 10])\n"
          ]
        }
      ]
    },
    {
      "cell_type": "markdown",
      "source": [
        "### 7.1.3. Reading the Dataset\n"
      ],
      "metadata": {
        "id": "Ar62ddOoPmxb"
      }
    },
    {
      "cell_type": "code",
      "source": [
        "batch_size = 128\n",
        "train_iter, test_iter = d2l.load_data_fashion_mnist(batch_size, resize=224)"
      ],
      "metadata": {
        "colab": {
          "base_uri": "https://localhost:8080/",
          "height": 477,
          "referenced_widgets": [
            "a79037e0235049c5a2fedbdccedea616",
            "4ae324c7f0744dcdb2b1c81483d2ea0c",
            "3950971611754b47b88f38a73f6b783c",
            "a64489ede23e44018ae2eeb1e66a0fd6",
            "a92508aa2cb442e6af8a3f56555085e4",
            "54aa2d0ec1614980961d0679fa21929a",
            "e0c2a09c53f341aea414854ba77797fb",
            "ef2ee5ec14c34940bedecaed9e3450c8",
            "85cc03c08e7e4a389d8b4db546fbe7a9",
            "5616fcc19e7e4f5eb1914a9d6a3f9009",
            "ebb85d5d33c6487c8c921e542f51c1c0",
            "f8b4206cf46a4be18762391542d776da",
            "7a296859fc754e8f8fa2a04514664902",
            "c09412dc1ab742d4b1eec78299dbbc7a",
            "e60038813da24a0cb7299885472f71a0",
            "6fb1ed386d2e4f0088b818484b19d645",
            "27a91ffc61694d0cbe8fa621935de810",
            "8b6c90e2dc5c42cbb0b5703c673b27a3",
            "c308f505fb9449e89c4fef2d959a57ca",
            "24a6ecda18fd4de58bcf0515744af74a",
            "ddb264f4833a4cfd9295f27491e1d193",
            "61189360e53b467fb3634652e63bd18c",
            "fbf727a7938d4931ac1a55943f7216dc",
            "d9ec46e94eb5499caa4bc47e2a84cd34",
            "c2eced597a624b56a7f032b116d4ec07",
            "fc6faa9bf3e042a98f3b023a4817e9f4",
            "2a71b19c43a0422e9f47132ea3757671",
            "8c03268ca56b4d478ac27297a5d6e716",
            "b99a026a15e844d3b03e3c02be19b8da",
            "9b6747caa80c4150ac84742f4b6acff9",
            "de8642398eb9406384f866741facc423",
            "a7f5fbf772ae4e3ea1d7feb3a50f4ca7",
            "5b6ed2edcd4842fbb0c8c98668c15ecb",
            "050691dc3c5a40089bd38e30a0b7721e",
            "5b148b2aceaf47439bd8ce9c36461292",
            "169c658132f34188b937aa2f31c8356f",
            "d6fb0ddeb0434d40bb88d84599294508",
            "64c602c82cf34a979b4935484c83c461",
            "59bf01ddc8984595a01dab692a693527",
            "4ef9d315904144d5b97f9db3a10e98ea",
            "3d428ef1cc9c484aa59b8b9bd9fc42a9",
            "3d122e1991724e378b176395c38dbdd0",
            "b9f8ddd365d84f298c9fc3dcd0496438",
            "2e77783ca159401694fe0e3f6d0a451f"
          ]
        },
        "id": "GD_S-x7YPkbL",
        "outputId": "bef9e2f3-c001-4515-ea30-e7368915c431"
      },
      "execution_count": 4,
      "outputs": [
        {
          "output_type": "stream",
          "name": "stdout",
          "text": [
            "Downloading http://fashion-mnist.s3-website.eu-central-1.amazonaws.com/train-images-idx3-ubyte.gz\n",
            "Downloading http://fashion-mnist.s3-website.eu-central-1.amazonaws.com/train-images-idx3-ubyte.gz to ../data/FashionMNIST/raw/train-images-idx3-ubyte.gz\n"
          ]
        },
        {
          "output_type": "display_data",
          "data": {
            "application/vnd.jupyter.widget-view+json": {
              "model_id": "a79037e0235049c5a2fedbdccedea616",
              "version_minor": 0,
              "version_major": 2
            },
            "text/plain": [
              "  0%|          | 0/26421880 [00:00<?, ?it/s]"
            ]
          },
          "metadata": {}
        },
        {
          "output_type": "stream",
          "name": "stdout",
          "text": [
            "Extracting ../data/FashionMNIST/raw/train-images-idx3-ubyte.gz to ../data/FashionMNIST/raw\n",
            "\n",
            "Downloading http://fashion-mnist.s3-website.eu-central-1.amazonaws.com/train-labels-idx1-ubyte.gz\n",
            "Downloading http://fashion-mnist.s3-website.eu-central-1.amazonaws.com/train-labels-idx1-ubyte.gz to ../data/FashionMNIST/raw/train-labels-idx1-ubyte.gz\n"
          ]
        },
        {
          "output_type": "display_data",
          "data": {
            "application/vnd.jupyter.widget-view+json": {
              "model_id": "f8b4206cf46a4be18762391542d776da",
              "version_minor": 0,
              "version_major": 2
            },
            "text/plain": [
              "  0%|          | 0/29515 [00:00<?, ?it/s]"
            ]
          },
          "metadata": {}
        },
        {
          "output_type": "stream",
          "name": "stdout",
          "text": [
            "Extracting ../data/FashionMNIST/raw/train-labels-idx1-ubyte.gz to ../data/FashionMNIST/raw\n",
            "\n",
            "Downloading http://fashion-mnist.s3-website.eu-central-1.amazonaws.com/t10k-images-idx3-ubyte.gz\n",
            "Downloading http://fashion-mnist.s3-website.eu-central-1.amazonaws.com/t10k-images-idx3-ubyte.gz to ../data/FashionMNIST/raw/t10k-images-idx3-ubyte.gz\n"
          ]
        },
        {
          "output_type": "display_data",
          "data": {
            "application/vnd.jupyter.widget-view+json": {
              "model_id": "fbf727a7938d4931ac1a55943f7216dc",
              "version_minor": 0,
              "version_major": 2
            },
            "text/plain": [
              "  0%|          | 0/4422102 [00:00<?, ?it/s]"
            ]
          },
          "metadata": {}
        },
        {
          "output_type": "stream",
          "name": "stdout",
          "text": [
            "Extracting ../data/FashionMNIST/raw/t10k-images-idx3-ubyte.gz to ../data/FashionMNIST/raw\n",
            "\n",
            "Downloading http://fashion-mnist.s3-website.eu-central-1.amazonaws.com/t10k-labels-idx1-ubyte.gz\n",
            "Downloading http://fashion-mnist.s3-website.eu-central-1.amazonaws.com/t10k-labels-idx1-ubyte.gz to ../data/FashionMNIST/raw/t10k-labels-idx1-ubyte.gz\n"
          ]
        },
        {
          "output_type": "display_data",
          "data": {
            "application/vnd.jupyter.widget-view+json": {
              "model_id": "050691dc3c5a40089bd38e30a0b7721e",
              "version_minor": 0,
              "version_major": 2
            },
            "text/plain": [
              "  0%|          | 0/5148 [00:00<?, ?it/s]"
            ]
          },
          "metadata": {}
        },
        {
          "output_type": "stream",
          "name": "stdout",
          "text": [
            "Extracting ../data/FashionMNIST/raw/t10k-labels-idx1-ubyte.gz to ../data/FashionMNIST/raw\n",
            "\n"
          ]
        },
        {
          "output_type": "stream",
          "name": "stderr",
          "text": [
            "/usr/local/lib/python3.7/dist-packages/torch/utils/data/dataloader.py:481: UserWarning: This DataLoader will create 4 worker processes in total. Our suggested max number of worker in current system is 2, which is smaller than what this DataLoader is going to create. Please be aware that excessive worker creation might get DataLoader running slow or even freeze, lower the worker number to avoid potential slowness/freeze if necessary.\n",
            "  cpuset_checked))\n"
          ]
        }
      ]
    },
    {
      "cell_type": "markdown",
      "source": [
        "### 7.1.4. Training"
      ],
      "metadata": {
        "id": "dc8llK3QPxZd"
      }
    },
    {
      "cell_type": "code",
      "source": [
        "lr, num_epochs = 0.01, 10\n",
        "d2l.train_ch6(net, train_iter, test_iter, num_epochs, lr, d2l.try_gpu())"
      ],
      "metadata": {
        "colab": {
          "base_uri": "https://localhost:8080/",
          "height": 297
        },
        "id": "Kqo9rBdqPwr3",
        "outputId": "9bacb24b-27f7-40c8-c6bc-5b7aa8a35dd1"
      },
      "execution_count": 5,
      "outputs": [
        {
          "output_type": "stream",
          "name": "stdout",
          "text": [
            "loss 0.330, train acc 0.878, test acc 0.882\n",
            "423.7 examples/sec on cuda:0\n"
          ]
        },
        {
          "output_type": "display_data",
          "data": {
            "text/plain": [
              "<Figure size 252x180 with 1 Axes>"
            ],
            "image/svg+xml": "<?xml version=\"1.0\" encoding=\"utf-8\" standalone=\"no\"?>\n<!DOCTYPE svg PUBLIC \"-//W3C//DTD SVG 1.1//EN\"\n  \"http://www.w3.org/Graphics/SVG/1.1/DTD/svg11.dtd\">\n<!-- Created with matplotlib (https://matplotlib.org/) -->\n<svg height=\"180.65625pt\" version=\"1.1\" viewBox=\"0 0 238.965625 180.65625\" width=\"238.965625pt\" xmlns=\"http://www.w3.org/2000/svg\" xmlns:xlink=\"http://www.w3.org/1999/xlink\">\n <defs>\n  <style type=\"text/css\">\n*{stroke-linecap:butt;stroke-linejoin:round;}\n  </style>\n </defs>\n <g id=\"figure_1\">\n  <g id=\"patch_1\">\n   <path d=\"M 0 180.65625 \nL 238.965625 180.65625 \nL 238.965625 0 \nL 0 0 \nz\n\" style=\"fill:none;\"/>\n  </g>\n  <g id=\"axes_1\">\n   <g id=\"patch_2\">\n    <path d=\"M 30.103125 143.1 \nL 225.403125 143.1 \nL 225.403125 7.2 \nL 30.103125 7.2 \nz\n\" style=\"fill:#ffffff;\"/>\n   </g>\n   <g id=\"matplotlib.axis_1\">\n    <g id=\"xtick_1\">\n     <g id=\"line2d_1\">\n      <path clip-path=\"url(#p000d7bfe7a)\" d=\"M 30.103125 143.1 \nL 30.103125 7.2 \n\" style=\"fill:none;stroke:#b0b0b0;stroke-linecap:square;stroke-width:0.8;\"/>\n     </g>\n     <g id=\"line2d_2\">\n      <defs>\n       <path d=\"M 0 0 \nL 0 3.5 \n\" id=\"m94eedcab68\" style=\"stroke:#000000;stroke-width:0.8;\"/>\n      </defs>\n      <g>\n       <use style=\"stroke:#000000;stroke-width:0.8;\" x=\"30.103125\" xlink:href=\"#m94eedcab68\" y=\"143.1\"/>\n      </g>\n     </g>\n     <g id=\"text_1\">\n      <!-- 0 -->\n      <defs>\n       <path d=\"M 31.78125 66.40625 \nQ 24.171875 66.40625 20.328125 58.90625 \nQ 16.5 51.421875 16.5 36.375 \nQ 16.5 21.390625 20.328125 13.890625 \nQ 24.171875 6.390625 31.78125 6.390625 \nQ 39.453125 6.390625 43.28125 13.890625 \nQ 47.125 21.390625 47.125 36.375 \nQ 47.125 51.421875 43.28125 58.90625 \nQ 39.453125 66.40625 31.78125 66.40625 \nz\nM 31.78125 74.21875 \nQ 44.046875 74.21875 50.515625 64.515625 \nQ 56.984375 54.828125 56.984375 36.375 \nQ 56.984375 17.96875 50.515625 8.265625 \nQ 44.046875 -1.421875 31.78125 -1.421875 \nQ 19.53125 -1.421875 13.0625 8.265625 \nQ 6.59375 17.96875 6.59375 36.375 \nQ 6.59375 54.828125 13.0625 64.515625 \nQ 19.53125 74.21875 31.78125 74.21875 \nz\n\" id=\"DejaVuSans-48\"/>\n      </defs>\n      <g transform=\"translate(26.921875 157.698438)scale(0.1 -0.1)\">\n       <use xlink:href=\"#DejaVuSans-48\"/>\n      </g>\n     </g>\n    </g>\n    <g id=\"xtick_2\">\n     <g id=\"line2d_3\">\n      <path clip-path=\"url(#p000d7bfe7a)\" d=\"M 69.163125 143.1 \nL 69.163125 7.2 \n\" style=\"fill:none;stroke:#b0b0b0;stroke-linecap:square;stroke-width:0.8;\"/>\n     </g>\n     <g id=\"line2d_4\">\n      <g>\n       <use style=\"stroke:#000000;stroke-width:0.8;\" x=\"69.163125\" xlink:href=\"#m94eedcab68\" y=\"143.1\"/>\n      </g>\n     </g>\n     <g id=\"text_2\">\n      <!-- 2 -->\n      <defs>\n       <path d=\"M 19.1875 8.296875 \nL 53.609375 8.296875 \nL 53.609375 0 \nL 7.328125 0 \nL 7.328125 8.296875 \nQ 12.9375 14.109375 22.625 23.890625 \nQ 32.328125 33.6875 34.8125 36.53125 \nQ 39.546875 41.84375 41.421875 45.53125 \nQ 43.3125 49.21875 43.3125 52.78125 \nQ 43.3125 58.59375 39.234375 62.25 \nQ 35.15625 65.921875 28.609375 65.921875 \nQ 23.96875 65.921875 18.8125 64.3125 \nQ 13.671875 62.703125 7.8125 59.421875 \nL 7.8125 69.390625 \nQ 13.765625 71.78125 18.9375 73 \nQ 24.125 74.21875 28.421875 74.21875 \nQ 39.75 74.21875 46.484375 68.546875 \nQ 53.21875 62.890625 53.21875 53.421875 \nQ 53.21875 48.921875 51.53125 44.890625 \nQ 49.859375 40.875 45.40625 35.40625 \nQ 44.1875 33.984375 37.640625 27.21875 \nQ 31.109375 20.453125 19.1875 8.296875 \nz\n\" id=\"DejaVuSans-50\"/>\n      </defs>\n      <g transform=\"translate(65.981875 157.698438)scale(0.1 -0.1)\">\n       <use xlink:href=\"#DejaVuSans-50\"/>\n      </g>\n     </g>\n    </g>\n    <g id=\"xtick_3\">\n     <g id=\"line2d_5\">\n      <path clip-path=\"url(#p000d7bfe7a)\" d=\"M 108.223125 143.1 \nL 108.223125 7.2 \n\" style=\"fill:none;stroke:#b0b0b0;stroke-linecap:square;stroke-width:0.8;\"/>\n     </g>\n     <g id=\"line2d_6\">\n      <g>\n       <use style=\"stroke:#000000;stroke-width:0.8;\" x=\"108.223125\" xlink:href=\"#m94eedcab68\" y=\"143.1\"/>\n      </g>\n     </g>\n     <g id=\"text_3\">\n      <!-- 4 -->\n      <defs>\n       <path d=\"M 37.796875 64.3125 \nL 12.890625 25.390625 \nL 37.796875 25.390625 \nz\nM 35.203125 72.90625 \nL 47.609375 72.90625 \nL 47.609375 25.390625 \nL 58.015625 25.390625 \nL 58.015625 17.1875 \nL 47.609375 17.1875 \nL 47.609375 0 \nL 37.796875 0 \nL 37.796875 17.1875 \nL 4.890625 17.1875 \nL 4.890625 26.703125 \nz\n\" id=\"DejaVuSans-52\"/>\n      </defs>\n      <g transform=\"translate(105.041875 157.698438)scale(0.1 -0.1)\">\n       <use xlink:href=\"#DejaVuSans-52\"/>\n      </g>\n     </g>\n    </g>\n    <g id=\"xtick_4\">\n     <g id=\"line2d_7\">\n      <path clip-path=\"url(#p000d7bfe7a)\" d=\"M 147.283125 143.1 \nL 147.283125 7.2 \n\" style=\"fill:none;stroke:#b0b0b0;stroke-linecap:square;stroke-width:0.8;\"/>\n     </g>\n     <g id=\"line2d_8\">\n      <g>\n       <use style=\"stroke:#000000;stroke-width:0.8;\" x=\"147.283125\" xlink:href=\"#m94eedcab68\" y=\"143.1\"/>\n      </g>\n     </g>\n     <g id=\"text_4\">\n      <!-- 6 -->\n      <defs>\n       <path d=\"M 33.015625 40.375 \nQ 26.375 40.375 22.484375 35.828125 \nQ 18.609375 31.296875 18.609375 23.390625 \nQ 18.609375 15.53125 22.484375 10.953125 \nQ 26.375 6.390625 33.015625 6.390625 \nQ 39.65625 6.390625 43.53125 10.953125 \nQ 47.40625 15.53125 47.40625 23.390625 \nQ 47.40625 31.296875 43.53125 35.828125 \nQ 39.65625 40.375 33.015625 40.375 \nz\nM 52.59375 71.296875 \nL 52.59375 62.3125 \nQ 48.875 64.0625 45.09375 64.984375 \nQ 41.3125 65.921875 37.59375 65.921875 \nQ 27.828125 65.921875 22.671875 59.328125 \nQ 17.53125 52.734375 16.796875 39.40625 \nQ 19.671875 43.65625 24.015625 45.921875 \nQ 28.375 48.1875 33.59375 48.1875 \nQ 44.578125 48.1875 50.953125 41.515625 \nQ 57.328125 34.859375 57.328125 23.390625 \nQ 57.328125 12.15625 50.6875 5.359375 \nQ 44.046875 -1.421875 33.015625 -1.421875 \nQ 20.359375 -1.421875 13.671875 8.265625 \nQ 6.984375 17.96875 6.984375 36.375 \nQ 6.984375 53.65625 15.1875 63.9375 \nQ 23.390625 74.21875 37.203125 74.21875 \nQ 40.921875 74.21875 44.703125 73.484375 \nQ 48.484375 72.75 52.59375 71.296875 \nz\n\" id=\"DejaVuSans-54\"/>\n      </defs>\n      <g transform=\"translate(144.101875 157.698438)scale(0.1 -0.1)\">\n       <use xlink:href=\"#DejaVuSans-54\"/>\n      </g>\n     </g>\n    </g>\n    <g id=\"xtick_5\">\n     <g id=\"line2d_9\">\n      <path clip-path=\"url(#p000d7bfe7a)\" d=\"M 186.343125 143.1 \nL 186.343125 7.2 \n\" style=\"fill:none;stroke:#b0b0b0;stroke-linecap:square;stroke-width:0.8;\"/>\n     </g>\n     <g id=\"line2d_10\">\n      <g>\n       <use style=\"stroke:#000000;stroke-width:0.8;\" x=\"186.343125\" xlink:href=\"#m94eedcab68\" y=\"143.1\"/>\n      </g>\n     </g>\n     <g id=\"text_5\">\n      <!-- 8 -->\n      <defs>\n       <path d=\"M 31.78125 34.625 \nQ 24.75 34.625 20.71875 30.859375 \nQ 16.703125 27.09375 16.703125 20.515625 \nQ 16.703125 13.921875 20.71875 10.15625 \nQ 24.75 6.390625 31.78125 6.390625 \nQ 38.8125 6.390625 42.859375 10.171875 \nQ 46.921875 13.96875 46.921875 20.515625 \nQ 46.921875 27.09375 42.890625 30.859375 \nQ 38.875 34.625 31.78125 34.625 \nz\nM 21.921875 38.8125 \nQ 15.578125 40.375 12.03125 44.71875 \nQ 8.5 49.078125 8.5 55.328125 \nQ 8.5 64.0625 14.71875 69.140625 \nQ 20.953125 74.21875 31.78125 74.21875 \nQ 42.671875 74.21875 48.875 69.140625 \nQ 55.078125 64.0625 55.078125 55.328125 \nQ 55.078125 49.078125 51.53125 44.71875 \nQ 48 40.375 41.703125 38.8125 \nQ 48.828125 37.15625 52.796875 32.3125 \nQ 56.78125 27.484375 56.78125 20.515625 \nQ 56.78125 9.90625 50.3125 4.234375 \nQ 43.84375 -1.421875 31.78125 -1.421875 \nQ 19.734375 -1.421875 13.25 4.234375 \nQ 6.78125 9.90625 6.78125 20.515625 \nQ 6.78125 27.484375 10.78125 32.3125 \nQ 14.796875 37.15625 21.921875 38.8125 \nz\nM 18.3125 54.390625 \nQ 18.3125 48.734375 21.84375 45.5625 \nQ 25.390625 42.390625 31.78125 42.390625 \nQ 38.140625 42.390625 41.71875 45.5625 \nQ 45.3125 48.734375 45.3125 54.390625 \nQ 45.3125 60.0625 41.71875 63.234375 \nQ 38.140625 66.40625 31.78125 66.40625 \nQ 25.390625 66.40625 21.84375 63.234375 \nQ 18.3125 60.0625 18.3125 54.390625 \nz\n\" id=\"DejaVuSans-56\"/>\n      </defs>\n      <g transform=\"translate(183.161875 157.698438)scale(0.1 -0.1)\">\n       <use xlink:href=\"#DejaVuSans-56\"/>\n      </g>\n     </g>\n    </g>\n    <g id=\"xtick_6\">\n     <g id=\"line2d_11\">\n      <path clip-path=\"url(#p000d7bfe7a)\" d=\"M 225.403125 143.1 \nL 225.403125 7.2 \n\" style=\"fill:none;stroke:#b0b0b0;stroke-linecap:square;stroke-width:0.8;\"/>\n     </g>\n     <g id=\"line2d_12\">\n      <g>\n       <use style=\"stroke:#000000;stroke-width:0.8;\" x=\"225.403125\" xlink:href=\"#m94eedcab68\" y=\"143.1\"/>\n      </g>\n     </g>\n     <g id=\"text_6\">\n      <!-- 10 -->\n      <defs>\n       <path d=\"M 12.40625 8.296875 \nL 28.515625 8.296875 \nL 28.515625 63.921875 \nL 10.984375 60.40625 \nL 10.984375 69.390625 \nL 28.421875 72.90625 \nL 38.28125 72.90625 \nL 38.28125 8.296875 \nL 54.390625 8.296875 \nL 54.390625 0 \nL 12.40625 0 \nz\n\" id=\"DejaVuSans-49\"/>\n      </defs>\n      <g transform=\"translate(219.040625 157.698438)scale(0.1 -0.1)\">\n       <use xlink:href=\"#DejaVuSans-49\"/>\n       <use x=\"63.623047\" xlink:href=\"#DejaVuSans-48\"/>\n      </g>\n     </g>\n    </g>\n    <g id=\"text_7\">\n     <!-- epoch -->\n     <defs>\n      <path d=\"M 56.203125 29.59375 \nL 56.203125 25.203125 \nL 14.890625 25.203125 \nQ 15.484375 15.921875 20.484375 11.0625 \nQ 25.484375 6.203125 34.421875 6.203125 \nQ 39.59375 6.203125 44.453125 7.46875 \nQ 49.3125 8.734375 54.109375 11.28125 \nL 54.109375 2.78125 \nQ 49.265625 0.734375 44.1875 -0.34375 \nQ 39.109375 -1.421875 33.890625 -1.421875 \nQ 20.796875 -1.421875 13.15625 6.1875 \nQ 5.515625 13.8125 5.515625 26.8125 \nQ 5.515625 40.234375 12.765625 48.109375 \nQ 20.015625 56 32.328125 56 \nQ 43.359375 56 49.78125 48.890625 \nQ 56.203125 41.796875 56.203125 29.59375 \nz\nM 47.21875 32.234375 \nQ 47.125 39.59375 43.09375 43.984375 \nQ 39.0625 48.390625 32.421875 48.390625 \nQ 24.90625 48.390625 20.390625 44.140625 \nQ 15.875 39.890625 15.1875 32.171875 \nz\n\" id=\"DejaVuSans-101\"/>\n      <path d=\"M 18.109375 8.203125 \nL 18.109375 -20.796875 \nL 9.078125 -20.796875 \nL 9.078125 54.6875 \nL 18.109375 54.6875 \nL 18.109375 46.390625 \nQ 20.953125 51.265625 25.265625 53.625 \nQ 29.59375 56 35.59375 56 \nQ 45.5625 56 51.78125 48.09375 \nQ 58.015625 40.1875 58.015625 27.296875 \nQ 58.015625 14.40625 51.78125 6.484375 \nQ 45.5625 -1.421875 35.59375 -1.421875 \nQ 29.59375 -1.421875 25.265625 0.953125 \nQ 20.953125 3.328125 18.109375 8.203125 \nz\nM 48.6875 27.296875 \nQ 48.6875 37.203125 44.609375 42.84375 \nQ 40.53125 48.484375 33.40625 48.484375 \nQ 26.265625 48.484375 22.1875 42.84375 \nQ 18.109375 37.203125 18.109375 27.296875 \nQ 18.109375 17.390625 22.1875 11.75 \nQ 26.265625 6.109375 33.40625 6.109375 \nQ 40.53125 6.109375 44.609375 11.75 \nQ 48.6875 17.390625 48.6875 27.296875 \nz\n\" id=\"DejaVuSans-112\"/>\n      <path d=\"M 30.609375 48.390625 \nQ 23.390625 48.390625 19.1875 42.75 \nQ 14.984375 37.109375 14.984375 27.296875 \nQ 14.984375 17.484375 19.15625 11.84375 \nQ 23.34375 6.203125 30.609375 6.203125 \nQ 37.796875 6.203125 41.984375 11.859375 \nQ 46.1875 17.53125 46.1875 27.296875 \nQ 46.1875 37.015625 41.984375 42.703125 \nQ 37.796875 48.390625 30.609375 48.390625 \nz\nM 30.609375 56 \nQ 42.328125 56 49.015625 48.375 \nQ 55.71875 40.765625 55.71875 27.296875 \nQ 55.71875 13.875 49.015625 6.21875 \nQ 42.328125 -1.421875 30.609375 -1.421875 \nQ 18.84375 -1.421875 12.171875 6.21875 \nQ 5.515625 13.875 5.515625 27.296875 \nQ 5.515625 40.765625 12.171875 48.375 \nQ 18.84375 56 30.609375 56 \nz\n\" id=\"DejaVuSans-111\"/>\n      <path d=\"M 48.78125 52.59375 \nL 48.78125 44.1875 \nQ 44.96875 46.296875 41.140625 47.34375 \nQ 37.3125 48.390625 33.40625 48.390625 \nQ 24.65625 48.390625 19.8125 42.84375 \nQ 14.984375 37.3125 14.984375 27.296875 \nQ 14.984375 17.28125 19.8125 11.734375 \nQ 24.65625 6.203125 33.40625 6.203125 \nQ 37.3125 6.203125 41.140625 7.25 \nQ 44.96875 8.296875 48.78125 10.40625 \nL 48.78125 2.09375 \nQ 45.015625 0.34375 40.984375 -0.53125 \nQ 36.96875 -1.421875 32.421875 -1.421875 \nQ 20.0625 -1.421875 12.78125 6.34375 \nQ 5.515625 14.109375 5.515625 27.296875 \nQ 5.515625 40.671875 12.859375 48.328125 \nQ 20.21875 56 33.015625 56 \nQ 37.15625 56 41.109375 55.140625 \nQ 45.0625 54.296875 48.78125 52.59375 \nz\n\" id=\"DejaVuSans-99\"/>\n      <path d=\"M 54.890625 33.015625 \nL 54.890625 0 \nL 45.90625 0 \nL 45.90625 32.71875 \nQ 45.90625 40.484375 42.875 44.328125 \nQ 39.84375 48.1875 33.796875 48.1875 \nQ 26.515625 48.1875 22.3125 43.546875 \nQ 18.109375 38.921875 18.109375 30.90625 \nL 18.109375 0 \nL 9.078125 0 \nL 9.078125 75.984375 \nL 18.109375 75.984375 \nL 18.109375 46.1875 \nQ 21.34375 51.125 25.703125 53.5625 \nQ 30.078125 56 35.796875 56 \nQ 45.21875 56 50.046875 50.171875 \nQ 54.890625 44.34375 54.890625 33.015625 \nz\n\" id=\"DejaVuSans-104\"/>\n     </defs>\n     <g transform=\"translate(112.525 171.376563)scale(0.1 -0.1)\">\n      <use xlink:href=\"#DejaVuSans-101\"/>\n      <use x=\"61.523438\" xlink:href=\"#DejaVuSans-112\"/>\n      <use x=\"125\" xlink:href=\"#DejaVuSans-111\"/>\n      <use x=\"186.181641\" xlink:href=\"#DejaVuSans-99\"/>\n      <use x=\"241.162109\" xlink:href=\"#DejaVuSans-104\"/>\n     </g>\n    </g>\n   </g>\n   <g id=\"matplotlib.axis_2\">\n    <g id=\"ytick_1\">\n     <g id=\"line2d_13\">\n      <path clip-path=\"url(#p000d7bfe7a)\" d=\"M 30.103125 115.931481 \nL 225.403125 115.931481 \n\" style=\"fill:none;stroke:#b0b0b0;stroke-linecap:square;stroke-width:0.8;\"/>\n     </g>\n     <g id=\"line2d_14\">\n      <defs>\n       <path d=\"M 0 0 \nL -3.5 0 \n\" id=\"ma3e240a006\" style=\"stroke:#000000;stroke-width:0.8;\"/>\n      </defs>\n      <g>\n       <use style=\"stroke:#000000;stroke-width:0.8;\" x=\"30.103125\" xlink:href=\"#ma3e240a006\" y=\"115.931481\"/>\n      </g>\n     </g>\n     <g id=\"text_8\">\n      <!-- 0.5 -->\n      <defs>\n       <path d=\"M 10.6875 12.40625 \nL 21 12.40625 \nL 21 0 \nL 10.6875 0 \nz\n\" id=\"DejaVuSans-46\"/>\n       <path d=\"M 10.796875 72.90625 \nL 49.515625 72.90625 \nL 49.515625 64.59375 \nL 19.828125 64.59375 \nL 19.828125 46.734375 \nQ 21.96875 47.46875 24.109375 47.828125 \nQ 26.265625 48.1875 28.421875 48.1875 \nQ 40.625 48.1875 47.75 41.5 \nQ 54.890625 34.8125 54.890625 23.390625 \nQ 54.890625 11.625 47.5625 5.09375 \nQ 40.234375 -1.421875 26.90625 -1.421875 \nQ 22.3125 -1.421875 17.546875 -0.640625 \nQ 12.796875 0.140625 7.71875 1.703125 \nL 7.71875 11.625 \nQ 12.109375 9.234375 16.796875 8.0625 \nQ 21.484375 6.890625 26.703125 6.890625 \nQ 35.15625 6.890625 40.078125 11.328125 \nQ 45.015625 15.765625 45.015625 23.390625 \nQ 45.015625 31 40.078125 35.4375 \nQ 35.15625 39.890625 26.703125 39.890625 \nQ 22.75 39.890625 18.8125 39.015625 \nQ 14.890625 38.140625 10.796875 36.28125 \nz\n\" id=\"DejaVuSans-53\"/>\n      </defs>\n      <g transform=\"translate(7.2 119.7307)scale(0.1 -0.1)\">\n       <use xlink:href=\"#DejaVuSans-48\"/>\n       <use x=\"63.623047\" xlink:href=\"#DejaVuSans-46\"/>\n       <use x=\"95.410156\" xlink:href=\"#DejaVuSans-53\"/>\n      </g>\n     </g>\n    </g>\n    <g id=\"ytick_2\">\n     <g id=\"line2d_15\">\n      <path clip-path=\"url(#p000d7bfe7a)\" d=\"M 30.103125 87.384101 \nL 225.403125 87.384101 \n\" style=\"fill:none;stroke:#b0b0b0;stroke-linecap:square;stroke-width:0.8;\"/>\n     </g>\n     <g id=\"line2d_16\">\n      <g>\n       <use style=\"stroke:#000000;stroke-width:0.8;\" x=\"30.103125\" xlink:href=\"#ma3e240a006\" y=\"87.384101\"/>\n      </g>\n     </g>\n     <g id=\"text_9\">\n      <!-- 1.0 -->\n      <g transform=\"translate(7.2 91.183319)scale(0.1 -0.1)\">\n       <use xlink:href=\"#DejaVuSans-49\"/>\n       <use x=\"63.623047\" xlink:href=\"#DejaVuSans-46\"/>\n       <use x=\"95.410156\" xlink:href=\"#DejaVuSans-48\"/>\n      </g>\n     </g>\n    </g>\n    <g id=\"ytick_3\">\n     <g id=\"line2d_17\">\n      <path clip-path=\"url(#p000d7bfe7a)\" d=\"M 30.103125 58.83672 \nL 225.403125 58.83672 \n\" style=\"fill:none;stroke:#b0b0b0;stroke-linecap:square;stroke-width:0.8;\"/>\n     </g>\n     <g id=\"line2d_18\">\n      <g>\n       <use style=\"stroke:#000000;stroke-width:0.8;\" x=\"30.103125\" xlink:href=\"#ma3e240a006\" y=\"58.83672\"/>\n      </g>\n     </g>\n     <g id=\"text_10\">\n      <!-- 1.5 -->\n      <g transform=\"translate(7.2 62.635938)scale(0.1 -0.1)\">\n       <use xlink:href=\"#DejaVuSans-49\"/>\n       <use x=\"63.623047\" xlink:href=\"#DejaVuSans-46\"/>\n       <use x=\"95.410156\" xlink:href=\"#DejaVuSans-53\"/>\n      </g>\n     </g>\n    </g>\n    <g id=\"ytick_4\">\n     <g id=\"line2d_19\">\n      <path clip-path=\"url(#p000d7bfe7a)\" d=\"M 30.103125 30.289339 \nL 225.403125 30.289339 \n\" style=\"fill:none;stroke:#b0b0b0;stroke-linecap:square;stroke-width:0.8;\"/>\n     </g>\n     <g id=\"line2d_20\">\n      <g>\n       <use style=\"stroke:#000000;stroke-width:0.8;\" x=\"30.103125\" xlink:href=\"#ma3e240a006\" y=\"30.289339\"/>\n      </g>\n     </g>\n     <g id=\"text_11\">\n      <!-- 2.0 -->\n      <g transform=\"translate(7.2 34.088558)scale(0.1 -0.1)\">\n       <use xlink:href=\"#DejaVuSans-50\"/>\n       <use x=\"63.623047\" xlink:href=\"#DejaVuSans-46\"/>\n       <use x=\"95.410156\" xlink:href=\"#DejaVuSans-48\"/>\n      </g>\n     </g>\n    </g>\n   </g>\n   <g id=\"line2d_21\">\n    <path clip-path=\"url(#p000d7bfe7a)\" d=\"M 32.143573 13.377273 \nL 34.225662 14.23919 \nL 36.307752 21.234981 \nL 38.389841 33.367646 \nL 40.471931 43.397939 \nL 42.554021 51.169573 \nL 44.63611 57.103666 \nL 46.7182 62.111568 \nL 48.800289 66.296663 \nL 51.673573 102.473889 \nL 53.755662 103.335223 \nL 55.837752 103.912073 \nL 57.919841 104.38201 \nL 60.001931 105.049899 \nL 62.084021 105.535996 \nL 64.16611 105.987795 \nL 66.2482 106.538375 \nL 68.330289 106.887338 \nL 71.203573 110.456981 \nL 73.285662 111.645153 \nL 75.367752 111.833042 \nL 77.449841 112.112534 \nL 79.531931 112.550725 \nL 81.614021 112.773042 \nL 83.69611 112.988634 \nL 85.7782 113.242539 \nL 87.860289 113.459197 \nL 90.733573 116.571989 \nL 92.815662 116.356063 \nL 94.897752 116.584171 \nL 96.979841 116.87535 \nL 99.061931 116.913783 \nL 101.144021 117.164709 \nL 103.22611 117.305095 \nL 105.3082 117.347619 \nL 107.390289 117.339257 \nL 110.263573 120.213594 \nL 112.345662 119.511932 \nL 114.427752 119.450826 \nL 116.509841 119.27134 \nL 118.591931 119.321971 \nL 120.674021 119.551384 \nL 122.75611 119.527706 \nL 124.8382 119.622322 \nL 126.920289 119.735194 \nL 129.793573 119.462013 \nL 131.875662 120.180234 \nL 133.957752 120.491101 \nL 136.039841 121.051542 \nL 138.121931 121.234073 \nL 140.204021 121.260499 \nL 142.28611 121.351493 \nL 144.3682 121.38957 \nL 146.450289 121.462801 \nL 149.323573 122.004712 \nL 151.405662 122.234626 \nL 153.487752 122.336459 \nL 155.569841 122.296661 \nL 157.651931 122.470724 \nL 159.734021 122.654465 \nL 161.81611 122.697083 \nL 163.8982 122.753447 \nL 165.980289 122.825471 \nL 168.853573 123.075042 \nL 170.935662 123.654242 \nL 173.017752 123.754294 \nL 175.099841 123.575934 \nL 177.181931 123.507613 \nL 179.264021 123.716252 \nL 181.34611 123.73347 \nL 183.4282 123.835678 \nL 185.510289 123.967767 \nL 188.383573 124.318935 \nL 190.465662 124.506716 \nL 192.547752 124.291289 \nL 194.629841 124.590602 \nL 196.711931 124.618717 \nL 198.794021 124.684409 \nL 200.87611 124.827644 \nL 202.9582 124.790704 \nL 205.040289 124.789652 \nL 207.913573 125.530296 \nL 209.995662 125.63573 \nL 212.077752 125.597601 \nL 214.159841 125.537244 \nL 216.241931 125.507513 \nL 218.324021 125.448717 \nL 220.40611 125.466193 \nL 222.4882 125.569244 \nL 224.570289 125.619715 \n\" style=\"fill:none;stroke:#1f77b4;stroke-linecap:square;stroke-width:1.5;\"/>\n   </g>\n   <g id=\"line2d_22\">\n    <path clip-path=\"url(#p000d7bfe7a)\" d=\"M 32.143573 136.922727 \nL 34.225662 134.848582 \nL 36.307752 131.983436 \nL 38.389841 127.954835 \nL 40.471931 124.401132 \nL 42.554021 121.596352 \nL 44.63611 119.485885 \nL 46.7182 117.709002 \nL 48.800289 116.197131 \nL 51.673573 103.103002 \nL 53.755662 102.737239 \nL 55.837752 102.511239 \nL 57.919841 102.320179 \nL 60.001931 102.152017 \nL 62.084021 102.011659 \nL 64.16611 101.894836 \nL 66.2482 101.702396 \nL 68.330289 101.614177 \nL 71.203573 100.034159 \nL 73.285662 99.753145 \nL 75.367752 99.573237 \nL 77.449841 99.481053 \nL 79.531931 99.28479 \nL 81.614021 99.226803 \nL 83.69611 99.147151 \nL 85.7782 99.056188 \nL 87.860289 98.990395 \nL 90.733573 97.830658 \nL 92.815662 97.902026 \nL 94.897752 97.794973 \nL 96.979841 97.647776 \nL 99.061931 97.634394 \nL 101.144021 97.51396 \nL 103.22611 97.466169 \nL 105.3082 97.448167 \nL 107.390289 97.471833 \nL 110.263573 96.617394 \nL 112.345662 96.693223 \nL 114.427752 96.754184 \nL 116.509841 96.83373 \nL 118.591931 96.790462 \nL 120.674021 96.690249 \nL 122.75611 96.70533 \nL 124.8382 96.635236 \nL 126.920289 96.57378 \nL 129.793573 96.430052 \nL 131.875662 96.24717 \nL 133.957752 96.12971 \nL 136.039841 95.950545 \nL 138.121931 95.910846 \nL 140.204021 95.906683 \nL 142.28611 95.850183 \nL 144.3682 95.855759 \nL 146.450289 95.830359 \nL 149.323573 95.546867 \nL 151.405662 95.323841 \nL 153.487752 95.308972 \nL 155.569841 95.381828 \nL 157.651931 95.327409 \nL 159.734021 95.297078 \nL 161.81611 95.307273 \nL 163.8982 95.31492 \nL 165.980289 95.282209 \nL 168.853573 95.564709 \nL 170.935662 95.140959 \nL 173.017752 95.038367 \nL 175.099841 95.158801 \nL 177.181931 95.170399 \nL 179.264021 95.069591 \nL 181.34611 95.048562 \nL 183.4282 95.02164 \nL 185.510289 94.943209 \nL 188.383573 94.770735 \nL 190.465662 94.712748 \nL 192.547752 94.767762 \nL 194.629841 94.634689 \nL 196.711931 94.649409 \nL 198.794021 94.654762 \nL 200.87611 94.633096 \nL 202.9582 94.644725 \nL 205.040289 94.647823 \nL 207.913573 94.30684 \nL 209.995662 94.30238 \nL 212.077752 94.300893 \nL 214.159841 94.324682 \nL 216.241931 94.362151 \nL 218.324021 94.372261 \nL 220.40611 94.36419 \nL 222.4882 94.320222 \nL 224.570289 94.308823 \n\" style=\"fill:none;stroke:#bf00bf;stroke-dasharray:5.55,2.4;stroke-dashoffset:0;stroke-width:1.5;\"/>\n   </g>\n   <g id=\"line2d_23\">\n    <path clip-path=\"url(#p000d7bfe7a)\" d=\"M 49.633125 102.708335 \nL 69.163125 99.802211 \nL 88.693125 98.272072 \nL 108.223125 96.661999 \nL 127.753125 95.805578 \nL 147.283125 95.331691 \nL 166.813125 94.755034 \nL 186.343125 94.549493 \nL 205.873125 94.418175 \nL 225.403125 94.126992 \n\" style=\"fill:none;stroke:#008000;stroke-dasharray:9.6,2.4,1.5,2.4;stroke-dashoffset:0;stroke-width:1.5;\"/>\n   </g>\n   <g id=\"patch_3\">\n    <path d=\"M 30.103125 143.1 \nL 30.103125 7.2 \n\" style=\"fill:none;stroke:#000000;stroke-linecap:square;stroke-linejoin:miter;stroke-width:0.8;\"/>\n   </g>\n   <g id=\"patch_4\">\n    <path d=\"M 225.403125 143.1 \nL 225.403125 7.2 \n\" style=\"fill:none;stroke:#000000;stroke-linecap:square;stroke-linejoin:miter;stroke-width:0.8;\"/>\n   </g>\n   <g id=\"patch_5\">\n    <path d=\"M 30.103125 143.1 \nL 225.403125 143.1 \n\" style=\"fill:none;stroke:#000000;stroke-linecap:square;stroke-linejoin:miter;stroke-width:0.8;\"/>\n   </g>\n   <g id=\"patch_6\">\n    <path d=\"M 30.103125 7.2 \nL 225.403125 7.2 \n\" style=\"fill:none;stroke:#000000;stroke-linecap:square;stroke-linejoin:miter;stroke-width:0.8;\"/>\n   </g>\n   <g id=\"legend_1\">\n    <g id=\"patch_7\">\n     <path d=\"M 140.634375 59.234375 \nL 218.403125 59.234375 \nQ 220.403125 59.234375 220.403125 57.234375 \nL 220.403125 14.2 \nQ 220.403125 12.2 218.403125 12.2 \nL 140.634375 12.2 \nQ 138.634375 12.2 138.634375 14.2 \nL 138.634375 57.234375 \nQ 138.634375 59.234375 140.634375 59.234375 \nz\n\" style=\"fill:#ffffff;opacity:0.8;stroke:#cccccc;stroke-linejoin:miter;\"/>\n    </g>\n    <g id=\"line2d_24\">\n     <path d=\"M 142.634375 20.298438 \nL 162.634375 20.298438 \n\" style=\"fill:none;stroke:#1f77b4;stroke-linecap:square;stroke-width:1.5;\"/>\n    </g>\n    <g id=\"line2d_25\"/>\n    <g id=\"text_12\">\n     <!-- train loss -->\n     <defs>\n      <path d=\"M 18.3125 70.21875 \nL 18.3125 54.6875 \nL 36.8125 54.6875 \nL 36.8125 47.703125 \nL 18.3125 47.703125 \nL 18.3125 18.015625 \nQ 18.3125 11.328125 20.140625 9.421875 \nQ 21.96875 7.515625 27.59375 7.515625 \nL 36.8125 7.515625 \nL 36.8125 0 \nL 27.59375 0 \nQ 17.1875 0 13.234375 3.875 \nQ 9.28125 7.765625 9.28125 18.015625 \nL 9.28125 47.703125 \nL 2.6875 47.703125 \nL 2.6875 54.6875 \nL 9.28125 54.6875 \nL 9.28125 70.21875 \nz\n\" id=\"DejaVuSans-116\"/>\n      <path d=\"M 41.109375 46.296875 \nQ 39.59375 47.171875 37.8125 47.578125 \nQ 36.03125 48 33.890625 48 \nQ 26.265625 48 22.1875 43.046875 \nQ 18.109375 38.09375 18.109375 28.8125 \nL 18.109375 0 \nL 9.078125 0 \nL 9.078125 54.6875 \nL 18.109375 54.6875 \nL 18.109375 46.1875 \nQ 20.953125 51.171875 25.484375 53.578125 \nQ 30.03125 56 36.53125 56 \nQ 37.453125 56 38.578125 55.875 \nQ 39.703125 55.765625 41.0625 55.515625 \nz\n\" id=\"DejaVuSans-114\"/>\n      <path d=\"M 34.28125 27.484375 \nQ 23.390625 27.484375 19.1875 25 \nQ 14.984375 22.515625 14.984375 16.5 \nQ 14.984375 11.71875 18.140625 8.90625 \nQ 21.296875 6.109375 26.703125 6.109375 \nQ 34.1875 6.109375 38.703125 11.40625 \nQ 43.21875 16.703125 43.21875 25.484375 \nL 43.21875 27.484375 \nz\nM 52.203125 31.203125 \nL 52.203125 0 \nL 43.21875 0 \nL 43.21875 8.296875 \nQ 40.140625 3.328125 35.546875 0.953125 \nQ 30.953125 -1.421875 24.3125 -1.421875 \nQ 15.921875 -1.421875 10.953125 3.296875 \nQ 6 8.015625 6 15.921875 \nQ 6 25.140625 12.171875 29.828125 \nQ 18.359375 34.515625 30.609375 34.515625 \nL 43.21875 34.515625 \nL 43.21875 35.40625 \nQ 43.21875 41.609375 39.140625 45 \nQ 35.0625 48.390625 27.6875 48.390625 \nQ 23 48.390625 18.546875 47.265625 \nQ 14.109375 46.140625 10.015625 43.890625 \nL 10.015625 52.203125 \nQ 14.9375 54.109375 19.578125 55.046875 \nQ 24.21875 56 28.609375 56 \nQ 40.484375 56 46.34375 49.84375 \nQ 52.203125 43.703125 52.203125 31.203125 \nz\n\" id=\"DejaVuSans-97\"/>\n      <path d=\"M 9.421875 54.6875 \nL 18.40625 54.6875 \nL 18.40625 0 \nL 9.421875 0 \nz\nM 9.421875 75.984375 \nL 18.40625 75.984375 \nL 18.40625 64.59375 \nL 9.421875 64.59375 \nz\n\" id=\"DejaVuSans-105\"/>\n      <path d=\"M 54.890625 33.015625 \nL 54.890625 0 \nL 45.90625 0 \nL 45.90625 32.71875 \nQ 45.90625 40.484375 42.875 44.328125 \nQ 39.84375 48.1875 33.796875 48.1875 \nQ 26.515625 48.1875 22.3125 43.546875 \nQ 18.109375 38.921875 18.109375 30.90625 \nL 18.109375 0 \nL 9.078125 0 \nL 9.078125 54.6875 \nL 18.109375 54.6875 \nL 18.109375 46.1875 \nQ 21.34375 51.125 25.703125 53.5625 \nQ 30.078125 56 35.796875 56 \nQ 45.21875 56 50.046875 50.171875 \nQ 54.890625 44.34375 54.890625 33.015625 \nz\n\" id=\"DejaVuSans-110\"/>\n      <path id=\"DejaVuSans-32\"/>\n      <path d=\"M 9.421875 75.984375 \nL 18.40625 75.984375 \nL 18.40625 0 \nL 9.421875 0 \nz\n\" id=\"DejaVuSans-108\"/>\n      <path d=\"M 44.28125 53.078125 \nL 44.28125 44.578125 \nQ 40.484375 46.53125 36.375 47.5 \nQ 32.28125 48.484375 27.875 48.484375 \nQ 21.1875 48.484375 17.84375 46.4375 \nQ 14.5 44.390625 14.5 40.28125 \nQ 14.5 37.15625 16.890625 35.375 \nQ 19.28125 33.59375 26.515625 31.984375 \nL 29.59375 31.296875 \nQ 39.15625 29.25 43.1875 25.515625 \nQ 47.21875 21.78125 47.21875 15.09375 \nQ 47.21875 7.46875 41.1875 3.015625 \nQ 35.15625 -1.421875 24.609375 -1.421875 \nQ 20.21875 -1.421875 15.453125 -0.5625 \nQ 10.6875 0.296875 5.421875 2 \nL 5.421875 11.28125 \nQ 10.40625 8.6875 15.234375 7.390625 \nQ 20.0625 6.109375 24.8125 6.109375 \nQ 31.15625 6.109375 34.5625 8.28125 \nQ 37.984375 10.453125 37.984375 14.40625 \nQ 37.984375 18.0625 35.515625 20.015625 \nQ 33.0625 21.96875 24.703125 23.78125 \nL 21.578125 24.515625 \nQ 13.234375 26.265625 9.515625 29.90625 \nQ 5.8125 33.546875 5.8125 39.890625 \nQ 5.8125 47.609375 11.28125 51.796875 \nQ 16.75 56 26.8125 56 \nQ 31.78125 56 36.171875 55.265625 \nQ 40.578125 54.546875 44.28125 53.078125 \nz\n\" id=\"DejaVuSans-115\"/>\n     </defs>\n     <g transform=\"translate(170.634375 23.798438)scale(0.1 -0.1)\">\n      <use xlink:href=\"#DejaVuSans-116\"/>\n      <use x=\"39.208984\" xlink:href=\"#DejaVuSans-114\"/>\n      <use x=\"80.322266\" xlink:href=\"#DejaVuSans-97\"/>\n      <use x=\"141.601562\" xlink:href=\"#DejaVuSans-105\"/>\n      <use x=\"169.384766\" xlink:href=\"#DejaVuSans-110\"/>\n      <use x=\"232.763672\" xlink:href=\"#DejaVuSans-32\"/>\n      <use x=\"264.550781\" xlink:href=\"#DejaVuSans-108\"/>\n      <use x=\"292.333984\" xlink:href=\"#DejaVuSans-111\"/>\n      <use x=\"353.515625\" xlink:href=\"#DejaVuSans-115\"/>\n      <use x=\"405.615234\" xlink:href=\"#DejaVuSans-115\"/>\n     </g>\n    </g>\n    <g id=\"line2d_26\">\n     <path d=\"M 142.634375 34.976562 \nL 162.634375 34.976562 \n\" style=\"fill:none;stroke:#bf00bf;stroke-dasharray:5.55,2.4;stroke-dashoffset:0;stroke-width:1.5;\"/>\n    </g>\n    <g id=\"line2d_27\"/>\n    <g id=\"text_13\">\n     <!-- train acc -->\n     <g transform=\"translate(170.634375 38.476562)scale(0.1 -0.1)\">\n      <use xlink:href=\"#DejaVuSans-116\"/>\n      <use x=\"39.208984\" xlink:href=\"#DejaVuSans-114\"/>\n      <use x=\"80.322266\" xlink:href=\"#DejaVuSans-97\"/>\n      <use x=\"141.601562\" xlink:href=\"#DejaVuSans-105\"/>\n      <use x=\"169.384766\" xlink:href=\"#DejaVuSans-110\"/>\n      <use x=\"232.763672\" xlink:href=\"#DejaVuSans-32\"/>\n      <use x=\"264.550781\" xlink:href=\"#DejaVuSans-97\"/>\n      <use x=\"325.830078\" xlink:href=\"#DejaVuSans-99\"/>\n      <use x=\"380.810547\" xlink:href=\"#DejaVuSans-99\"/>\n     </g>\n    </g>\n    <g id=\"line2d_28\">\n     <path d=\"M 142.634375 49.654688 \nL 162.634375 49.654688 \n\" style=\"fill:none;stroke:#008000;stroke-dasharray:9.6,2.4,1.5,2.4;stroke-dashoffset:0;stroke-width:1.5;\"/>\n    </g>\n    <g id=\"line2d_29\"/>\n    <g id=\"text_14\">\n     <!-- test acc -->\n     <g transform=\"translate(170.634375 53.154688)scale(0.1 -0.1)\">\n      <use xlink:href=\"#DejaVuSans-116\"/>\n      <use x=\"39.208984\" xlink:href=\"#DejaVuSans-101\"/>\n      <use x=\"100.732422\" xlink:href=\"#DejaVuSans-115\"/>\n      <use x=\"152.832031\" xlink:href=\"#DejaVuSans-116\"/>\n      <use x=\"192.041016\" xlink:href=\"#DejaVuSans-32\"/>\n      <use x=\"223.828125\" xlink:href=\"#DejaVuSans-97\"/>\n      <use x=\"285.107422\" xlink:href=\"#DejaVuSans-99\"/>\n      <use x=\"340.087891\" xlink:href=\"#DejaVuSans-99\"/>\n     </g>\n    </g>\n   </g>\n  </g>\n </g>\n <defs>\n  <clipPath id=\"p000d7bfe7a\">\n   <rect height=\"135.9\" width=\"195.3\" x=\"30.103125\" y=\"7.2\"/>\n  </clipPath>\n </defs>\n</svg>\n"
          },
          "metadata": {
            "needs_background": "light"
          }
        }
      ]
    },
    {
      "cell_type": "markdown",
      "source": [
        "## 7.2. Networks Using Blocks (VGG)\n"
      ],
      "metadata": {
        "id": "-B0KtBMeQPKO"
      }
    },
    {
      "cell_type": "markdown",
      "source": [
        "### 7.2.1. VGG Blocks\n"
      ],
      "metadata": {
        "id": "l6jIycfiQTCA"
      }
    },
    {
      "cell_type": "code",
      "source": [
        "def vgg_block(num_convs, in_channels, out_channels):\n",
        "  layers=[]\n",
        "  for _ in range(num_convs):\n",
        "    layers.append(nn.Conv2d(in_channels, out_channels, kernel_size=3, padding=1))\n",
        "    layers.append(nn.ReLU())\n",
        "    in_channels=out_channels\n",
        "    layers.append(nn.MaxPool2d(kernel_size=2, stride=2))\n",
        "    return nn.Sequential(*layers)"
      ],
      "metadata": {
        "id": "VwA00OiEQXVV"
      },
      "execution_count": 6,
      "outputs": []
    },
    {
      "cell_type": "markdown",
      "source": [
        "### 7.2.2. VGG Network\n"
      ],
      "metadata": {
        "id": "JKG3hLrqRE8c"
      }
    },
    {
      "cell_type": "code",
      "source": [
        "conv_arch = ((1, 64), (1, 128), (2, 256), (2, 512), (2, 512))"
      ],
      "metadata": {
        "id": "mxEWZ2afRDz9"
      },
      "execution_count": 7,
      "outputs": []
    },
    {
      "cell_type": "code",
      "source": [
        "def vgg(conv_arch):\n",
        "    conv_blks = []\n",
        "    in_channels = 1\n",
        "    # The convolutional part\n",
        "    for (num_convs, out_channels) in conv_arch:\n",
        "        conv_blks.append(vgg_block(num_convs, in_channels, out_channels))\n",
        "        in_channels = out_channels\n",
        "\n",
        "    return nn.Sequential(\n",
        "        *conv_blks, nn.Flatten(),\n",
        "        # The fully-connected part\n",
        "        nn.Linear(out_channels * 7 * 7, 4096), nn.ReLU(), nn.Dropout(0.5),\n",
        "        nn.Linear(4096, 4096), nn.ReLU(), nn.Dropout(0.5),\n",
        "        nn.Linear(4096, 10))\n",
        "\n",
        "net = vgg(conv_arch)"
      ],
      "metadata": {
        "id": "Px68uz2FRH-o"
      },
      "execution_count": 8,
      "outputs": []
    },
    {
      "cell_type": "code",
      "source": [
        "X = torch.randn(size=(1, 1, 224, 224))\n",
        "for blk in net:\n",
        "    X = blk(X)\n",
        "    print(blk.__class__.__name__,'output shape:\\t',X.shape)"
      ],
      "metadata": {
        "colab": {
          "base_uri": "https://localhost:8080/"
        },
        "id": "Ut-R1I9sRJbH",
        "outputId": "3a88b50b-2247-424e-8486-9a4cc4056e93"
      },
      "execution_count": 9,
      "outputs": [
        {
          "output_type": "stream",
          "name": "stdout",
          "text": [
            "Sequential output shape:\t torch.Size([1, 64, 112, 112])\n",
            "Sequential output shape:\t torch.Size([1, 128, 56, 56])\n",
            "Sequential output shape:\t torch.Size([1, 256, 28, 28])\n",
            "Sequential output shape:\t torch.Size([1, 512, 14, 14])\n",
            "Sequential output shape:\t torch.Size([1, 512, 7, 7])\n",
            "Flatten output shape:\t torch.Size([1, 25088])\n",
            "Linear output shape:\t torch.Size([1, 4096])\n",
            "ReLU output shape:\t torch.Size([1, 4096])\n",
            "Dropout output shape:\t torch.Size([1, 4096])\n",
            "Linear output shape:\t torch.Size([1, 4096])\n",
            "ReLU output shape:\t torch.Size([1, 4096])\n",
            "Dropout output shape:\t torch.Size([1, 4096])\n",
            "Linear output shape:\t torch.Size([1, 10])\n"
          ]
        }
      ]
    },
    {
      "cell_type": "markdown",
      "source": [
        "### 7.2.3. Training\n"
      ],
      "metadata": {
        "id": "OkNax-QCRMEa"
      }
    },
    {
      "cell_type": "code",
      "source": [
        "ratio = 4\n",
        "small_conv_arch = [(pair[0], pair[1] // ratio) for pair in conv_arch]\n",
        "net = vgg(small_conv_arch)"
      ],
      "metadata": {
        "id": "kXEynGHmRKX2"
      },
      "execution_count": 10,
      "outputs": []
    },
    {
      "cell_type": "code",
      "source": [
        "lr, num_epochs, batch_size = 0.05, 10, 128\n",
        "train_iter, test_iter = d2l.load_data_fashion_mnist(batch_size, resize=224)\n",
        "d2l.train_ch6(net, train_iter, test_iter, num_epochs, lr, d2l.try_gpu())"
      ],
      "metadata": {
        "colab": {
          "base_uri": "https://localhost:8080/",
          "height": 297
        },
        "id": "Xr_Z665sROH6",
        "outputId": "47faa362-a2cf-4e94-b984-b47e791dbfac"
      },
      "execution_count": 11,
      "outputs": [
        {
          "output_type": "stream",
          "name": "stdout",
          "text": [
            "loss 0.193, train acc 0.928, test acc 0.915\n",
            "501.6 examples/sec on cuda:0\n"
          ]
        },
        {
          "output_type": "display_data",
          "data": {
            "text/plain": [
              "<Figure size 252x180 with 1 Axes>"
            ],
            "image/svg+xml": "<?xml version=\"1.0\" encoding=\"utf-8\" standalone=\"no\"?>\n<!DOCTYPE svg PUBLIC \"-//W3C//DTD SVG 1.1//EN\"\n  \"http://www.w3.org/Graphics/SVG/1.1/DTD/svg11.dtd\">\n<!-- Created with matplotlib (https://matplotlib.org/) -->\n<svg height=\"180.65625pt\" version=\"1.1\" viewBox=\"0 0 238.965625 180.65625\" width=\"238.965625pt\" xmlns=\"http://www.w3.org/2000/svg\" xmlns:xlink=\"http://www.w3.org/1999/xlink\">\n <defs>\n  <style type=\"text/css\">\n*{stroke-linecap:butt;stroke-linejoin:round;}\n  </style>\n </defs>\n <g id=\"figure_1\">\n  <g id=\"patch_1\">\n   <path d=\"M 0 180.65625 \nL 238.965625 180.65625 \nL 238.965625 0 \nL 0 0 \nz\n\" style=\"fill:none;\"/>\n  </g>\n  <g id=\"axes_1\">\n   <g id=\"patch_2\">\n    <path d=\"M 30.103125 143.1 \nL 225.403125 143.1 \nL 225.403125 7.2 \nL 30.103125 7.2 \nz\n\" style=\"fill:#ffffff;\"/>\n   </g>\n   <g id=\"matplotlib.axis_1\">\n    <g id=\"xtick_1\">\n     <g id=\"line2d_1\">\n      <path clip-path=\"url(#p0b19284a70)\" d=\"M 30.103125 143.1 \nL 30.103125 7.2 \n\" style=\"fill:none;stroke:#b0b0b0;stroke-linecap:square;stroke-width:0.8;\"/>\n     </g>\n     <g id=\"line2d_2\">\n      <defs>\n       <path d=\"M 0 0 \nL 0 3.5 \n\" id=\"m61275e34bf\" style=\"stroke:#000000;stroke-width:0.8;\"/>\n      </defs>\n      <g>\n       <use style=\"stroke:#000000;stroke-width:0.8;\" x=\"30.103125\" xlink:href=\"#m61275e34bf\" y=\"143.1\"/>\n      </g>\n     </g>\n     <g id=\"text_1\">\n      <!-- 0 -->\n      <defs>\n       <path d=\"M 31.78125 66.40625 \nQ 24.171875 66.40625 20.328125 58.90625 \nQ 16.5 51.421875 16.5 36.375 \nQ 16.5 21.390625 20.328125 13.890625 \nQ 24.171875 6.390625 31.78125 6.390625 \nQ 39.453125 6.390625 43.28125 13.890625 \nQ 47.125 21.390625 47.125 36.375 \nQ 47.125 51.421875 43.28125 58.90625 \nQ 39.453125 66.40625 31.78125 66.40625 \nz\nM 31.78125 74.21875 \nQ 44.046875 74.21875 50.515625 64.515625 \nQ 56.984375 54.828125 56.984375 36.375 \nQ 56.984375 17.96875 50.515625 8.265625 \nQ 44.046875 -1.421875 31.78125 -1.421875 \nQ 19.53125 -1.421875 13.0625 8.265625 \nQ 6.59375 17.96875 6.59375 36.375 \nQ 6.59375 54.828125 13.0625 64.515625 \nQ 19.53125 74.21875 31.78125 74.21875 \nz\n\" id=\"DejaVuSans-48\"/>\n      </defs>\n      <g transform=\"translate(26.921875 157.698438)scale(0.1 -0.1)\">\n       <use xlink:href=\"#DejaVuSans-48\"/>\n      </g>\n     </g>\n    </g>\n    <g id=\"xtick_2\">\n     <g id=\"line2d_3\">\n      <path clip-path=\"url(#p0b19284a70)\" d=\"M 69.163125 143.1 \nL 69.163125 7.2 \n\" style=\"fill:none;stroke:#b0b0b0;stroke-linecap:square;stroke-width:0.8;\"/>\n     </g>\n     <g id=\"line2d_4\">\n      <g>\n       <use style=\"stroke:#000000;stroke-width:0.8;\" x=\"69.163125\" xlink:href=\"#m61275e34bf\" y=\"143.1\"/>\n      </g>\n     </g>\n     <g id=\"text_2\">\n      <!-- 2 -->\n      <defs>\n       <path d=\"M 19.1875 8.296875 \nL 53.609375 8.296875 \nL 53.609375 0 \nL 7.328125 0 \nL 7.328125 8.296875 \nQ 12.9375 14.109375 22.625 23.890625 \nQ 32.328125 33.6875 34.8125 36.53125 \nQ 39.546875 41.84375 41.421875 45.53125 \nQ 43.3125 49.21875 43.3125 52.78125 \nQ 43.3125 58.59375 39.234375 62.25 \nQ 35.15625 65.921875 28.609375 65.921875 \nQ 23.96875 65.921875 18.8125 64.3125 \nQ 13.671875 62.703125 7.8125 59.421875 \nL 7.8125 69.390625 \nQ 13.765625 71.78125 18.9375 73 \nQ 24.125 74.21875 28.421875 74.21875 \nQ 39.75 74.21875 46.484375 68.546875 \nQ 53.21875 62.890625 53.21875 53.421875 \nQ 53.21875 48.921875 51.53125 44.890625 \nQ 49.859375 40.875 45.40625 35.40625 \nQ 44.1875 33.984375 37.640625 27.21875 \nQ 31.109375 20.453125 19.1875 8.296875 \nz\n\" id=\"DejaVuSans-50\"/>\n      </defs>\n      <g transform=\"translate(65.981875 157.698438)scale(0.1 -0.1)\">\n       <use xlink:href=\"#DejaVuSans-50\"/>\n      </g>\n     </g>\n    </g>\n    <g id=\"xtick_3\">\n     <g id=\"line2d_5\">\n      <path clip-path=\"url(#p0b19284a70)\" d=\"M 108.223125 143.1 \nL 108.223125 7.2 \n\" style=\"fill:none;stroke:#b0b0b0;stroke-linecap:square;stroke-width:0.8;\"/>\n     </g>\n     <g id=\"line2d_6\">\n      <g>\n       <use style=\"stroke:#000000;stroke-width:0.8;\" x=\"108.223125\" xlink:href=\"#m61275e34bf\" y=\"143.1\"/>\n      </g>\n     </g>\n     <g id=\"text_3\">\n      <!-- 4 -->\n      <defs>\n       <path d=\"M 37.796875 64.3125 \nL 12.890625 25.390625 \nL 37.796875 25.390625 \nz\nM 35.203125 72.90625 \nL 47.609375 72.90625 \nL 47.609375 25.390625 \nL 58.015625 25.390625 \nL 58.015625 17.1875 \nL 47.609375 17.1875 \nL 47.609375 0 \nL 37.796875 0 \nL 37.796875 17.1875 \nL 4.890625 17.1875 \nL 4.890625 26.703125 \nz\n\" id=\"DejaVuSans-52\"/>\n      </defs>\n      <g transform=\"translate(105.041875 157.698438)scale(0.1 -0.1)\">\n       <use xlink:href=\"#DejaVuSans-52\"/>\n      </g>\n     </g>\n    </g>\n    <g id=\"xtick_4\">\n     <g id=\"line2d_7\">\n      <path clip-path=\"url(#p0b19284a70)\" d=\"M 147.283125 143.1 \nL 147.283125 7.2 \n\" style=\"fill:none;stroke:#b0b0b0;stroke-linecap:square;stroke-width:0.8;\"/>\n     </g>\n     <g id=\"line2d_8\">\n      <g>\n       <use style=\"stroke:#000000;stroke-width:0.8;\" x=\"147.283125\" xlink:href=\"#m61275e34bf\" y=\"143.1\"/>\n      </g>\n     </g>\n     <g id=\"text_4\">\n      <!-- 6 -->\n      <defs>\n       <path d=\"M 33.015625 40.375 \nQ 26.375 40.375 22.484375 35.828125 \nQ 18.609375 31.296875 18.609375 23.390625 \nQ 18.609375 15.53125 22.484375 10.953125 \nQ 26.375 6.390625 33.015625 6.390625 \nQ 39.65625 6.390625 43.53125 10.953125 \nQ 47.40625 15.53125 47.40625 23.390625 \nQ 47.40625 31.296875 43.53125 35.828125 \nQ 39.65625 40.375 33.015625 40.375 \nz\nM 52.59375 71.296875 \nL 52.59375 62.3125 \nQ 48.875 64.0625 45.09375 64.984375 \nQ 41.3125 65.921875 37.59375 65.921875 \nQ 27.828125 65.921875 22.671875 59.328125 \nQ 17.53125 52.734375 16.796875 39.40625 \nQ 19.671875 43.65625 24.015625 45.921875 \nQ 28.375 48.1875 33.59375 48.1875 \nQ 44.578125 48.1875 50.953125 41.515625 \nQ 57.328125 34.859375 57.328125 23.390625 \nQ 57.328125 12.15625 50.6875 5.359375 \nQ 44.046875 -1.421875 33.015625 -1.421875 \nQ 20.359375 -1.421875 13.671875 8.265625 \nQ 6.984375 17.96875 6.984375 36.375 \nQ 6.984375 53.65625 15.1875 63.9375 \nQ 23.390625 74.21875 37.203125 74.21875 \nQ 40.921875 74.21875 44.703125 73.484375 \nQ 48.484375 72.75 52.59375 71.296875 \nz\n\" id=\"DejaVuSans-54\"/>\n      </defs>\n      <g transform=\"translate(144.101875 157.698438)scale(0.1 -0.1)\">\n       <use xlink:href=\"#DejaVuSans-54\"/>\n      </g>\n     </g>\n    </g>\n    <g id=\"xtick_5\">\n     <g id=\"line2d_9\">\n      <path clip-path=\"url(#p0b19284a70)\" d=\"M 186.343125 143.1 \nL 186.343125 7.2 \n\" style=\"fill:none;stroke:#b0b0b0;stroke-linecap:square;stroke-width:0.8;\"/>\n     </g>\n     <g id=\"line2d_10\">\n      <g>\n       <use style=\"stroke:#000000;stroke-width:0.8;\" x=\"186.343125\" xlink:href=\"#m61275e34bf\" y=\"143.1\"/>\n      </g>\n     </g>\n     <g id=\"text_5\">\n      <!-- 8 -->\n      <defs>\n       <path d=\"M 31.78125 34.625 \nQ 24.75 34.625 20.71875 30.859375 \nQ 16.703125 27.09375 16.703125 20.515625 \nQ 16.703125 13.921875 20.71875 10.15625 \nQ 24.75 6.390625 31.78125 6.390625 \nQ 38.8125 6.390625 42.859375 10.171875 \nQ 46.921875 13.96875 46.921875 20.515625 \nQ 46.921875 27.09375 42.890625 30.859375 \nQ 38.875 34.625 31.78125 34.625 \nz\nM 21.921875 38.8125 \nQ 15.578125 40.375 12.03125 44.71875 \nQ 8.5 49.078125 8.5 55.328125 \nQ 8.5 64.0625 14.71875 69.140625 \nQ 20.953125 74.21875 31.78125 74.21875 \nQ 42.671875 74.21875 48.875 69.140625 \nQ 55.078125 64.0625 55.078125 55.328125 \nQ 55.078125 49.078125 51.53125 44.71875 \nQ 48 40.375 41.703125 38.8125 \nQ 48.828125 37.15625 52.796875 32.3125 \nQ 56.78125 27.484375 56.78125 20.515625 \nQ 56.78125 9.90625 50.3125 4.234375 \nQ 43.84375 -1.421875 31.78125 -1.421875 \nQ 19.734375 -1.421875 13.25 4.234375 \nQ 6.78125 9.90625 6.78125 20.515625 \nQ 6.78125 27.484375 10.78125 32.3125 \nQ 14.796875 37.15625 21.921875 38.8125 \nz\nM 18.3125 54.390625 \nQ 18.3125 48.734375 21.84375 45.5625 \nQ 25.390625 42.390625 31.78125 42.390625 \nQ 38.140625 42.390625 41.71875 45.5625 \nQ 45.3125 48.734375 45.3125 54.390625 \nQ 45.3125 60.0625 41.71875 63.234375 \nQ 38.140625 66.40625 31.78125 66.40625 \nQ 25.390625 66.40625 21.84375 63.234375 \nQ 18.3125 60.0625 18.3125 54.390625 \nz\n\" id=\"DejaVuSans-56\"/>\n      </defs>\n      <g transform=\"translate(183.161875 157.698438)scale(0.1 -0.1)\">\n       <use xlink:href=\"#DejaVuSans-56\"/>\n      </g>\n     </g>\n    </g>\n    <g id=\"xtick_6\">\n     <g id=\"line2d_11\">\n      <path clip-path=\"url(#p0b19284a70)\" d=\"M 225.403125 143.1 \nL 225.403125 7.2 \n\" style=\"fill:none;stroke:#b0b0b0;stroke-linecap:square;stroke-width:0.8;\"/>\n     </g>\n     <g id=\"line2d_12\">\n      <g>\n       <use style=\"stroke:#000000;stroke-width:0.8;\" x=\"225.403125\" xlink:href=\"#m61275e34bf\" y=\"143.1\"/>\n      </g>\n     </g>\n     <g id=\"text_6\">\n      <!-- 10 -->\n      <defs>\n       <path d=\"M 12.40625 8.296875 \nL 28.515625 8.296875 \nL 28.515625 63.921875 \nL 10.984375 60.40625 \nL 10.984375 69.390625 \nL 28.421875 72.90625 \nL 38.28125 72.90625 \nL 38.28125 8.296875 \nL 54.390625 8.296875 \nL 54.390625 0 \nL 12.40625 0 \nz\n\" id=\"DejaVuSans-49\"/>\n      </defs>\n      <g transform=\"translate(219.040625 157.698438)scale(0.1 -0.1)\">\n       <use xlink:href=\"#DejaVuSans-49\"/>\n       <use x=\"63.623047\" xlink:href=\"#DejaVuSans-48\"/>\n      </g>\n     </g>\n    </g>\n    <g id=\"text_7\">\n     <!-- epoch -->\n     <defs>\n      <path d=\"M 56.203125 29.59375 \nL 56.203125 25.203125 \nL 14.890625 25.203125 \nQ 15.484375 15.921875 20.484375 11.0625 \nQ 25.484375 6.203125 34.421875 6.203125 \nQ 39.59375 6.203125 44.453125 7.46875 \nQ 49.3125 8.734375 54.109375 11.28125 \nL 54.109375 2.78125 \nQ 49.265625 0.734375 44.1875 -0.34375 \nQ 39.109375 -1.421875 33.890625 -1.421875 \nQ 20.796875 -1.421875 13.15625 6.1875 \nQ 5.515625 13.8125 5.515625 26.8125 \nQ 5.515625 40.234375 12.765625 48.109375 \nQ 20.015625 56 32.328125 56 \nQ 43.359375 56 49.78125 48.890625 \nQ 56.203125 41.796875 56.203125 29.59375 \nz\nM 47.21875 32.234375 \nQ 47.125 39.59375 43.09375 43.984375 \nQ 39.0625 48.390625 32.421875 48.390625 \nQ 24.90625 48.390625 20.390625 44.140625 \nQ 15.875 39.890625 15.1875 32.171875 \nz\n\" id=\"DejaVuSans-101\"/>\n      <path d=\"M 18.109375 8.203125 \nL 18.109375 -20.796875 \nL 9.078125 -20.796875 \nL 9.078125 54.6875 \nL 18.109375 54.6875 \nL 18.109375 46.390625 \nQ 20.953125 51.265625 25.265625 53.625 \nQ 29.59375 56 35.59375 56 \nQ 45.5625 56 51.78125 48.09375 \nQ 58.015625 40.1875 58.015625 27.296875 \nQ 58.015625 14.40625 51.78125 6.484375 \nQ 45.5625 -1.421875 35.59375 -1.421875 \nQ 29.59375 -1.421875 25.265625 0.953125 \nQ 20.953125 3.328125 18.109375 8.203125 \nz\nM 48.6875 27.296875 \nQ 48.6875 37.203125 44.609375 42.84375 \nQ 40.53125 48.484375 33.40625 48.484375 \nQ 26.265625 48.484375 22.1875 42.84375 \nQ 18.109375 37.203125 18.109375 27.296875 \nQ 18.109375 17.390625 22.1875 11.75 \nQ 26.265625 6.109375 33.40625 6.109375 \nQ 40.53125 6.109375 44.609375 11.75 \nQ 48.6875 17.390625 48.6875 27.296875 \nz\n\" id=\"DejaVuSans-112\"/>\n      <path d=\"M 30.609375 48.390625 \nQ 23.390625 48.390625 19.1875 42.75 \nQ 14.984375 37.109375 14.984375 27.296875 \nQ 14.984375 17.484375 19.15625 11.84375 \nQ 23.34375 6.203125 30.609375 6.203125 \nQ 37.796875 6.203125 41.984375 11.859375 \nQ 46.1875 17.53125 46.1875 27.296875 \nQ 46.1875 37.015625 41.984375 42.703125 \nQ 37.796875 48.390625 30.609375 48.390625 \nz\nM 30.609375 56 \nQ 42.328125 56 49.015625 48.375 \nQ 55.71875 40.765625 55.71875 27.296875 \nQ 55.71875 13.875 49.015625 6.21875 \nQ 42.328125 -1.421875 30.609375 -1.421875 \nQ 18.84375 -1.421875 12.171875 6.21875 \nQ 5.515625 13.875 5.515625 27.296875 \nQ 5.515625 40.765625 12.171875 48.375 \nQ 18.84375 56 30.609375 56 \nz\n\" id=\"DejaVuSans-111\"/>\n      <path d=\"M 48.78125 52.59375 \nL 48.78125 44.1875 \nQ 44.96875 46.296875 41.140625 47.34375 \nQ 37.3125 48.390625 33.40625 48.390625 \nQ 24.65625 48.390625 19.8125 42.84375 \nQ 14.984375 37.3125 14.984375 27.296875 \nQ 14.984375 17.28125 19.8125 11.734375 \nQ 24.65625 6.203125 33.40625 6.203125 \nQ 37.3125 6.203125 41.140625 7.25 \nQ 44.96875 8.296875 48.78125 10.40625 \nL 48.78125 2.09375 \nQ 45.015625 0.34375 40.984375 -0.53125 \nQ 36.96875 -1.421875 32.421875 -1.421875 \nQ 20.0625 -1.421875 12.78125 6.34375 \nQ 5.515625 14.109375 5.515625 27.296875 \nQ 5.515625 40.671875 12.859375 48.328125 \nQ 20.21875 56 33.015625 56 \nQ 37.15625 56 41.109375 55.140625 \nQ 45.0625 54.296875 48.78125 52.59375 \nz\n\" id=\"DejaVuSans-99\"/>\n      <path d=\"M 54.890625 33.015625 \nL 54.890625 0 \nL 45.90625 0 \nL 45.90625 32.71875 \nQ 45.90625 40.484375 42.875 44.328125 \nQ 39.84375 48.1875 33.796875 48.1875 \nQ 26.515625 48.1875 22.3125 43.546875 \nQ 18.109375 38.921875 18.109375 30.90625 \nL 18.109375 0 \nL 9.078125 0 \nL 9.078125 75.984375 \nL 18.109375 75.984375 \nL 18.109375 46.1875 \nQ 21.34375 51.125 25.703125 53.5625 \nQ 30.078125 56 35.796875 56 \nQ 45.21875 56 50.046875 50.171875 \nQ 54.890625 44.34375 54.890625 33.015625 \nz\n\" id=\"DejaVuSans-104\"/>\n     </defs>\n     <g transform=\"translate(112.525 171.376563)scale(0.1 -0.1)\">\n      <use xlink:href=\"#DejaVuSans-101\"/>\n      <use x=\"61.523438\" xlink:href=\"#DejaVuSans-112\"/>\n      <use x=\"125\" xlink:href=\"#DejaVuSans-111\"/>\n      <use x=\"186.181641\" xlink:href=\"#DejaVuSans-99\"/>\n      <use x=\"241.162109\" xlink:href=\"#DejaVuSans-104\"/>\n     </g>\n    </g>\n   </g>\n   <g id=\"matplotlib.axis_2\">\n    <g id=\"ytick_1\">\n     <g id=\"line2d_13\">\n      <path clip-path=\"url(#p0b19284a70)\" d=\"M 30.103125 116.619255 \nL 225.403125 116.619255 \n\" style=\"fill:none;stroke:#b0b0b0;stroke-linecap:square;stroke-width:0.8;\"/>\n     </g>\n     <g id=\"line2d_14\">\n      <defs>\n       <path d=\"M 0 0 \nL -3.5 0 \n\" id=\"m39d6b30d82\" style=\"stroke:#000000;stroke-width:0.8;\"/>\n      </defs>\n      <g>\n       <use style=\"stroke:#000000;stroke-width:0.8;\" x=\"30.103125\" xlink:href=\"#m39d6b30d82\" y=\"116.619255\"/>\n      </g>\n     </g>\n     <g id=\"text_8\">\n      <!-- 0.5 -->\n      <defs>\n       <path d=\"M 10.6875 12.40625 \nL 21 12.40625 \nL 21 0 \nL 10.6875 0 \nz\n\" id=\"DejaVuSans-46\"/>\n       <path d=\"M 10.796875 72.90625 \nL 49.515625 72.90625 \nL 49.515625 64.59375 \nL 19.828125 64.59375 \nL 19.828125 46.734375 \nQ 21.96875 47.46875 24.109375 47.828125 \nQ 26.265625 48.1875 28.421875 48.1875 \nQ 40.625 48.1875 47.75 41.5 \nQ 54.890625 34.8125 54.890625 23.390625 \nQ 54.890625 11.625 47.5625 5.09375 \nQ 40.234375 -1.421875 26.90625 -1.421875 \nQ 22.3125 -1.421875 17.546875 -0.640625 \nQ 12.796875 0.140625 7.71875 1.703125 \nL 7.71875 11.625 \nQ 12.109375 9.234375 16.796875 8.0625 \nQ 21.484375 6.890625 26.703125 6.890625 \nQ 35.15625 6.890625 40.078125 11.328125 \nQ 45.015625 15.765625 45.015625 23.390625 \nQ 45.015625 31 40.078125 35.4375 \nQ 35.15625 39.890625 26.703125 39.890625 \nQ 22.75 39.890625 18.8125 39.015625 \nQ 14.890625 38.140625 10.796875 36.28125 \nz\n\" id=\"DejaVuSans-53\"/>\n      </defs>\n      <g transform=\"translate(7.2 120.418474)scale(0.1 -0.1)\">\n       <use xlink:href=\"#DejaVuSans-48\"/>\n       <use x=\"63.623047\" xlink:href=\"#DejaVuSans-46\"/>\n       <use x=\"95.410156\" xlink:href=\"#DejaVuSans-53\"/>\n      </g>\n     </g>\n    </g>\n    <g id=\"ytick_2\">\n     <g id=\"line2d_15\">\n      <path clip-path=\"url(#p0b19284a70)\" d=\"M 30.103125 84.010422 \nL 225.403125 84.010422 \n\" style=\"fill:none;stroke:#b0b0b0;stroke-linecap:square;stroke-width:0.8;\"/>\n     </g>\n     <g id=\"line2d_16\">\n      <g>\n       <use style=\"stroke:#000000;stroke-width:0.8;\" x=\"30.103125\" xlink:href=\"#m39d6b30d82\" y=\"84.010422\"/>\n      </g>\n     </g>\n     <g id=\"text_9\">\n      <!-- 1.0 -->\n      <g transform=\"translate(7.2 87.809641)scale(0.1 -0.1)\">\n       <use xlink:href=\"#DejaVuSans-49\"/>\n       <use x=\"63.623047\" xlink:href=\"#DejaVuSans-46\"/>\n       <use x=\"95.410156\" xlink:href=\"#DejaVuSans-48\"/>\n      </g>\n     </g>\n    </g>\n    <g id=\"ytick_3\">\n     <g id=\"line2d_17\">\n      <path clip-path=\"url(#p0b19284a70)\" d=\"M 30.103125 51.401589 \nL 225.403125 51.401589 \n\" style=\"fill:none;stroke:#b0b0b0;stroke-linecap:square;stroke-width:0.8;\"/>\n     </g>\n     <g id=\"line2d_18\">\n      <g>\n       <use style=\"stroke:#000000;stroke-width:0.8;\" x=\"30.103125\" xlink:href=\"#m39d6b30d82\" y=\"51.401589\"/>\n      </g>\n     </g>\n     <g id=\"text_10\">\n      <!-- 1.5 -->\n      <g transform=\"translate(7.2 55.200808)scale(0.1 -0.1)\">\n       <use xlink:href=\"#DejaVuSans-49\"/>\n       <use x=\"63.623047\" xlink:href=\"#DejaVuSans-46\"/>\n       <use x=\"95.410156\" xlink:href=\"#DejaVuSans-53\"/>\n      </g>\n     </g>\n    </g>\n    <g id=\"ytick_4\">\n     <g id=\"line2d_19\">\n      <path clip-path=\"url(#p0b19284a70)\" d=\"M 30.103125 18.792756 \nL 225.403125 18.792756 \n\" style=\"fill:none;stroke:#b0b0b0;stroke-linecap:square;stroke-width:0.8;\"/>\n     </g>\n     <g id=\"line2d_20\">\n      <g>\n       <use style=\"stroke:#000000;stroke-width:0.8;\" x=\"30.103125\" xlink:href=\"#m39d6b30d82\" y=\"18.792756\"/>\n      </g>\n     </g>\n     <g id=\"text_11\">\n      <!-- 2.0 -->\n      <g transform=\"translate(7.2 22.591975)scale(0.1 -0.1)\">\n       <use xlink:href=\"#DejaVuSans-50\"/>\n       <use x=\"63.623047\" xlink:href=\"#DejaVuSans-46\"/>\n       <use x=\"95.410156\" xlink:href=\"#DejaVuSans-48\"/>\n      </g>\n     </g>\n    </g>\n   </g>\n   <g id=\"line2d_21\">\n    <path clip-path=\"url(#p0b19284a70)\" d=\"M 32.143573 13.377273 \nL 34.225662 44.934477 \nL 36.307752 60.907516 \nL 38.389841 71.763647 \nL 40.471931 78.841657 \nL 42.554021 84.087047 \nL 44.63611 88.51063 \nL 46.7182 91.861073 \nL 48.800289 94.69991 \nL 51.673573 119.623091 \nL 53.755662 120.717423 \nL 55.837752 120.22423 \nL 57.919841 120.504451 \nL 60.001931 121.045199 \nL 62.084021 121.344271 \nL 64.16611 121.684801 \nL 66.2482 122.093271 \nL 68.330289 122.465675 \nL 71.203573 126.848192 \nL 73.285662 126.716363 \nL 75.367752 126.356246 \nL 77.449841 126.408758 \nL 79.531931 126.546703 \nL 81.614021 126.645309 \nL 83.69611 126.740242 \nL 85.7782 126.910538 \nL 87.860289 127.136341 \nL 90.733573 129.666801 \nL 92.815662 129.375284 \nL 94.897752 128.918302 \nL 96.979841 129.327469 \nL 99.061931 129.395128 \nL 101.144021 129.43918 \nL 103.22611 129.494151 \nL 105.3082 129.605744 \nL 107.390289 129.670775 \nL 110.263573 132.348943 \nL 112.345662 131.887804 \nL 114.427752 131.664846 \nL 116.509841 131.487291 \nL 118.591931 131.55813 \nL 120.674021 131.579339 \nL 122.75611 131.428721 \nL 124.8382 131.380636 \nL 126.920289 131.466719 \nL 129.793573 132.251639 \nL 131.875662 132.396445 \nL 133.957752 132.577559 \nL 136.039841 132.828936 \nL 138.121931 132.885377 \nL 140.204021 132.704684 \nL 142.28611 132.875925 \nL 144.3682 132.887188 \nL 146.450289 132.880806 \nL 149.323573 133.925365 \nL 151.405662 133.734077 \nL 153.487752 133.893374 \nL 155.569841 133.765797 \nL 157.651931 133.828014 \nL 159.734021 133.755207 \nL 161.81611 133.852219 \nL 163.8982 133.937826 \nL 165.980289 133.971069 \nL 168.853573 134.631799 \nL 170.935662 135.010588 \nL 173.017752 134.731792 \nL 175.099841 134.719123 \nL 177.181931 134.590625 \nL 179.264021 134.766001 \nL 181.34611 134.887012 \nL 183.4282 134.992471 \nL 185.510289 134.923063 \nL 188.383573 135.739806 \nL 190.465662 135.690222 \nL 192.547752 135.895082 \nL 194.629841 135.900215 \nL 196.711931 135.912282 \nL 198.794021 135.904303 \nL 200.87611 135.794356 \nL 202.9582 135.785393 \nL 205.040289 135.841129 \nL 207.913573 136.771917 \nL 209.995662 136.922727 \nL 212.077752 136.864042 \nL 214.159841 136.732309 \nL 216.241931 136.61531 \nL 218.324021 136.736792 \nL 220.40611 136.634097 \nL 222.4882 136.662482 \nL 224.570289 136.650554 \n\" style=\"fill:none;stroke:#1f77b4;stroke-linecap:square;stroke-width:1.5;\"/>\n   </g>\n   <g id=\"line2d_22\">\n    <path clip-path=\"url(#p0b19284a70)\" d=\"M 32.143573 132.037119 \nL 34.225662 121.423963 \nL 36.307752 115.909333 \nL 38.389841 112.079494 \nL 40.471931 109.671535 \nL 42.554021 107.850536 \nL 44.63611 106.287787 \nL 46.7182 105.066047 \nL 48.800289 104.050135 \nL 51.673573 94.812098 \nL 53.755662 94.435058 \nL 55.837752 94.679624 \nL 57.919841 94.572627 \nL 60.001931 94.369841 \nL 62.084021 94.25503 \nL 64.16611 94.092957 \nL 66.2482 93.943378 \nL 68.330289 93.817981 \nL 71.203573 91.816161 \nL 73.285662 92.183011 \nL 75.367752 92.291707 \nL 77.449841 92.295104 \nL 79.531931 92.240076 \nL 81.614021 92.247549 \nL 83.69611 92.242697 \nL 85.7782 92.21995 \nL 87.860289 92.110547 \nL 90.733573 91.194555 \nL 92.815662 91.337219 \nL 94.897752 91.473089 \nL 96.979841 91.299006 \nL 99.061931 91.272001 \nL 101.144021 91.277776 \nL 103.22611 91.29937 \nL 105.3082 91.274804 \nL 107.390289 91.246639 \nL 110.263573 90.511808 \nL 112.345662 90.455762 \nL 114.427752 90.498221 \nL 116.509841 90.575497 \nL 118.591931 90.534227 \nL 120.674021 90.547474 \nL 122.75611 90.60352 \nL 124.8382 90.581866 \nL 126.920289 90.538982 \nL 129.793573 90.552569 \nL 131.875662 90.369144 \nL 133.957752 90.240068 \nL 136.039841 90.162792 \nL 138.121931 90.079741 \nL 140.204021 90.139864 \nL 142.28611 90.066348 \nL 144.3682 90.076174 \nL 146.450289 90.087214 \nL 149.323573 89.757729 \nL 151.405662 89.732253 \nL 153.487752 89.713571 \nL 155.569841 89.729706 \nL 157.651931 89.741424 \nL 159.734021 89.806982 \nL 161.81611 89.797034 \nL 163.8982 89.738622 \nL 165.980289 89.713571 \nL 168.853573 89.288977 \nL 170.935662 89.187074 \nL 173.017752 89.339928 \nL 175.099841 89.365404 \nL 177.181931 89.417374 \nL 179.264021 89.346722 \nL 181.34611 89.291888 \nL 183.4282 89.241847 \nL 185.510289 89.311622 \nL 188.383573 89.044411 \nL 190.465662 89.069886 \nL 192.547752 89.047807 \nL 194.629841 89.036768 \nL 196.711931 89.017916 \nL 198.794021 89.000253 \nL 200.87611 89.003649 \nL 202.9582 89.010018 \nL 205.040289 88.971946 \nL 207.913573 88.565468 \nL 209.995662 88.585849 \nL 212.077752 88.548485 \nL 214.159841 88.588396 \nL 216.241931 88.606229 \nL 218.324021 88.611324 \nL 220.40611 88.664459 \nL 222.4882 88.657181 \nL 224.570289 88.684355 \n\" style=\"fill:none;stroke:#bf00bf;stroke-dasharray:5.55,2.4;stroke-dashoffset:0;stroke-width:1.5;\"/>\n   </g>\n   <g id=\"line2d_23\">\n    <path clip-path=\"url(#p0b19284a70)\" d=\"M 49.633125 95.221339 \nL 69.163125 92.508284 \nL 88.693125 91.464801 \nL 108.223125 90.988712 \nL 127.753125 90.558276 \nL 147.283125 90.812625 \nL 166.813125 90.036534 \nL 186.343125 89.456097 \nL 205.873125 89.703924 \nL 225.403125 89.553924 \n\" style=\"fill:none;stroke:#008000;stroke-dasharray:9.6,2.4,1.5,2.4;stroke-dashoffset:0;stroke-width:1.5;\"/>\n   </g>\n   <g id=\"patch_3\">\n    <path d=\"M 30.103125 143.1 \nL 30.103125 7.2 \n\" style=\"fill:none;stroke:#000000;stroke-linecap:square;stroke-linejoin:miter;stroke-width:0.8;\"/>\n   </g>\n   <g id=\"patch_4\">\n    <path d=\"M 225.403125 143.1 \nL 225.403125 7.2 \n\" style=\"fill:none;stroke:#000000;stroke-linecap:square;stroke-linejoin:miter;stroke-width:0.8;\"/>\n   </g>\n   <g id=\"patch_5\">\n    <path d=\"M 30.103125 143.1 \nL 225.403125 143.1 \n\" style=\"fill:none;stroke:#000000;stroke-linecap:square;stroke-linejoin:miter;stroke-width:0.8;\"/>\n   </g>\n   <g id=\"patch_6\">\n    <path d=\"M 30.103125 7.2 \nL 225.403125 7.2 \n\" style=\"fill:none;stroke:#000000;stroke-linecap:square;stroke-linejoin:miter;stroke-width:0.8;\"/>\n   </g>\n   <g id=\"legend_1\">\n    <g id=\"patch_7\">\n     <path d=\"M 140.634375 59.234375 \nL 218.403125 59.234375 \nQ 220.403125 59.234375 220.403125 57.234375 \nL 220.403125 14.2 \nQ 220.403125 12.2 218.403125 12.2 \nL 140.634375 12.2 \nQ 138.634375 12.2 138.634375 14.2 \nL 138.634375 57.234375 \nQ 138.634375 59.234375 140.634375 59.234375 \nz\n\" style=\"fill:#ffffff;opacity:0.8;stroke:#cccccc;stroke-linejoin:miter;\"/>\n    </g>\n    <g id=\"line2d_24\">\n     <path d=\"M 142.634375 20.298438 \nL 162.634375 20.298438 \n\" style=\"fill:none;stroke:#1f77b4;stroke-linecap:square;stroke-width:1.5;\"/>\n    </g>\n    <g id=\"line2d_25\"/>\n    <g id=\"text_12\">\n     <!-- train loss -->\n     <defs>\n      <path d=\"M 18.3125 70.21875 \nL 18.3125 54.6875 \nL 36.8125 54.6875 \nL 36.8125 47.703125 \nL 18.3125 47.703125 \nL 18.3125 18.015625 \nQ 18.3125 11.328125 20.140625 9.421875 \nQ 21.96875 7.515625 27.59375 7.515625 \nL 36.8125 7.515625 \nL 36.8125 0 \nL 27.59375 0 \nQ 17.1875 0 13.234375 3.875 \nQ 9.28125 7.765625 9.28125 18.015625 \nL 9.28125 47.703125 \nL 2.6875 47.703125 \nL 2.6875 54.6875 \nL 9.28125 54.6875 \nL 9.28125 70.21875 \nz\n\" id=\"DejaVuSans-116\"/>\n      <path d=\"M 41.109375 46.296875 \nQ 39.59375 47.171875 37.8125 47.578125 \nQ 36.03125 48 33.890625 48 \nQ 26.265625 48 22.1875 43.046875 \nQ 18.109375 38.09375 18.109375 28.8125 \nL 18.109375 0 \nL 9.078125 0 \nL 9.078125 54.6875 \nL 18.109375 54.6875 \nL 18.109375 46.1875 \nQ 20.953125 51.171875 25.484375 53.578125 \nQ 30.03125 56 36.53125 56 \nQ 37.453125 56 38.578125 55.875 \nQ 39.703125 55.765625 41.0625 55.515625 \nz\n\" id=\"DejaVuSans-114\"/>\n      <path d=\"M 34.28125 27.484375 \nQ 23.390625 27.484375 19.1875 25 \nQ 14.984375 22.515625 14.984375 16.5 \nQ 14.984375 11.71875 18.140625 8.90625 \nQ 21.296875 6.109375 26.703125 6.109375 \nQ 34.1875 6.109375 38.703125 11.40625 \nQ 43.21875 16.703125 43.21875 25.484375 \nL 43.21875 27.484375 \nz\nM 52.203125 31.203125 \nL 52.203125 0 \nL 43.21875 0 \nL 43.21875 8.296875 \nQ 40.140625 3.328125 35.546875 0.953125 \nQ 30.953125 -1.421875 24.3125 -1.421875 \nQ 15.921875 -1.421875 10.953125 3.296875 \nQ 6 8.015625 6 15.921875 \nQ 6 25.140625 12.171875 29.828125 \nQ 18.359375 34.515625 30.609375 34.515625 \nL 43.21875 34.515625 \nL 43.21875 35.40625 \nQ 43.21875 41.609375 39.140625 45 \nQ 35.0625 48.390625 27.6875 48.390625 \nQ 23 48.390625 18.546875 47.265625 \nQ 14.109375 46.140625 10.015625 43.890625 \nL 10.015625 52.203125 \nQ 14.9375 54.109375 19.578125 55.046875 \nQ 24.21875 56 28.609375 56 \nQ 40.484375 56 46.34375 49.84375 \nQ 52.203125 43.703125 52.203125 31.203125 \nz\n\" id=\"DejaVuSans-97\"/>\n      <path d=\"M 9.421875 54.6875 \nL 18.40625 54.6875 \nL 18.40625 0 \nL 9.421875 0 \nz\nM 9.421875 75.984375 \nL 18.40625 75.984375 \nL 18.40625 64.59375 \nL 9.421875 64.59375 \nz\n\" id=\"DejaVuSans-105\"/>\n      <path d=\"M 54.890625 33.015625 \nL 54.890625 0 \nL 45.90625 0 \nL 45.90625 32.71875 \nQ 45.90625 40.484375 42.875 44.328125 \nQ 39.84375 48.1875 33.796875 48.1875 \nQ 26.515625 48.1875 22.3125 43.546875 \nQ 18.109375 38.921875 18.109375 30.90625 \nL 18.109375 0 \nL 9.078125 0 \nL 9.078125 54.6875 \nL 18.109375 54.6875 \nL 18.109375 46.1875 \nQ 21.34375 51.125 25.703125 53.5625 \nQ 30.078125 56 35.796875 56 \nQ 45.21875 56 50.046875 50.171875 \nQ 54.890625 44.34375 54.890625 33.015625 \nz\n\" id=\"DejaVuSans-110\"/>\n      <path id=\"DejaVuSans-32\"/>\n      <path d=\"M 9.421875 75.984375 \nL 18.40625 75.984375 \nL 18.40625 0 \nL 9.421875 0 \nz\n\" id=\"DejaVuSans-108\"/>\n      <path d=\"M 44.28125 53.078125 \nL 44.28125 44.578125 \nQ 40.484375 46.53125 36.375 47.5 \nQ 32.28125 48.484375 27.875 48.484375 \nQ 21.1875 48.484375 17.84375 46.4375 \nQ 14.5 44.390625 14.5 40.28125 \nQ 14.5 37.15625 16.890625 35.375 \nQ 19.28125 33.59375 26.515625 31.984375 \nL 29.59375 31.296875 \nQ 39.15625 29.25 43.1875 25.515625 \nQ 47.21875 21.78125 47.21875 15.09375 \nQ 47.21875 7.46875 41.1875 3.015625 \nQ 35.15625 -1.421875 24.609375 -1.421875 \nQ 20.21875 -1.421875 15.453125 -0.5625 \nQ 10.6875 0.296875 5.421875 2 \nL 5.421875 11.28125 \nQ 10.40625 8.6875 15.234375 7.390625 \nQ 20.0625 6.109375 24.8125 6.109375 \nQ 31.15625 6.109375 34.5625 8.28125 \nQ 37.984375 10.453125 37.984375 14.40625 \nQ 37.984375 18.0625 35.515625 20.015625 \nQ 33.0625 21.96875 24.703125 23.78125 \nL 21.578125 24.515625 \nQ 13.234375 26.265625 9.515625 29.90625 \nQ 5.8125 33.546875 5.8125 39.890625 \nQ 5.8125 47.609375 11.28125 51.796875 \nQ 16.75 56 26.8125 56 \nQ 31.78125 56 36.171875 55.265625 \nQ 40.578125 54.546875 44.28125 53.078125 \nz\n\" id=\"DejaVuSans-115\"/>\n     </defs>\n     <g transform=\"translate(170.634375 23.798438)scale(0.1 -0.1)\">\n      <use xlink:href=\"#DejaVuSans-116\"/>\n      <use x=\"39.208984\" xlink:href=\"#DejaVuSans-114\"/>\n      <use x=\"80.322266\" xlink:href=\"#DejaVuSans-97\"/>\n      <use x=\"141.601562\" xlink:href=\"#DejaVuSans-105\"/>\n      <use x=\"169.384766\" xlink:href=\"#DejaVuSans-110\"/>\n      <use x=\"232.763672\" xlink:href=\"#DejaVuSans-32\"/>\n      <use x=\"264.550781\" xlink:href=\"#DejaVuSans-108\"/>\n      <use x=\"292.333984\" xlink:href=\"#DejaVuSans-111\"/>\n      <use x=\"353.515625\" xlink:href=\"#DejaVuSans-115\"/>\n      <use x=\"405.615234\" xlink:href=\"#DejaVuSans-115\"/>\n     </g>\n    </g>\n    <g id=\"line2d_26\">\n     <path d=\"M 142.634375 34.976562 \nL 162.634375 34.976562 \n\" style=\"fill:none;stroke:#bf00bf;stroke-dasharray:5.55,2.4;stroke-dashoffset:0;stroke-width:1.5;\"/>\n    </g>\n    <g id=\"line2d_27\"/>\n    <g id=\"text_13\">\n     <!-- train acc -->\n     <g transform=\"translate(170.634375 38.476562)scale(0.1 -0.1)\">\n      <use xlink:href=\"#DejaVuSans-116\"/>\n      <use x=\"39.208984\" xlink:href=\"#DejaVuSans-114\"/>\n      <use x=\"80.322266\" xlink:href=\"#DejaVuSans-97\"/>\n      <use x=\"141.601562\" xlink:href=\"#DejaVuSans-105\"/>\n      <use x=\"169.384766\" xlink:href=\"#DejaVuSans-110\"/>\n      <use x=\"232.763672\" xlink:href=\"#DejaVuSans-32\"/>\n      <use x=\"264.550781\" xlink:href=\"#DejaVuSans-97\"/>\n      <use x=\"325.830078\" xlink:href=\"#DejaVuSans-99\"/>\n      <use x=\"380.810547\" xlink:href=\"#DejaVuSans-99\"/>\n     </g>\n    </g>\n    <g id=\"line2d_28\">\n     <path d=\"M 142.634375 49.654688 \nL 162.634375 49.654688 \n\" style=\"fill:none;stroke:#008000;stroke-dasharray:9.6,2.4,1.5,2.4;stroke-dashoffset:0;stroke-width:1.5;\"/>\n    </g>\n    <g id=\"line2d_29\"/>\n    <g id=\"text_14\">\n     <!-- test acc -->\n     <g transform=\"translate(170.634375 53.154688)scale(0.1 -0.1)\">\n      <use xlink:href=\"#DejaVuSans-116\"/>\n      <use x=\"39.208984\" xlink:href=\"#DejaVuSans-101\"/>\n      <use x=\"100.732422\" xlink:href=\"#DejaVuSans-115\"/>\n      <use x=\"152.832031\" xlink:href=\"#DejaVuSans-116\"/>\n      <use x=\"192.041016\" xlink:href=\"#DejaVuSans-32\"/>\n      <use x=\"223.828125\" xlink:href=\"#DejaVuSans-97\"/>\n      <use x=\"285.107422\" xlink:href=\"#DejaVuSans-99\"/>\n      <use x=\"340.087891\" xlink:href=\"#DejaVuSans-99\"/>\n     </g>\n    </g>\n   </g>\n  </g>\n </g>\n <defs>\n  <clipPath id=\"p0b19284a70\">\n   <rect height=\"135.9\" width=\"195.3\" x=\"30.103125\" y=\"7.2\"/>\n  </clipPath>\n </defs>\n</svg>\n"
          },
          "metadata": {
            "needs_background": "light"
          }
        }
      ]
    },
    {
      "cell_type": "markdown",
      "source": [
        "## 7.3. Network in Network (NiN)\n"
      ],
      "metadata": {
        "id": "dUuyLQ8aRRyW"
      }
    },
    {
      "cell_type": "markdown",
      "source": [
        "### 7.3.1. NiN Blocks\n"
      ],
      "metadata": {
        "id": "jaiQdQCpRUS1"
      }
    },
    {
      "cell_type": "code",
      "source": [
        "def nin_block(in_channels, out_channels, kernel_size, strides, padding):\n",
        "    return nn.Sequential(\n",
        "        nn.Conv2d(in_channels, out_channels, kernel_size, strides, padding),\n",
        "        nn.ReLU(),\n",
        "        nn.Conv2d(out_channels, out_channels, kernel_size=1), nn.ReLU(),\n",
        "        nn.Conv2d(out_channels, out_channels, kernel_size=1), nn.ReLU())"
      ],
      "metadata": {
        "id": "2HN1SSrCROss"
      },
      "execution_count": 12,
      "outputs": []
    },
    {
      "cell_type": "markdown",
      "source": [
        "### 7.3.2. NiN Model"
      ],
      "metadata": {
        "id": "6tm6ObvMRcET"
      }
    },
    {
      "cell_type": "code",
      "source": [
        "net = nn.Sequential(\n",
        "    nin_block(1, 96, kernel_size=11, strides=4, padding=0),\n",
        "    nn.MaxPool2d(3, stride=2),\n",
        "    nin_block(96, 256, kernel_size=5, strides=1, padding=2),\n",
        "    nn.MaxPool2d(3, stride=2),\n",
        "    nin_block(256, 384, kernel_size=3, strides=1, padding=1),\n",
        "    nn.MaxPool2d(3, stride=2),\n",
        "    nn.Dropout(0.5),\n",
        "    # 10 label classes\n",
        "    nin_block(384, 10, kernel_size=3, strides=1, padding=1),\n",
        "    nn.AdaptiveAvgPool2d((1, 1)),\n",
        "    # Transform the four-dimensional output into two-dimensional output with a shape of (batch size, 10)\n",
        "    nn.Flatten())"
      ],
      "metadata": {
        "id": "0KxM6WhpRbOH"
      },
      "execution_count": 13,
      "outputs": []
    },
    {
      "cell_type": "markdown",
      "source": [
        "### 7.3.3. Training\n"
      ],
      "metadata": {
        "id": "UJhJcIPzRj3A"
      }
    },
    {
      "cell_type": "code",
      "source": [
        "lr, num_epochs, batch_size = 0.1, 10, 128\n",
        "train_iter, test_iter = d2l.load_data_fashion_mnist(batch_size, resize=224)\n",
        "d2l.train_ch6(net, train_iter, test_iter, num_epochs, lr, d2l.try_gpu())"
      ],
      "metadata": {
        "colab": {
          "base_uri": "https://localhost:8080/",
          "height": 262
        },
        "id": "Bilgd4TsRiee",
        "outputId": "c9e6527e-2124-4bc1-d1ed-0a7326df1224"
      },
      "execution_count": null,
      "outputs": [
        {
          "output_type": "display_data",
          "data": {
            "text/plain": [
              "<Figure size 252x180 with 1 Axes>"
            ],
            "image/svg+xml": "<?xml version=\"1.0\" encoding=\"utf-8\" standalone=\"no\"?>\n<!DOCTYPE svg PUBLIC \"-//W3C//DTD SVG 1.1//EN\"\n  \"http://www.w3.org/Graphics/SVG/1.1/DTD/svg11.dtd\">\n<!-- Created with matplotlib (https://matplotlib.org/) -->\n<svg height=\"180.65625pt\" version=\"1.1\" viewBox=\"0 0 238.965625 180.65625\" width=\"238.965625pt\" xmlns=\"http://www.w3.org/2000/svg\" xmlns:xlink=\"http://www.w3.org/1999/xlink\">\n <defs>\n  <style type=\"text/css\">\n*{stroke-linecap:butt;stroke-linejoin:round;}\n  </style>\n </defs>\n <g id=\"figure_1\">\n  <g id=\"patch_1\">\n   <path d=\"M 0 180.65625 \nL 238.965625 180.65625 \nL 238.965625 0 \nL 0 0 \nz\n\" style=\"fill:none;\"/>\n  </g>\n  <g id=\"axes_1\">\n   <g id=\"patch_2\">\n    <path d=\"M 30.103125 143.1 \nL 225.403125 143.1 \nL 225.403125 7.2 \nL 30.103125 7.2 \nz\n\" style=\"fill:#ffffff;\"/>\n   </g>\n   <g id=\"matplotlib.axis_1\">\n    <g id=\"xtick_1\">\n     <g id=\"line2d_1\">\n      <path clip-path=\"url(#pe6fcefeb40)\" d=\"M 30.103125 143.1 \nL 30.103125 7.2 \n\" style=\"fill:none;stroke:#b0b0b0;stroke-linecap:square;stroke-width:0.8;\"/>\n     </g>\n     <g id=\"line2d_2\">\n      <defs>\n       <path d=\"M 0 0 \nL 0 3.5 \n\" id=\"mfa328e8afd\" style=\"stroke:#000000;stroke-width:0.8;\"/>\n      </defs>\n      <g>\n       <use style=\"stroke:#000000;stroke-width:0.8;\" x=\"30.103125\" xlink:href=\"#mfa328e8afd\" y=\"143.1\"/>\n      </g>\n     </g>\n     <g id=\"text_1\">\n      <!-- 0 -->\n      <defs>\n       <path d=\"M 31.78125 66.40625 \nQ 24.171875 66.40625 20.328125 58.90625 \nQ 16.5 51.421875 16.5 36.375 \nQ 16.5 21.390625 20.328125 13.890625 \nQ 24.171875 6.390625 31.78125 6.390625 \nQ 39.453125 6.390625 43.28125 13.890625 \nQ 47.125 21.390625 47.125 36.375 \nQ 47.125 51.421875 43.28125 58.90625 \nQ 39.453125 66.40625 31.78125 66.40625 \nz\nM 31.78125 74.21875 \nQ 44.046875 74.21875 50.515625 64.515625 \nQ 56.984375 54.828125 56.984375 36.375 \nQ 56.984375 17.96875 50.515625 8.265625 \nQ 44.046875 -1.421875 31.78125 -1.421875 \nQ 19.53125 -1.421875 13.0625 8.265625 \nQ 6.59375 17.96875 6.59375 36.375 \nQ 6.59375 54.828125 13.0625 64.515625 \nQ 19.53125 74.21875 31.78125 74.21875 \nz\n\" id=\"DejaVuSans-48\"/>\n      </defs>\n      <g transform=\"translate(26.921875 157.698438)scale(0.1 -0.1)\">\n       <use xlink:href=\"#DejaVuSans-48\"/>\n      </g>\n     </g>\n    </g>\n    <g id=\"xtick_2\">\n     <g id=\"line2d_3\">\n      <path clip-path=\"url(#pe6fcefeb40)\" d=\"M 69.163125 143.1 \nL 69.163125 7.2 \n\" style=\"fill:none;stroke:#b0b0b0;stroke-linecap:square;stroke-width:0.8;\"/>\n     </g>\n     <g id=\"line2d_4\">\n      <g>\n       <use style=\"stroke:#000000;stroke-width:0.8;\" x=\"69.163125\" xlink:href=\"#mfa328e8afd\" y=\"143.1\"/>\n      </g>\n     </g>\n     <g id=\"text_2\">\n      <!-- 2 -->\n      <defs>\n       <path d=\"M 19.1875 8.296875 \nL 53.609375 8.296875 \nL 53.609375 0 \nL 7.328125 0 \nL 7.328125 8.296875 \nQ 12.9375 14.109375 22.625 23.890625 \nQ 32.328125 33.6875 34.8125 36.53125 \nQ 39.546875 41.84375 41.421875 45.53125 \nQ 43.3125 49.21875 43.3125 52.78125 \nQ 43.3125 58.59375 39.234375 62.25 \nQ 35.15625 65.921875 28.609375 65.921875 \nQ 23.96875 65.921875 18.8125 64.3125 \nQ 13.671875 62.703125 7.8125 59.421875 \nL 7.8125 69.390625 \nQ 13.765625 71.78125 18.9375 73 \nQ 24.125 74.21875 28.421875 74.21875 \nQ 39.75 74.21875 46.484375 68.546875 \nQ 53.21875 62.890625 53.21875 53.421875 \nQ 53.21875 48.921875 51.53125 44.890625 \nQ 49.859375 40.875 45.40625 35.40625 \nQ 44.1875 33.984375 37.640625 27.21875 \nQ 31.109375 20.453125 19.1875 8.296875 \nz\n\" id=\"DejaVuSans-50\"/>\n      </defs>\n      <g transform=\"translate(65.981875 157.698438)scale(0.1 -0.1)\">\n       <use xlink:href=\"#DejaVuSans-50\"/>\n      </g>\n     </g>\n    </g>\n    <g id=\"xtick_3\">\n     <g id=\"line2d_5\">\n      <path clip-path=\"url(#pe6fcefeb40)\" d=\"M 108.223125 143.1 \nL 108.223125 7.2 \n\" style=\"fill:none;stroke:#b0b0b0;stroke-linecap:square;stroke-width:0.8;\"/>\n     </g>\n     <g id=\"line2d_6\">\n      <g>\n       <use style=\"stroke:#000000;stroke-width:0.8;\" x=\"108.223125\" xlink:href=\"#mfa328e8afd\" y=\"143.1\"/>\n      </g>\n     </g>\n     <g id=\"text_3\">\n      <!-- 4 -->\n      <defs>\n       <path d=\"M 37.796875 64.3125 \nL 12.890625 25.390625 \nL 37.796875 25.390625 \nz\nM 35.203125 72.90625 \nL 47.609375 72.90625 \nL 47.609375 25.390625 \nL 58.015625 25.390625 \nL 58.015625 17.1875 \nL 47.609375 17.1875 \nL 47.609375 0 \nL 37.796875 0 \nL 37.796875 17.1875 \nL 4.890625 17.1875 \nL 4.890625 26.703125 \nz\n\" id=\"DejaVuSans-52\"/>\n      </defs>\n      <g transform=\"translate(105.041875 157.698438)scale(0.1 -0.1)\">\n       <use xlink:href=\"#DejaVuSans-52\"/>\n      </g>\n     </g>\n    </g>\n    <g id=\"xtick_4\">\n     <g id=\"line2d_7\">\n      <path clip-path=\"url(#pe6fcefeb40)\" d=\"M 147.283125 143.1 \nL 147.283125 7.2 \n\" style=\"fill:none;stroke:#b0b0b0;stroke-linecap:square;stroke-width:0.8;\"/>\n     </g>\n     <g id=\"line2d_8\">\n      <g>\n       <use style=\"stroke:#000000;stroke-width:0.8;\" x=\"147.283125\" xlink:href=\"#mfa328e8afd\" y=\"143.1\"/>\n      </g>\n     </g>\n     <g id=\"text_4\">\n      <!-- 6 -->\n      <defs>\n       <path d=\"M 33.015625 40.375 \nQ 26.375 40.375 22.484375 35.828125 \nQ 18.609375 31.296875 18.609375 23.390625 \nQ 18.609375 15.53125 22.484375 10.953125 \nQ 26.375 6.390625 33.015625 6.390625 \nQ 39.65625 6.390625 43.53125 10.953125 \nQ 47.40625 15.53125 47.40625 23.390625 \nQ 47.40625 31.296875 43.53125 35.828125 \nQ 39.65625 40.375 33.015625 40.375 \nz\nM 52.59375 71.296875 \nL 52.59375 62.3125 \nQ 48.875 64.0625 45.09375 64.984375 \nQ 41.3125 65.921875 37.59375 65.921875 \nQ 27.828125 65.921875 22.671875 59.328125 \nQ 17.53125 52.734375 16.796875 39.40625 \nQ 19.671875 43.65625 24.015625 45.921875 \nQ 28.375 48.1875 33.59375 48.1875 \nQ 44.578125 48.1875 50.953125 41.515625 \nQ 57.328125 34.859375 57.328125 23.390625 \nQ 57.328125 12.15625 50.6875 5.359375 \nQ 44.046875 -1.421875 33.015625 -1.421875 \nQ 20.359375 -1.421875 13.671875 8.265625 \nQ 6.984375 17.96875 6.984375 36.375 \nQ 6.984375 53.65625 15.1875 63.9375 \nQ 23.390625 74.21875 37.203125 74.21875 \nQ 40.921875 74.21875 44.703125 73.484375 \nQ 48.484375 72.75 52.59375 71.296875 \nz\n\" id=\"DejaVuSans-54\"/>\n      </defs>\n      <g transform=\"translate(144.101875 157.698438)scale(0.1 -0.1)\">\n       <use xlink:href=\"#DejaVuSans-54\"/>\n      </g>\n     </g>\n    </g>\n    <g id=\"xtick_5\">\n     <g id=\"line2d_9\">\n      <path clip-path=\"url(#pe6fcefeb40)\" d=\"M 186.343125 143.1 \nL 186.343125 7.2 \n\" style=\"fill:none;stroke:#b0b0b0;stroke-linecap:square;stroke-width:0.8;\"/>\n     </g>\n     <g id=\"line2d_10\">\n      <g>\n       <use style=\"stroke:#000000;stroke-width:0.8;\" x=\"186.343125\" xlink:href=\"#mfa328e8afd\" y=\"143.1\"/>\n      </g>\n     </g>\n     <g id=\"text_5\">\n      <!-- 8 -->\n      <defs>\n       <path d=\"M 31.78125 34.625 \nQ 24.75 34.625 20.71875 30.859375 \nQ 16.703125 27.09375 16.703125 20.515625 \nQ 16.703125 13.921875 20.71875 10.15625 \nQ 24.75 6.390625 31.78125 6.390625 \nQ 38.8125 6.390625 42.859375 10.171875 \nQ 46.921875 13.96875 46.921875 20.515625 \nQ 46.921875 27.09375 42.890625 30.859375 \nQ 38.875 34.625 31.78125 34.625 \nz\nM 21.921875 38.8125 \nQ 15.578125 40.375 12.03125 44.71875 \nQ 8.5 49.078125 8.5 55.328125 \nQ 8.5 64.0625 14.71875 69.140625 \nQ 20.953125 74.21875 31.78125 74.21875 \nQ 42.671875 74.21875 48.875 69.140625 \nQ 55.078125 64.0625 55.078125 55.328125 \nQ 55.078125 49.078125 51.53125 44.71875 \nQ 48 40.375 41.703125 38.8125 \nQ 48.828125 37.15625 52.796875 32.3125 \nQ 56.78125 27.484375 56.78125 20.515625 \nQ 56.78125 9.90625 50.3125 4.234375 \nQ 43.84375 -1.421875 31.78125 -1.421875 \nQ 19.734375 -1.421875 13.25 4.234375 \nQ 6.78125 9.90625 6.78125 20.515625 \nQ 6.78125 27.484375 10.78125 32.3125 \nQ 14.796875 37.15625 21.921875 38.8125 \nz\nM 18.3125 54.390625 \nQ 18.3125 48.734375 21.84375 45.5625 \nQ 25.390625 42.390625 31.78125 42.390625 \nQ 38.140625 42.390625 41.71875 45.5625 \nQ 45.3125 48.734375 45.3125 54.390625 \nQ 45.3125 60.0625 41.71875 63.234375 \nQ 38.140625 66.40625 31.78125 66.40625 \nQ 25.390625 66.40625 21.84375 63.234375 \nQ 18.3125 60.0625 18.3125 54.390625 \nz\n\" id=\"DejaVuSans-56\"/>\n      </defs>\n      <g transform=\"translate(183.161875 157.698438)scale(0.1 -0.1)\">\n       <use xlink:href=\"#DejaVuSans-56\"/>\n      </g>\n     </g>\n    </g>\n    <g id=\"xtick_6\">\n     <g id=\"line2d_11\">\n      <path clip-path=\"url(#pe6fcefeb40)\" d=\"M 225.403125 143.1 \nL 225.403125 7.2 \n\" style=\"fill:none;stroke:#b0b0b0;stroke-linecap:square;stroke-width:0.8;\"/>\n     </g>\n     <g id=\"line2d_12\">\n      <g>\n       <use style=\"stroke:#000000;stroke-width:0.8;\" x=\"225.403125\" xlink:href=\"#mfa328e8afd\" y=\"143.1\"/>\n      </g>\n     </g>\n     <g id=\"text_6\">\n      <!-- 10 -->\n      <defs>\n       <path d=\"M 12.40625 8.296875 \nL 28.515625 8.296875 \nL 28.515625 63.921875 \nL 10.984375 60.40625 \nL 10.984375 69.390625 \nL 28.421875 72.90625 \nL 38.28125 72.90625 \nL 38.28125 8.296875 \nL 54.390625 8.296875 \nL 54.390625 0 \nL 12.40625 0 \nz\n\" id=\"DejaVuSans-49\"/>\n      </defs>\n      <g transform=\"translate(219.040625 157.698438)scale(0.1 -0.1)\">\n       <use xlink:href=\"#DejaVuSans-49\"/>\n       <use x=\"63.623047\" xlink:href=\"#DejaVuSans-48\"/>\n      </g>\n     </g>\n    </g>\n    <g id=\"text_7\">\n     <!-- epoch -->\n     <defs>\n      <path d=\"M 56.203125 29.59375 \nL 56.203125 25.203125 \nL 14.890625 25.203125 \nQ 15.484375 15.921875 20.484375 11.0625 \nQ 25.484375 6.203125 34.421875 6.203125 \nQ 39.59375 6.203125 44.453125 7.46875 \nQ 49.3125 8.734375 54.109375 11.28125 \nL 54.109375 2.78125 \nQ 49.265625 0.734375 44.1875 -0.34375 \nQ 39.109375 -1.421875 33.890625 -1.421875 \nQ 20.796875 -1.421875 13.15625 6.1875 \nQ 5.515625 13.8125 5.515625 26.8125 \nQ 5.515625 40.234375 12.765625 48.109375 \nQ 20.015625 56 32.328125 56 \nQ 43.359375 56 49.78125 48.890625 \nQ 56.203125 41.796875 56.203125 29.59375 \nz\nM 47.21875 32.234375 \nQ 47.125 39.59375 43.09375 43.984375 \nQ 39.0625 48.390625 32.421875 48.390625 \nQ 24.90625 48.390625 20.390625 44.140625 \nQ 15.875 39.890625 15.1875 32.171875 \nz\n\" id=\"DejaVuSans-101\"/>\n      <path d=\"M 18.109375 8.203125 \nL 18.109375 -20.796875 \nL 9.078125 -20.796875 \nL 9.078125 54.6875 \nL 18.109375 54.6875 \nL 18.109375 46.390625 \nQ 20.953125 51.265625 25.265625 53.625 \nQ 29.59375 56 35.59375 56 \nQ 45.5625 56 51.78125 48.09375 \nQ 58.015625 40.1875 58.015625 27.296875 \nQ 58.015625 14.40625 51.78125 6.484375 \nQ 45.5625 -1.421875 35.59375 -1.421875 \nQ 29.59375 -1.421875 25.265625 0.953125 \nQ 20.953125 3.328125 18.109375 8.203125 \nz\nM 48.6875 27.296875 \nQ 48.6875 37.203125 44.609375 42.84375 \nQ 40.53125 48.484375 33.40625 48.484375 \nQ 26.265625 48.484375 22.1875 42.84375 \nQ 18.109375 37.203125 18.109375 27.296875 \nQ 18.109375 17.390625 22.1875 11.75 \nQ 26.265625 6.109375 33.40625 6.109375 \nQ 40.53125 6.109375 44.609375 11.75 \nQ 48.6875 17.390625 48.6875 27.296875 \nz\n\" id=\"DejaVuSans-112\"/>\n      <path d=\"M 30.609375 48.390625 \nQ 23.390625 48.390625 19.1875 42.75 \nQ 14.984375 37.109375 14.984375 27.296875 \nQ 14.984375 17.484375 19.15625 11.84375 \nQ 23.34375 6.203125 30.609375 6.203125 \nQ 37.796875 6.203125 41.984375 11.859375 \nQ 46.1875 17.53125 46.1875 27.296875 \nQ 46.1875 37.015625 41.984375 42.703125 \nQ 37.796875 48.390625 30.609375 48.390625 \nz\nM 30.609375 56 \nQ 42.328125 56 49.015625 48.375 \nQ 55.71875 40.765625 55.71875 27.296875 \nQ 55.71875 13.875 49.015625 6.21875 \nQ 42.328125 -1.421875 30.609375 -1.421875 \nQ 18.84375 -1.421875 12.171875 6.21875 \nQ 5.515625 13.875 5.515625 27.296875 \nQ 5.515625 40.765625 12.171875 48.375 \nQ 18.84375 56 30.609375 56 \nz\n\" id=\"DejaVuSans-111\"/>\n      <path d=\"M 48.78125 52.59375 \nL 48.78125 44.1875 \nQ 44.96875 46.296875 41.140625 47.34375 \nQ 37.3125 48.390625 33.40625 48.390625 \nQ 24.65625 48.390625 19.8125 42.84375 \nQ 14.984375 37.3125 14.984375 27.296875 \nQ 14.984375 17.28125 19.8125 11.734375 \nQ 24.65625 6.203125 33.40625 6.203125 \nQ 37.3125 6.203125 41.140625 7.25 \nQ 44.96875 8.296875 48.78125 10.40625 \nL 48.78125 2.09375 \nQ 45.015625 0.34375 40.984375 -0.53125 \nQ 36.96875 -1.421875 32.421875 -1.421875 \nQ 20.0625 -1.421875 12.78125 6.34375 \nQ 5.515625 14.109375 5.515625 27.296875 \nQ 5.515625 40.671875 12.859375 48.328125 \nQ 20.21875 56 33.015625 56 \nQ 37.15625 56 41.109375 55.140625 \nQ 45.0625 54.296875 48.78125 52.59375 \nz\n\" id=\"DejaVuSans-99\"/>\n      <path d=\"M 54.890625 33.015625 \nL 54.890625 0 \nL 45.90625 0 \nL 45.90625 32.71875 \nQ 45.90625 40.484375 42.875 44.328125 \nQ 39.84375 48.1875 33.796875 48.1875 \nQ 26.515625 48.1875 22.3125 43.546875 \nQ 18.109375 38.921875 18.109375 30.90625 \nL 18.109375 0 \nL 9.078125 0 \nL 9.078125 75.984375 \nL 18.109375 75.984375 \nL 18.109375 46.1875 \nQ 21.34375 51.125 25.703125 53.5625 \nQ 30.078125 56 35.796875 56 \nQ 45.21875 56 50.046875 50.171875 \nQ 54.890625 44.34375 54.890625 33.015625 \nz\n\" id=\"DejaVuSans-104\"/>\n     </defs>\n     <g transform=\"translate(112.525 171.376563)scale(0.1 -0.1)\">\n      <use xlink:href=\"#DejaVuSans-101\"/>\n      <use x=\"61.523438\" xlink:href=\"#DejaVuSans-112\"/>\n      <use x=\"125\" xlink:href=\"#DejaVuSans-111\"/>\n      <use x=\"186.181641\" xlink:href=\"#DejaVuSans-99\"/>\n      <use x=\"241.162109\" xlink:href=\"#DejaVuSans-104\"/>\n     </g>\n    </g>\n   </g>\n   <g id=\"matplotlib.axis_2\">\n    <g id=\"ytick_1\">\n     <g id=\"line2d_13\">\n      <path clip-path=\"url(#pe6fcefeb40)\" d=\"M 30.103125 142.753022 \nL 225.403125 142.753022 \n\" style=\"fill:none;stroke:#b0b0b0;stroke-linecap:square;stroke-width:0.8;\"/>\n     </g>\n     <g id=\"line2d_14\">\n      <defs>\n       <path d=\"M 0 0 \nL -3.5 0 \n\" id=\"m6d72ffa4fe\" style=\"stroke:#000000;stroke-width:0.8;\"/>\n      </defs>\n      <g>\n       <use style=\"stroke:#000000;stroke-width:0.8;\" x=\"30.103125\" xlink:href=\"#m6d72ffa4fe\" y=\"142.753022\"/>\n      </g>\n     </g>\n     <g id=\"text_8\">\n      <!-- 0.0 -->\n      <defs>\n       <path d=\"M 10.6875 12.40625 \nL 21 12.40625 \nL 21 0 \nL 10.6875 0 \nz\n\" id=\"DejaVuSans-46\"/>\n      </defs>\n      <g transform=\"translate(7.2 146.552241)scale(0.1 -0.1)\">\n       <use xlink:href=\"#DejaVuSans-48\"/>\n       <use x=\"63.623047\" xlink:href=\"#DejaVuSans-46\"/>\n       <use x=\"95.410156\" xlink:href=\"#DejaVuSans-48\"/>\n      </g>\n     </g>\n    </g>\n    <g id=\"ytick_2\">\n     <g id=\"line2d_15\">\n      <path clip-path=\"url(#pe6fcefeb40)\" d=\"M 30.103125 114.676358 \nL 225.403125 114.676358 \n\" style=\"fill:none;stroke:#b0b0b0;stroke-linecap:square;stroke-width:0.8;\"/>\n     </g>\n     <g id=\"line2d_16\">\n      <g>\n       <use style=\"stroke:#000000;stroke-width:0.8;\" x=\"30.103125\" xlink:href=\"#m6d72ffa4fe\" y=\"114.676358\"/>\n      </g>\n     </g>\n     <g id=\"text_9\">\n      <!-- 0.5 -->\n      <defs>\n       <path d=\"M 10.796875 72.90625 \nL 49.515625 72.90625 \nL 49.515625 64.59375 \nL 19.828125 64.59375 \nL 19.828125 46.734375 \nQ 21.96875 47.46875 24.109375 47.828125 \nQ 26.265625 48.1875 28.421875 48.1875 \nQ 40.625 48.1875 47.75 41.5 \nQ 54.890625 34.8125 54.890625 23.390625 \nQ 54.890625 11.625 47.5625 5.09375 \nQ 40.234375 -1.421875 26.90625 -1.421875 \nQ 22.3125 -1.421875 17.546875 -0.640625 \nQ 12.796875 0.140625 7.71875 1.703125 \nL 7.71875 11.625 \nQ 12.109375 9.234375 16.796875 8.0625 \nQ 21.484375 6.890625 26.703125 6.890625 \nQ 35.15625 6.890625 40.078125 11.328125 \nQ 45.015625 15.765625 45.015625 23.390625 \nQ 45.015625 31 40.078125 35.4375 \nQ 35.15625 39.890625 26.703125 39.890625 \nQ 22.75 39.890625 18.8125 39.015625 \nQ 14.890625 38.140625 10.796875 36.28125 \nz\n\" id=\"DejaVuSans-53\"/>\n      </defs>\n      <g transform=\"translate(7.2 118.475576)scale(0.1 -0.1)\">\n       <use xlink:href=\"#DejaVuSans-48\"/>\n       <use x=\"63.623047\" xlink:href=\"#DejaVuSans-46\"/>\n       <use x=\"95.410156\" xlink:href=\"#DejaVuSans-53\"/>\n      </g>\n     </g>\n    </g>\n    <g id=\"ytick_3\">\n     <g id=\"line2d_17\">\n      <path clip-path=\"url(#pe6fcefeb40)\" d=\"M 30.103125 86.599693 \nL 225.403125 86.599693 \n\" style=\"fill:none;stroke:#b0b0b0;stroke-linecap:square;stroke-width:0.8;\"/>\n     </g>\n     <g id=\"line2d_18\">\n      <g>\n       <use style=\"stroke:#000000;stroke-width:0.8;\" x=\"30.103125\" xlink:href=\"#m6d72ffa4fe\" y=\"86.599693\"/>\n      </g>\n     </g>\n     <g id=\"text_10\">\n      <!-- 1.0 -->\n      <g transform=\"translate(7.2 90.398912)scale(0.1 -0.1)\">\n       <use xlink:href=\"#DejaVuSans-49\"/>\n       <use x=\"63.623047\" xlink:href=\"#DejaVuSans-46\"/>\n       <use x=\"95.410156\" xlink:href=\"#DejaVuSans-48\"/>\n      </g>\n     </g>\n    </g>\n    <g id=\"ytick_4\">\n     <g id=\"line2d_19\">\n      <path clip-path=\"url(#pe6fcefeb40)\" d=\"M 30.103125 58.523029 \nL 225.403125 58.523029 \n\" style=\"fill:none;stroke:#b0b0b0;stroke-linecap:square;stroke-width:0.8;\"/>\n     </g>\n     <g id=\"line2d_20\">\n      <g>\n       <use style=\"stroke:#000000;stroke-width:0.8;\" x=\"30.103125\" xlink:href=\"#m6d72ffa4fe\" y=\"58.523029\"/>\n      </g>\n     </g>\n     <g id=\"text_11\">\n      <!-- 1.5 -->\n      <g transform=\"translate(7.2 62.322247)scale(0.1 -0.1)\">\n       <use xlink:href=\"#DejaVuSans-49\"/>\n       <use x=\"63.623047\" xlink:href=\"#DejaVuSans-46\"/>\n       <use x=\"95.410156\" xlink:href=\"#DejaVuSans-53\"/>\n      </g>\n     </g>\n    </g>\n    <g id=\"ytick_5\">\n     <g id=\"line2d_21\">\n      <path clip-path=\"url(#pe6fcefeb40)\" d=\"M 30.103125 30.446364 \nL 225.403125 30.446364 \n\" style=\"fill:none;stroke:#b0b0b0;stroke-linecap:square;stroke-width:0.8;\"/>\n     </g>\n     <g id=\"line2d_22\">\n      <g>\n       <use style=\"stroke:#000000;stroke-width:0.8;\" x=\"30.103125\" xlink:href=\"#m6d72ffa4fe\" y=\"30.446364\"/>\n      </g>\n     </g>\n     <g id=\"text_12\">\n      <!-- 2.0 -->\n      <g transform=\"translate(7.2 34.245583)scale(0.1 -0.1)\">\n       <use xlink:href=\"#DejaVuSans-50\"/>\n       <use x=\"63.623047\" xlink:href=\"#DejaVuSans-46\"/>\n       <use x=\"95.410156\" xlink:href=\"#DejaVuSans-48\"/>\n      </g>\n     </g>\n    </g>\n   </g>\n   <g id=\"line2d_23\">\n    <path clip-path=\"url(#pe6fcefeb40)\" d=\"M 32.143573 13.377273 \nL 34.225662 13.410239 \nL 36.307752 13.456323 \nL 38.389841 13.525359 \nL 40.471931 13.644848 \nL 42.554021 13.82343 \nL 44.63611 14.141436 \nL 46.7182 14.542879 \nL 48.800289 15.301203 \nL 51.673573 28.009754 \nL 53.755662 31.952573 \nL 55.837752 33.565721 \nL 57.919841 35.997545 \nL 60.001931 36.265156 \nL 62.084021 39.169967 \nL 64.16611 42.671707 \nL 66.2482 46.472992 \nL 68.330289 49.906195 \nL 71.203573 82.576402 \nL 73.285662 84.482431 \nL 75.367752 85.619432 \n\" style=\"fill:none;stroke:#1f77b4;stroke-linecap:square;stroke-width:1.5;\"/>\n   </g>\n   <g id=\"line2d_24\">\n    <path clip-path=\"url(#pe6fcefeb40)\" d=\"M 32.143573 136.883244 \nL 34.225662 136.922727 \nL 36.307752 136.760409 \nL 38.389841 136.545447 \nL 40.471931 136.098853 \nL 42.554021 135.568613 \nL 44.63611 135.1272 \nL 46.7182 134.748979 \nL 48.800289 134.447009 \nL 51.673573 129.284997 \nL 53.755662 127.964517 \nL 55.837752 127.36935 \nL 57.919841 126.124179 \nL 60.001931 125.754357 \nL 62.084021 124.577769 \nL 64.16611 123.165788 \nL 66.2482 121.794231 \nL 68.330289 120.573432 \nL 71.203573 109.289148 \nL 73.285662 108.644262 \nL 75.367752 108.271369 \n\" style=\"fill:none;stroke:#bf00bf;stroke-dasharray:5.55,2.4;stroke-dashoffset:0;stroke-width:1.5;\"/>\n   </g>\n   <g id=\"line2d_25\">\n    <path clip-path=\"url(#pe6fcefeb40)\" d=\"M 49.633125 130.517212 \nL 69.163125 107.556116 \n\" style=\"fill:none;stroke:#008000;stroke-dasharray:9.6,2.4,1.5,2.4;stroke-dashoffset:0;stroke-width:1.5;\"/>\n   </g>\n   <g id=\"patch_3\">\n    <path d=\"M 30.103125 143.1 \nL 30.103125 7.2 \n\" style=\"fill:none;stroke:#000000;stroke-linecap:square;stroke-linejoin:miter;stroke-width:0.8;\"/>\n   </g>\n   <g id=\"patch_4\">\n    <path d=\"M 225.403125 143.1 \nL 225.403125 7.2 \n\" style=\"fill:none;stroke:#000000;stroke-linecap:square;stroke-linejoin:miter;stroke-width:0.8;\"/>\n   </g>\n   <g id=\"patch_5\">\n    <path d=\"M 30.103125 143.1 \nL 225.403125 143.1 \n\" style=\"fill:none;stroke:#000000;stroke-linecap:square;stroke-linejoin:miter;stroke-width:0.8;\"/>\n   </g>\n   <g id=\"patch_6\">\n    <path d=\"M 30.103125 7.2 \nL 225.403125 7.2 \n\" style=\"fill:none;stroke:#000000;stroke-linecap:square;stroke-linejoin:miter;stroke-width:0.8;\"/>\n   </g>\n   <g id=\"legend_1\">\n    <g id=\"patch_7\">\n     <path d=\"M 140.634375 59.234375 \nL 218.403125 59.234375 \nQ 220.403125 59.234375 220.403125 57.234375 \nL 220.403125 14.2 \nQ 220.403125 12.2 218.403125 12.2 \nL 140.634375 12.2 \nQ 138.634375 12.2 138.634375 14.2 \nL 138.634375 57.234375 \nQ 138.634375 59.234375 140.634375 59.234375 \nz\n\" style=\"fill:#ffffff;opacity:0.8;stroke:#cccccc;stroke-linejoin:miter;\"/>\n    </g>\n    <g id=\"line2d_26\">\n     <path d=\"M 142.634375 20.298438 \nL 162.634375 20.298438 \n\" style=\"fill:none;stroke:#1f77b4;stroke-linecap:square;stroke-width:1.5;\"/>\n    </g>\n    <g id=\"line2d_27\"/>\n    <g id=\"text_13\">\n     <!-- train loss -->\n     <defs>\n      <path d=\"M 18.3125 70.21875 \nL 18.3125 54.6875 \nL 36.8125 54.6875 \nL 36.8125 47.703125 \nL 18.3125 47.703125 \nL 18.3125 18.015625 \nQ 18.3125 11.328125 20.140625 9.421875 \nQ 21.96875 7.515625 27.59375 7.515625 \nL 36.8125 7.515625 \nL 36.8125 0 \nL 27.59375 0 \nQ 17.1875 0 13.234375 3.875 \nQ 9.28125 7.765625 9.28125 18.015625 \nL 9.28125 47.703125 \nL 2.6875 47.703125 \nL 2.6875 54.6875 \nL 9.28125 54.6875 \nL 9.28125 70.21875 \nz\n\" id=\"DejaVuSans-116\"/>\n      <path d=\"M 41.109375 46.296875 \nQ 39.59375 47.171875 37.8125 47.578125 \nQ 36.03125 48 33.890625 48 \nQ 26.265625 48 22.1875 43.046875 \nQ 18.109375 38.09375 18.109375 28.8125 \nL 18.109375 0 \nL 9.078125 0 \nL 9.078125 54.6875 \nL 18.109375 54.6875 \nL 18.109375 46.1875 \nQ 20.953125 51.171875 25.484375 53.578125 \nQ 30.03125 56 36.53125 56 \nQ 37.453125 56 38.578125 55.875 \nQ 39.703125 55.765625 41.0625 55.515625 \nz\n\" id=\"DejaVuSans-114\"/>\n      <path d=\"M 34.28125 27.484375 \nQ 23.390625 27.484375 19.1875 25 \nQ 14.984375 22.515625 14.984375 16.5 \nQ 14.984375 11.71875 18.140625 8.90625 \nQ 21.296875 6.109375 26.703125 6.109375 \nQ 34.1875 6.109375 38.703125 11.40625 \nQ 43.21875 16.703125 43.21875 25.484375 \nL 43.21875 27.484375 \nz\nM 52.203125 31.203125 \nL 52.203125 0 \nL 43.21875 0 \nL 43.21875 8.296875 \nQ 40.140625 3.328125 35.546875 0.953125 \nQ 30.953125 -1.421875 24.3125 -1.421875 \nQ 15.921875 -1.421875 10.953125 3.296875 \nQ 6 8.015625 6 15.921875 \nQ 6 25.140625 12.171875 29.828125 \nQ 18.359375 34.515625 30.609375 34.515625 \nL 43.21875 34.515625 \nL 43.21875 35.40625 \nQ 43.21875 41.609375 39.140625 45 \nQ 35.0625 48.390625 27.6875 48.390625 \nQ 23 48.390625 18.546875 47.265625 \nQ 14.109375 46.140625 10.015625 43.890625 \nL 10.015625 52.203125 \nQ 14.9375 54.109375 19.578125 55.046875 \nQ 24.21875 56 28.609375 56 \nQ 40.484375 56 46.34375 49.84375 \nQ 52.203125 43.703125 52.203125 31.203125 \nz\n\" id=\"DejaVuSans-97\"/>\n      <path d=\"M 9.421875 54.6875 \nL 18.40625 54.6875 \nL 18.40625 0 \nL 9.421875 0 \nz\nM 9.421875 75.984375 \nL 18.40625 75.984375 \nL 18.40625 64.59375 \nL 9.421875 64.59375 \nz\n\" id=\"DejaVuSans-105\"/>\n      <path d=\"M 54.890625 33.015625 \nL 54.890625 0 \nL 45.90625 0 \nL 45.90625 32.71875 \nQ 45.90625 40.484375 42.875 44.328125 \nQ 39.84375 48.1875 33.796875 48.1875 \nQ 26.515625 48.1875 22.3125 43.546875 \nQ 18.109375 38.921875 18.109375 30.90625 \nL 18.109375 0 \nL 9.078125 0 \nL 9.078125 54.6875 \nL 18.109375 54.6875 \nL 18.109375 46.1875 \nQ 21.34375 51.125 25.703125 53.5625 \nQ 30.078125 56 35.796875 56 \nQ 45.21875 56 50.046875 50.171875 \nQ 54.890625 44.34375 54.890625 33.015625 \nz\n\" id=\"DejaVuSans-110\"/>\n      <path id=\"DejaVuSans-32\"/>\n      <path d=\"M 9.421875 75.984375 \nL 18.40625 75.984375 \nL 18.40625 0 \nL 9.421875 0 \nz\n\" id=\"DejaVuSans-108\"/>\n      <path d=\"M 44.28125 53.078125 \nL 44.28125 44.578125 \nQ 40.484375 46.53125 36.375 47.5 \nQ 32.28125 48.484375 27.875 48.484375 \nQ 21.1875 48.484375 17.84375 46.4375 \nQ 14.5 44.390625 14.5 40.28125 \nQ 14.5 37.15625 16.890625 35.375 \nQ 19.28125 33.59375 26.515625 31.984375 \nL 29.59375 31.296875 \nQ 39.15625 29.25 43.1875 25.515625 \nQ 47.21875 21.78125 47.21875 15.09375 \nQ 47.21875 7.46875 41.1875 3.015625 \nQ 35.15625 -1.421875 24.609375 -1.421875 \nQ 20.21875 -1.421875 15.453125 -0.5625 \nQ 10.6875 0.296875 5.421875 2 \nL 5.421875 11.28125 \nQ 10.40625 8.6875 15.234375 7.390625 \nQ 20.0625 6.109375 24.8125 6.109375 \nQ 31.15625 6.109375 34.5625 8.28125 \nQ 37.984375 10.453125 37.984375 14.40625 \nQ 37.984375 18.0625 35.515625 20.015625 \nQ 33.0625 21.96875 24.703125 23.78125 \nL 21.578125 24.515625 \nQ 13.234375 26.265625 9.515625 29.90625 \nQ 5.8125 33.546875 5.8125 39.890625 \nQ 5.8125 47.609375 11.28125 51.796875 \nQ 16.75 56 26.8125 56 \nQ 31.78125 56 36.171875 55.265625 \nQ 40.578125 54.546875 44.28125 53.078125 \nz\n\" id=\"DejaVuSans-115\"/>\n     </defs>\n     <g transform=\"translate(170.634375 23.798438)scale(0.1 -0.1)\">\n      <use xlink:href=\"#DejaVuSans-116\"/>\n      <use x=\"39.208984\" xlink:href=\"#DejaVuSans-114\"/>\n      <use x=\"80.322266\" xlink:href=\"#DejaVuSans-97\"/>\n      <use x=\"141.601562\" xlink:href=\"#DejaVuSans-105\"/>\n      <use x=\"169.384766\" xlink:href=\"#DejaVuSans-110\"/>\n      <use x=\"232.763672\" xlink:href=\"#DejaVuSans-32\"/>\n      <use x=\"264.550781\" xlink:href=\"#DejaVuSans-108\"/>\n      <use x=\"292.333984\" xlink:href=\"#DejaVuSans-111\"/>\n      <use x=\"353.515625\" xlink:href=\"#DejaVuSans-115\"/>\n      <use x=\"405.615234\" xlink:href=\"#DejaVuSans-115\"/>\n     </g>\n    </g>\n    <g id=\"line2d_28\">\n     <path d=\"M 142.634375 34.976562 \nL 162.634375 34.976562 \n\" style=\"fill:none;stroke:#bf00bf;stroke-dasharray:5.55,2.4;stroke-dashoffset:0;stroke-width:1.5;\"/>\n    </g>\n    <g id=\"line2d_29\"/>\n    <g id=\"text_14\">\n     <!-- train acc -->\n     <g transform=\"translate(170.634375 38.476562)scale(0.1 -0.1)\">\n      <use xlink:href=\"#DejaVuSans-116\"/>\n      <use x=\"39.208984\" xlink:href=\"#DejaVuSans-114\"/>\n      <use x=\"80.322266\" xlink:href=\"#DejaVuSans-97\"/>\n      <use x=\"141.601562\" xlink:href=\"#DejaVuSans-105\"/>\n      <use x=\"169.384766\" xlink:href=\"#DejaVuSans-110\"/>\n      <use x=\"232.763672\" xlink:href=\"#DejaVuSans-32\"/>\n      <use x=\"264.550781\" xlink:href=\"#DejaVuSans-97\"/>\n      <use x=\"325.830078\" xlink:href=\"#DejaVuSans-99\"/>\n      <use x=\"380.810547\" xlink:href=\"#DejaVuSans-99\"/>\n     </g>\n    </g>\n    <g id=\"line2d_30\">\n     <path d=\"M 142.634375 49.654688 \nL 162.634375 49.654688 \n\" style=\"fill:none;stroke:#008000;stroke-dasharray:9.6,2.4,1.5,2.4;stroke-dashoffset:0;stroke-width:1.5;\"/>\n    </g>\n    <g id=\"line2d_31\"/>\n    <g id=\"text_15\">\n     <!-- test acc -->\n     <g transform=\"translate(170.634375 53.154688)scale(0.1 -0.1)\">\n      <use xlink:href=\"#DejaVuSans-116\"/>\n      <use x=\"39.208984\" xlink:href=\"#DejaVuSans-101\"/>\n      <use x=\"100.732422\" xlink:href=\"#DejaVuSans-115\"/>\n      <use x=\"152.832031\" xlink:href=\"#DejaVuSans-116\"/>\n      <use x=\"192.041016\" xlink:href=\"#DejaVuSans-32\"/>\n      <use x=\"223.828125\" xlink:href=\"#DejaVuSans-97\"/>\n      <use x=\"285.107422\" xlink:href=\"#DejaVuSans-99\"/>\n      <use x=\"340.087891\" xlink:href=\"#DejaVuSans-99\"/>\n     </g>\n    </g>\n   </g>\n  </g>\n </g>\n <defs>\n  <clipPath id=\"pe6fcefeb40\">\n   <rect height=\"135.9\" width=\"195.3\" x=\"30.103125\" y=\"7.2\"/>\n  </clipPath>\n </defs>\n</svg>\n"
          },
          "metadata": {}
        }
      ]
    },
    {
      "cell_type": "markdown",
      "source": [
        "## 7.4. Networks with Parallel Concatenations (GoogLeNet)"
      ],
      "metadata": {
        "id": "g1HTkt4PRq5k"
      }
    },
    {
      "cell_type": "markdown",
      "source": [
        "### 7.4.1. Inception Blocks\n"
      ],
      "metadata": {
        "id": "dECyQmvMRto1"
      }
    },
    {
      "cell_type": "markdown",
      "source": [
        "![image.png](data:image/png;base64,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)"
      ],
      "metadata": {
        "id": "nI5NofAvTI9v"
      }
    },
    {
      "cell_type": "code",
      "source": [
        "from torch.nn import functional as F\n",
        "\n",
        "class Inception(nn.Module):\n",
        "    # `c1`--`c4` are the number of output channels for each path\n",
        "    def __init__(self, in_channels, c1, c2, c3, c4, **kwargs):\n",
        "        super(Inception, self).__init__(**kwargs)\n",
        "        # Path 1 is a single 1 x 1 convolutional layer\n",
        "        self.p1_1 = nn.Conv2d(in_channels, c1, kernel_size=1)\n",
        "        # Path 2 is a 1 x 1 convolutional layer followed by a 3 x 3 convolutional layer\n",
        "        self.p2_1 = nn.Conv2d(in_channels, c2[0], kernel_size=1)\n",
        "        self.p2_2 = nn.Conv2d(c2[0], c2[1], kernel_size=3, padding=1)\n",
        "        # Path 3 is a 1 x 1 convolutional layer followed by a 5 x 5 convolutional layer\n",
        "        self.p3_1 = nn.Conv2d(in_channels, c3[0], kernel_size=1)\n",
        "        self.p3_2 = nn.Conv2d(c3[0], c3[1], kernel_size=5, padding=2)\n",
        "        # Path 4 is a 3 x 3 maximum pooling layer followed by a 1 x 1 convolutional layer\n",
        "        self.p4_1 = nn.MaxPool2d(kernel_size=3, stride=1, padding=1)\n",
        "        self.p4_2 = nn.Conv2d(in_channels, c4, kernel_size=1)\n",
        "\n",
        "    def forward(self, x):\n",
        "        p1 = F.relu(self.p1_1(x))\n",
        "        p2 = F.relu(self.p2_2(F.relu(self.p2_1(x))))\n",
        "        p3 = F.relu(self.p3_2(F.relu(self.p3_1(x))))\n",
        "        p4 = F.relu(self.p4_2(self.p4_1(x)))\n",
        "        # Concatenate the outputs on the channel dimension\n",
        "        return torch.cat((p1, p2, p3, p4), dim=1)"
      ],
      "metadata": {
        "id": "bCE06KD6RlVR"
      },
      "execution_count": null,
      "outputs": []
    },
    {
      "cell_type": "markdown",
      "source": [
        "### 7.4.2. GoogLeNet Model\n"
      ],
      "metadata": {
        "id": "pNsikcc4S0vT"
      }
    },
    {
      "cell_type": "markdown",
      "source": [
        "![image.png](data:image/png;base64,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)"
      ],
      "metadata": {
        "id": "5dnlV0yuTRQi"
      }
    },
    {
      "cell_type": "code",
      "source": [
        "b1 = nn.Sequential(nn.Conv2d(1, 64, kernel_size=7, stride=2, padding=3),\n",
        "                   nn.ReLU(),\n",
        "                   nn.MaxPool2d(kernel_size=3, stride=2, padding=1))"
      ],
      "metadata": {
        "id": "GZ1oBogASyIl"
      },
      "execution_count": null,
      "outputs": []
    },
    {
      "cell_type": "code",
      "source": [
        "b2 = nn.Sequential(nn.Conv2d(64, 64, kernel_size=1),\n",
        "                   nn.ReLU(),\n",
        "                   nn.Conv2d(64, 192, kernel_size=3, padding=1),\n",
        "                   nn.ReLU(),\n",
        "                   nn.MaxPool2d(kernel_size=3, stride=2, padding=1))"
      ],
      "metadata": {
        "id": "amlCoRodS3Yc"
      },
      "execution_count": null,
      "outputs": []
    },
    {
      "cell_type": "code",
      "source": [
        "b3 = nn.Sequential(Inception(192, 64, (96, 128), (16, 32), 32),\n",
        "                   Inception(256, 128, (128, 192), (32, 96), 64),\n",
        "                   nn.MaxPool2d(kernel_size=3, stride=2, padding=1))"
      ],
      "metadata": {
        "id": "UlpjzediS4TO"
      },
      "execution_count": null,
      "outputs": []
    },
    {
      "cell_type": "code",
      "source": [
        "b4 = nn.Sequential(Inception(480, 192, (96, 208), (16, 48), 64),\n",
        "                   Inception(512, 160, (112, 224), (24, 64), 64),\n",
        "                   Inception(512, 128, (128, 256), (24, 64), 64),\n",
        "                   Inception(512, 112, (144, 288), (32, 64), 64),\n",
        "                   Inception(528, 256, (160, 320), (32, 128), 128),\n",
        "                   nn.MaxPool2d(kernel_size=3, stride=2, padding=1))"
      ],
      "metadata": {
        "id": "FFj-xvbDS5M4"
      },
      "execution_count": null,
      "outputs": []
    },
    {
      "cell_type": "code",
      "source": [
        "b5 = nn.Sequential(Inception(832, 256, (160, 320), (32, 128), 128),\n",
        "                   Inception(832, 384, (192, 384), (48, 128), 128),\n",
        "                   nn.AdaptiveAvgPool2d((1,1)),\n",
        "                   nn.Flatten())\n",
        "\n",
        "net = nn.Sequential(b1, b2, b3, b4, b5, nn.Linear(1024, 10))"
      ],
      "metadata": {
        "id": "Z_-0KPkzS7xl"
      },
      "execution_count": null,
      "outputs": []
    },
    {
      "cell_type": "code",
      "source": [
        "X = torch.rand(size=(1, 1, 96, 96))\n",
        "for layer in net:\n",
        "    X = layer(X)\n",
        "    print(layer.__class__.__name__,'output shape:\\t', X.shape)"
      ],
      "metadata": {
        "id": "1fz4FRvbS8-W"
      },
      "execution_count": null,
      "outputs": []
    },
    {
      "cell_type": "markdown",
      "source": [
        "### 7.4.3. Training\n"
      ],
      "metadata": {
        "id": "kLHhALo8S-v-"
      }
    },
    {
      "cell_type": "code",
      "source": [
        "lr, num_epochs, batch_size = 0.1, 10, 128\n",
        "train_iter, test_iter = d2l.load_data_fashion_mnist(batch_size, resize=96)\n",
        "d2l.train_ch6(net, train_iter, test_iter, num_epochs, lr, d2l.try_gpu())"
      ],
      "metadata": {
        "id": "bSDdPStIS91k"
      },
      "execution_count": null,
      "outputs": []
    }
  ]
}