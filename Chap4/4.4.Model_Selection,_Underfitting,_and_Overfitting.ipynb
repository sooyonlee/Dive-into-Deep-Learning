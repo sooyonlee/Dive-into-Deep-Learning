{
  "nbformat": 4,
  "nbformat_minor": 0,
  "metadata": {
    "colab": {
      "name": "4.4. Model Selection, Underfitting, and Overfitting.ipynb",
      "provenance": []
    },
    "kernelspec": {
      "name": "python3",
      "display_name": "Python 3"
    },
    "language_info": {
      "name": "python"
    }
  },
  "cells": [
    {
      "cell_type": "markdown",
      "source": [
        "# 4.4. Model Selection, Underfitting, and Overfitting\n"
      ],
      "metadata": {
        "id": "HPxAs_PVddHU"
      }
    },
    {
      "cell_type": "markdown",
      "source": [
        "## 4.4.4. Polynomial Regression\n"
      ],
      "metadata": {
        "id": "6gOgzNBqGQdS"
      }
    },
    {
      "cell_type": "code",
      "source": [
        "import math\n",
        "import numpy as np\n",
        "import torch\n",
        "from torch import nn\n",
        "from d2l import torch as d2l"
      ],
      "metadata": {
        "id": "VJDDsQyx5bDI"
      },
      "execution_count": 2,
      "outputs": []
    },
    {
      "cell_type": "code",
      "source": [
        "max_degree = 20\n",
        "n_train, n_test = 100, 100  \n",
        "true_w = np.zeros(max_degree) \n",
        "true_w[0:4] = np.array([5, 1.2, -3.4, 5.6])\n",
        "\n",
        "features = np.random.normal(size=(n_train + n_test, 1))\n",
        "np.random.shuffle(features)\n",
        "poly_features = np.power(features, np.arange(max_degree).reshape(1, -1))\n",
        "for i in range(max_degree):\n",
        "    poly_features[:, i] /= math.gamma(i + 1)  \n",
        "labels = np.dot(poly_features, true_w)\n",
        "labels += np.random.normal(scale=0.1, size=labels.shape)"
      ],
      "metadata": {
        "id": "bCrueWC45kv7"
      },
      "execution_count": 6,
      "outputs": []
    },
    {
      "cell_type": "code",
      "source": [
        "# Convert from NumPy ndarrays to tensors\n",
        "true_w, features, poly_features, labels = [torch.tensor(x, dtype=\n",
        "    torch.float32) for x in [true_w, features, poly_features, labels]]\n",
        "\n",
        "features[:2], poly_features[:2, :], labels[:2]"
      ],
      "metadata": {
        "colab": {
          "base_uri": "https://localhost:8080/"
        },
        "id": "EnWH8MU2HMdk",
        "outputId": "bd98a932-4c6d-4865-c877-705862f586e6"
      },
      "execution_count": 7,
      "outputs": [
        {
          "output_type": "execute_result",
          "data": {
            "text/plain": [
              "(tensor([[0.5791],\n",
              "         [0.5143]]),\n",
              " tensor([[1.0000e+00, 5.7905e-01, 1.6765e-01, 3.2360e-02, 4.6845e-03, 5.4251e-04,\n",
              "          5.2357e-05, 4.3311e-06, 3.1349e-07, 2.0170e-08, 1.1679e-09, 6.1482e-11,\n",
              "          2.9668e-12, 1.3215e-13, 5.4658e-15, 2.1100e-16, 7.6362e-18, 2.6010e-19,\n",
              "          8.3674e-21, 2.5501e-22],\n",
              "         [1.0000e+00, 5.1426e-01, 1.3223e-01, 2.2667e-02, 2.9142e-03, 2.9973e-04,\n",
              "          2.5690e-05, 1.8874e-06, 1.2132e-07, 6.9325e-09, 3.5651e-10, 1.6667e-11,\n",
              "          7.1427e-13, 2.8256e-14, 1.0379e-15, 3.5584e-17, 1.1437e-18, 3.4598e-20,\n",
              "          9.8847e-22, 2.6754e-23]]),\n",
              " tensor([5.3413, 5.5354]))"
            ]
          },
          "metadata": {},
          "execution_count": 7
        }
      ]
    },
    {
      "cell_type": "markdown",
      "source": [
        "## 4.4.4.2. Training and Testing the Model\n"
      ],
      "metadata": {
        "id": "gdowOo6kHQ99"
      }
    },
    {
      "cell_type": "code",
      "source": [
        "def evaluate_loss(net, data_iter, loss):\n",
        "  metric = d2l.Accumulator(2)\n",
        "  for X,y in data_iter:\n",
        "    out = net(X)\n",
        "    y = y.reshape(out.shape)\n",
        "    metric.add(l.sum(), l.numel())\n",
        "  return metric[0]/ metric[1]"
      ],
      "metadata": {
        "id": "6anqZ4MlHVdr"
      },
      "execution_count": 8,
      "outputs": []
    },
    {
      "cell_type": "code",
      "source": [
        "def train(train_features, test_features, train_lables, test_labels, \n",
        "          num_epochs=400):\n",
        "  loss = nn.MSELoss(reduction=\"none\")\n",
        "  input_shape = train_features.shape[-1]\n",
        "  net = nn.Sequential(nn.Linear(input_shape, 1, bias=False))\n",
        "  batch_size = min(10, train_lables.shape[0])\n",
        "  train_iter = d2l.load_array((train_features, train_lables.reshape(-1,1)),batch_size)\n",
        "  test_iter = d2l.load_array((test_features, test_labels.reshape(-1,1)), batch_size, is_train=False)\n",
        "  trainer = torch.optim.SGD(net.parameters(), lr=0.01)\n",
        "  animator = d2l.Animator(xlabel='epoch', ylabel='loss', yscale='log',\n",
        "                            xlim=[1, num_epochs], ylim=[1e-3, 1e2],\n",
        "                            legend=['train', 'test'])\n",
        "  for epoch in range(num_epochs):\n",
        "    d2l.train_epoch_ch3(net, train_iter, loss, trainer)\n",
        "    if epoch == 0 or (epoch+1)%20 ==0:\n",
        "      animator.add(epoch + 1, (evaluate_loss(net, train_iter, loss),\n",
        "                                     evaluate_loss(net, test_iter, loss)))\n",
        "  print('weight:', net[0].weight.data.numpy())"
      ],
      "metadata": {
        "id": "rMv2y2zBHtei"
      },
      "execution_count": 10,
      "outputs": []
    },
    {
      "cell_type": "markdown",
      "source": [
        "## 4.4.4.3. Third-Order Polynomial Function Fitting (Normal)\n"
      ],
      "metadata": {
        "id": "fX5-VAIFKTkA"
      }
    },
    {
      "cell_type": "code",
      "source": [
        "train(poly_features[:n_train, :4], poly_features[n_train:, :4],\n",
        "      labels[:n_train], labels[n_train:])"
      ],
      "metadata": {
        "id": "UYSu5ZZuKVtp"
      },
      "execution_count": null,
      "outputs": []
    },
    {
      "cell_type": "markdown",
      "source": [
        "\n",
        "## 4.4.4.4. Linear Function Fitting (Underfitting)\n"
      ],
      "metadata": {
        "id": "2K46-sF6KgbQ"
      }
    },
    {
      "cell_type": "code",
      "source": [
        "# Pick the first two dimensions, i.e., 1, x, from the polynomial features\n",
        "train(poly_features[:n_train, :2], poly_features[n_train:, :2],\n",
        "      labels[:n_train], labels[n_train:])"
      ],
      "metadata": {
        "id": "mBlKOYreKaYY"
      },
      "execution_count": null,
      "outputs": []
    },
    {
      "cell_type": "markdown",
      "source": [
        "## 4.4.4.5. Higher-Order Polynomial Function Fitting (Overfitting)\n"
      ],
      "metadata": {
        "id": "qZbslNtkKkcI"
      }
    },
    {
      "cell_type": "code",
      "source": [
        "# Pick the first two dimensions, i.e., 1, x, from the polynomial features\n",
        "train(poly_features[:n_train, :2], poly_features[n_train:, :2],\n",
        "      labels[:n_train], labels[n_train:])"
      ],
      "metadata": {
        "id": "_-9b9UtCKeCi"
      },
      "execution_count": null,
      "outputs": []
    }
  ]
}