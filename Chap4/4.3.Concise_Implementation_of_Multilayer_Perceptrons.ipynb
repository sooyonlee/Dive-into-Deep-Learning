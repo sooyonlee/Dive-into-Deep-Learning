{
  "nbformat": 4,
  "nbformat_minor": 0,
  "metadata": {
    "colab": {
      "name": "4.3. Concise Implementation of Multilayer Perceptrons.ipynb",
      "provenance": []
    },
    "kernelspec": {
      "name": "python3",
      "display_name": "Python 3"
    },
    "language_info": {
      "name": "python"
    }
  },
  "cells": [
    {
      "cell_type": "markdown",
      "source": [
        "# 4.3. Concise Implementation of Multilayer Perceptrons"
      ],
      "metadata": {
        "id": "vVsU8_G-cNHl"
      }
    },
    {
      "cell_type": "code",
      "source": [
        "import torch\n",
        "from torch import nn\n",
        "from d2l import torch as d2l"
      ],
      "metadata": {
        "id": "VlGxg3_fcRRb"
      },
      "execution_count": 2,
      "outputs": []
    },
    {
      "cell_type": "markdown",
      "source": [
        "## 4.3.1. Model"
      ],
      "metadata": {
        "id": "GMAHNZ3CcYLa"
      }
    },
    {
      "cell_type": "code",
      "source": [
        "net = nn.Sequential(nn.Flatten(),\n",
        "                    nn.Linear(784,256),\n",
        "                    nn.ReLU(),\n",
        "                    nn.Linear(256,10))\n",
        "\n",
        "def init_weights(m):\n",
        "  if type(m) == nn.Linear:\n",
        "    nn.init.normal_(m.weight, std=0.01)\n",
        "\n",
        "net.apply(init_weights)"
      ],
      "metadata": {
        "colab": {
          "base_uri": "https://localhost:8080/"
        },
        "id": "8riTExOqcRT6",
        "outputId": "ced1ee3c-0746-4dca-8b7c-5c89f226f91a"
      },
      "execution_count": 3,
      "outputs": [
        {
          "output_type": "execute_result",
          "data": {
            "text/plain": [
              "Sequential(\n",
              "  (0): Flatten(start_dim=1, end_dim=-1)\n",
              "  (1): Linear(in_features=784, out_features=256, bias=True)\n",
              "  (2): ReLU()\n",
              "  (3): Linear(in_features=256, out_features=10, bias=True)\n",
              ")"
            ]
          },
          "metadata": {},
          "execution_count": 3
        }
      ]
    },
    {
      "cell_type": "code",
      "source": [
        "batch_size, lr, num_epochs = 256, 0.1, 10\n",
        "loss = nn.CrossEntropyLoss(reduction='none')\n",
        "trainer = torch.optim.SGD(net.parameters(), lr=lr)\n",
        "\n",
        "train_iter, test_iter = d2l.load_data_fashion_mnist(batch_size)\n",
        "d2l.train_ch3(net, train_iter, test_iter, loss, num_epochs, trainer)"
      ],
      "metadata": {
        "id": "E3hjmERbc05M"
      },
      "execution_count": null,
      "outputs": []
    }
  ]
}